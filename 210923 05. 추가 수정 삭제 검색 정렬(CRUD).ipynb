{
 "cells": [
  {
   "cell_type": "code",
   "execution_count": 1,
   "id": "0ccb50b6",
   "metadata": {},
   "outputs": [],
   "source": [
    "import numpy as np"
   ]
  },
  {
   "cell_type": "code",
   "execution_count": 17,
   "id": "07e8c418",
   "metadata": {},
   "outputs": [
    {
     "data": {
      "text/plain": [
       "array([11, 22, 33, 44, 55])"
      ]
     },
     "execution_count": 17,
     "metadata": {},
     "output_type": "execute_result"
    }
   ],
   "source": [
    "arr= np.array( [11,22,33,44,55] )\n",
    "arr"
   ]
  },
  {
   "cell_type": "markdown",
   "id": "d4bdad07",
   "metadata": {},
   "source": [
    "## 추가"
   ]
  },
  {
   "cell_type": "code",
   "execution_count": 10,
   "id": "c2e76f91",
   "metadata": {},
   "outputs": [],
   "source": [
    "arr = np.append( arr, [66,77] )"
   ]
  },
  {
   "cell_type": "code",
   "execution_count": 4,
   "id": "795393b8",
   "metadata": {},
   "outputs": [
    {
     "data": {
      "text/plain": [
       "array([11, 22, 33, 44, 55, 66, 77])"
      ]
     },
     "execution_count": 4,
     "metadata": {},
     "output_type": "execute_result"
    }
   ],
   "source": [
    "arr"
   ]
  },
  {
   "cell_type": "code",
   "execution_count": 11,
   "id": "4f8083ce",
   "metadata": {},
   "outputs": [
    {
     "data": {
      "text/plain": [
       "array([ 11, 100, 200,  22,  33,  44,  55,  66,  77])"
      ]
     },
     "execution_count": 11,
     "metadata": {},
     "output_type": "execute_result"
    }
   ],
   "source": [
    "np.insert(arr,1,[100,200])"
   ]
  },
  {
   "cell_type": "markdown",
   "id": "40248de7",
   "metadata": {},
   "source": [
    "## 수정 : 수정대상 = 수정값"
   ]
  },
  {
   "cell_type": "code",
   "execution_count": 12,
   "id": "db643fb4",
   "metadata": {},
   "outputs": [
    {
     "data": {
      "text/plain": [
       "array([100,  22,  33,  44,  55,  66,  77])"
      ]
     },
     "execution_count": 12,
     "metadata": {},
     "output_type": "execute_result"
    }
   ],
   "source": [
    "arr[0] = 100\n",
    "arr"
   ]
  },
  {
   "cell_type": "code",
   "execution_count": 13,
   "id": "89e2a2b1",
   "metadata": {},
   "outputs": [
    {
     "data": {
      "text/plain": [
       "array([ 100,   22,   33,   44,   55,   66, 1000])"
      ]
     },
     "execution_count": 13,
     "metadata": {},
     "output_type": "execute_result"
    }
   ],
   "source": [
    "arr[-1] = 1000\n",
    "arr"
   ]
  },
  {
   "cell_type": "code",
   "execution_count": 14,
   "id": "e86f2b44",
   "metadata": {},
   "outputs": [
    {
     "data": {
      "text/plain": [
       "array([ 100,    3,    3,    3,   55,   66, 1000])"
      ]
     },
     "execution_count": 14,
     "metadata": {},
     "output_type": "execute_result"
    }
   ],
   "source": [
    "arr [1:4] = 3\n",
    "arr"
   ]
  },
  {
   "cell_type": "code",
   "execution_count": 15,
   "id": "9818f8a8",
   "metadata": {},
   "outputs": [
    {
     "data": {
      "text/plain": [
       "array([ 100,    1,    2,    3,   55,   66, 1000])"
      ]
     },
     "execution_count": 15,
     "metadata": {},
     "output_type": "execute_result"
    }
   ],
   "source": [
    "arr [1:4] = [1,2,3]\n",
    "arr"
   ]
  },
  {
   "cell_type": "code",
   "execution_count": 16,
   "id": "05f0810a",
   "metadata": {},
   "outputs": [
    {
     "data": {
      "text/plain": [
       "array([ 102,    3,    4,    3,   55,   66, 1000])"
      ]
     },
     "execution_count": 16,
     "metadata": {},
     "output_type": "execute_result"
    }
   ],
   "source": [
    "arr[:3] = arr[:3]+2\n",
    "arr"
   ]
  },
  {
   "cell_type": "markdown",
   "id": "6ef8f2e6",
   "metadata": {},
   "source": [
    "****"
   ]
  },
  {
   "cell_type": "code",
   "execution_count": null,
   "id": "783382e2",
   "metadata": {},
   "outputs": [],
   "source": [
    "# 30 이상인 값을 기존의 값에 2를 더한 것으로 수정하시오.\n",
    "# [11,22,34,46,57]"
   ]
  },
  {
   "cell_type": "code",
   "execution_count": null,
   "id": "aa570ee6",
   "metadata": {},
   "outputs": [],
   "source": [
    "arr= np.array( [11,22,33,44,55] )\n",
    "arr"
   ]
  },
  {
   "cell_type": "code",
   "execution_count": 19,
   "id": "0c8b230c",
   "metadata": {},
   "outputs": [
    {
     "data": {
      "text/plain": [
       "array([11, 22, 35, 46, 57])"
      ]
     },
     "execution_count": 19,
     "metadata": {},
     "output_type": "execute_result"
    }
   ],
   "source": [
    "#1\n",
    "arr[2:] = arr[2:]+2\n",
    "arr"
   ]
  },
  {
   "cell_type": "code",
   "execution_count": null,
   "id": "a95bdc97",
   "metadata": {},
   "outputs": [],
   "source": [
    "#2\n",
    "arr[arr>=30] = arr[arr>=30]+2"
   ]
  },
  {
   "cell_type": "markdown",
   "id": "53f16a2e",
   "metadata": {},
   "source": [
    "******"
   ]
  },
  {
   "cell_type": "markdown",
   "id": "035c586c",
   "metadata": {},
   "source": [
    "## 삭제"
   ]
  },
  {
   "cell_type": "code",
   "execution_count": 21,
   "id": "8f15b709",
   "metadata": {},
   "outputs": [
    {
     "data": {
      "text/plain": [
       "array([11, 22, 33, 44, 55])"
      ]
     },
     "execution_count": 21,
     "metadata": {},
     "output_type": "execute_result"
    }
   ],
   "source": [
    "arr= np.array( [11,22,33,44,55] )\n",
    "arr"
   ]
  },
  {
   "cell_type": "code",
   "execution_count": 22,
   "id": "a1032977",
   "metadata": {},
   "outputs": [
    {
     "data": {
      "text/plain": [
       "array([22, 44, 55])"
      ]
     },
     "execution_count": 22,
     "metadata": {},
     "output_type": "execute_result"
    }
   ],
   "source": [
    "# arr = np.delete(arr,[0,2])\n",
    "np.delete(arr,[0,2])"
   ]
  },
  {
   "cell_type": "markdown",
   "id": "9697e7ec",
   "metadata": {},
   "source": [
    "## where 함수"
   ]
  },
  {
   "cell_type": "code",
   "execution_count": 26,
   "id": "6dd38c33",
   "metadata": {},
   "outputs": [
    {
     "data": {
      "text/plain": [
       "array([11, 22, 33, 44, 55])"
      ]
     },
     "execution_count": 26,
     "metadata": {},
     "output_type": "execute_result"
    }
   ],
   "source": [
    "arr= np.array( [11,22,33,44,55] )\n",
    "arr"
   ]
  },
  {
   "cell_type": "code",
   "execution_count": 27,
   "id": "621a7bb9",
   "metadata": {},
   "outputs": [
    {
     "data": {
      "text/plain": [
       "(array([0, 1], dtype=int64),)"
      ]
     },
     "execution_count": 27,
     "metadata": {},
     "output_type": "execute_result"
    }
   ],
   "source": [
    "np.where(arr<30) # 결과가 참인 index"
   ]
  },
  {
   "cell_type": "code",
   "execution_count": 28,
   "id": "43848c84",
   "metadata": {},
   "outputs": [
    {
     "data": {
      "text/plain": [
       "array(['B', 'B', 'A', 'A', 'A'], dtype='<U1')"
      ]
     },
     "execution_count": 28,
     "metadata": {},
     "output_type": "execute_result"
    }
   ],
   "source": [
    "np.where(arr<30,'B','A') # 참이면 B, 거짓이면A"
   ]
  },
  {
   "cell_type": "markdown",
   "id": "0f193708",
   "metadata": {},
   "source": [
    "## select 함수, 조건이 3개 이상인 경우"
   ]
  },
  {
   "cell_type": "code",
   "execution_count": 29,
   "id": "c466d45b",
   "metadata": {},
   "outputs": [
    {
     "data": {
      "text/plain": [
       "array(['C', 'C', 'B', 'B', 'A'], dtype='<U11')"
      ]
     },
     "execution_count": 29,
     "metadata": {},
     "output_type": "execute_result"
    }
   ],
   "source": [
    "conList=[arr<30, arr<50, arr>=50]\n",
    "choiceList = ['C','B','A']\n",
    "np.select(conList,choiceList)"
   ]
  },
  {
   "cell_type": "code",
   "execution_count": 32,
   "id": "f069415f",
   "metadata": {},
   "outputs": [
    {
     "data": {
      "text/plain": [
       "array([False, False, False,  True,  True])"
      ]
     },
     "execution_count": 32,
     "metadata": {},
     "output_type": "execute_result"
    }
   ],
   "source": [
    "arr >= 40"
   ]
  },
  {
   "cell_type": "code",
   "execution_count": 31,
   "id": "7775d4b1",
   "metadata": {},
   "outputs": [
    {
     "data": {
      "text/plain": [
       "array([11, 22, 33])"
      ]
     },
     "execution_count": 31,
     "metadata": {},
     "output_type": "execute_result"
    }
   ],
   "source": [
    "# 40 이상인 데이터를 삭제하세요\n",
    "#1\n",
    "np.delete(arr,arr>=40)"
   ]
  },
  {
   "cell_type": "code",
   "execution_count": 33,
   "id": "8f30cb19",
   "metadata": {},
   "outputs": [
    {
     "data": {
      "text/plain": [
       "(array([3, 4], dtype=int64),)"
      ]
     },
     "execution_count": 33,
     "metadata": {},
     "output_type": "execute_result"
    }
   ],
   "source": [
    "np.where(arr>=40)"
   ]
  },
  {
   "cell_type": "code",
   "execution_count": 34,
   "id": "bf804753",
   "metadata": {},
   "outputs": [],
   "source": [
    "#2\n",
    "arr = np.delete( arr, np.where(arr>=40) )\n"
   ]
  },
  {
   "cell_type": "markdown",
   "id": "c15e9fd9",
   "metadata": {},
   "source": [
    "## 정렬"
   ]
  },
  {
   "cell_type": "code",
   "execution_count": 35,
   "id": "b29ea99b",
   "metadata": {},
   "outputs": [
    {
     "data": {
      "text/plain": [
       "array([11, 22, 33, 44, 55])"
      ]
     },
     "execution_count": 35,
     "metadata": {},
     "output_type": "execute_result"
    }
   ],
   "source": [
    "arr= np.array( [11,22,33,44,55] )\n",
    "arr"
   ]
  },
  {
   "cell_type": "code",
   "execution_count": 36,
   "id": "831f1c3a",
   "metadata": {},
   "outputs": [],
   "source": [
    "arr[0] = 100"
   ]
  },
  {
   "cell_type": "code",
   "execution_count": 40,
   "id": "dbb8bdbb",
   "metadata": {},
   "outputs": [
    {
     "data": {
      "text/plain": [
       "array([ 22,  33,  44,  55, 100])"
      ]
     },
     "execution_count": 40,
     "metadata": {},
     "output_type": "execute_result"
    }
   ],
   "source": [
    "np.sort(arr)"
   ]
  },
  {
   "cell_type": "code",
   "execution_count": 38,
   "id": "d08fc7aa",
   "metadata": {},
   "outputs": [
    {
     "data": {
      "text/plain": [
       "array([100,  55,  44,  33,  22])"
      ]
     },
     "execution_count": 38,
     "metadata": {},
     "output_type": "execute_result"
    }
   ],
   "source": [
    "arr1 = np.sort(arr)\n",
    "arr1[::-1]"
   ]
  },
  {
   "cell_type": "code",
   "execution_count": 39,
   "id": "486c59a4",
   "metadata": {},
   "outputs": [
    {
     "data": {
      "text/plain": [
       "array([100,  55,  44,  33,  22])"
      ]
     },
     "execution_count": 39,
     "metadata": {},
     "output_type": "execute_result"
    }
   ],
   "source": [
    "np.sort(arr)[::-1]"
   ]
  },
  {
   "cell_type": "code",
   "execution_count": 41,
   "id": "0df2c4d5",
   "metadata": {},
   "outputs": [
    {
     "data": {
      "text/plain": [
       "array([1, 2, 3, 4, 0], dtype=int64)"
      ]
     },
     "execution_count": 41,
     "metadata": {},
     "output_type": "execute_result"
    }
   ],
   "source": [
    "# arg ==> index관련 함수\n",
    "np.argsort(arr) # 개체 오름차순 인덱스 출력"
   ]
  },
  {
   "cell_type": "code",
   "execution_count": 42,
   "id": "c89d0d8a",
   "metadata": {},
   "outputs": [
    {
     "data": {
      "text/plain": [
       "array([ 22,  33,  44,  55, 100])"
      ]
     },
     "execution_count": 42,
     "metadata": {},
     "output_type": "execute_result"
    }
   ],
   "source": [
    "# arr[[1, 2, 3, 4, 0]]  -> 복수개 선택 인덱싱\n",
    "arr[np.argsort(arr)]"
   ]
  },
  {
   "cell_type": "markdown",
   "id": "6caaef60",
   "metadata": {},
   "source": [
    "## 문자열 데이터 검색"
   ]
  },
  {
   "cell_type": "code",
   "execution_count": 43,
   "id": "41696618",
   "metadata": {},
   "outputs": [
    {
     "data": {
      "text/plain": [
       "array(['홍길동', '김철수', '이영철', '임꺽정', '이황'], dtype='<U3')"
      ]
     },
     "execution_count": 43,
     "metadata": {},
     "output_type": "execute_result"
    }
   ],
   "source": [
    "nameArr = np.array( ['홍길동', '김철수', '이영철', '임꺽정', '이황'])\n",
    "nameArr\n"
   ]
  },
  {
   "cell_type": "code",
   "execution_count": 44,
   "id": "2ad718c0",
   "metadata": {},
   "outputs": [
    {
     "data": {
      "text/plain": [
       "array(['홍길동'], dtype='<U3')"
      ]
     },
     "execution_count": 44,
     "metadata": {},
     "output_type": "execute_result"
    }
   ],
   "source": [
    "nameArr[ nameArr=='홍길동' ]"
   ]
  },
  {
   "cell_type": "code",
   "execution_count": 45,
   "id": "22d0cdf5",
   "metadata": {},
   "outputs": [
    {
     "data": {
      "text/plain": [
       "array([-1,  1,  2, -1, -1])"
      ]
     },
     "execution_count": 45,
     "metadata": {},
     "output_type": "execute_result"
    }
   ],
   "source": [
    "np.char.find( nameArr, '철' )"
   ]
  },
  {
   "cell_type": "code",
   "execution_count": 46,
   "id": "605431a7",
   "metadata": {},
   "outputs": [
    {
     "data": {
      "text/plain": [
       "array(['김철수', '이영철'], dtype='<U3')"
      ]
     },
     "execution_count": 46,
     "metadata": {},
     "output_type": "execute_result"
    }
   ],
   "source": [
    "nameArr[ np.char.find( nameArr, '철' ) >=0 ]"
   ]
  },
  {
   "cell_type": "code",
   "execution_count": null,
   "id": "1b7ed7e5",
   "metadata": {},
   "outputs": [],
   "source": []
  },
  {
   "cell_type": "code",
   "execution_count": null,
   "id": "7b116693",
   "metadata": {},
   "outputs": [],
   "source": []
  },
  {
   "cell_type": "code",
   "execution_count": null,
   "id": "35a841df",
   "metadata": {},
   "outputs": [],
   "source": []
  }
 ],
 "metadata": {
  "kernelspec": {
   "display_name": "Python 3",
   "language": "python",
   "name": "python3"
  },
  "language_info": {
   "codemirror_mode": {
    "name": "ipython",
    "version": 3
   },
   "file_extension": ".py",
   "mimetype": "text/x-python",
   "name": "python",
   "nbconvert_exporter": "python",
   "pygments_lexer": "ipython3",
   "version": "3.8.8"
  }
 },
 "nbformat": 4,
 "nbformat_minor": 5
}
