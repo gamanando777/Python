{
 "cells": [
  {
   "cell_type": "code",
   "execution_count": 1,
   "id": "c7145e4d",
   "metadata": {},
   "outputs": [],
   "source": [
    "import pandas as pd\n",
    "import numpy as np\n",
    "import matplotlib.pyplot as plt\n",
    "import matplotlib\n",
    "\n",
    "\n",
    "matplotlib.rcParams['font.family']='Malgun Gothic'\n",
    "matplotlib.rcParams['axes.unicode_minus'] = False"
   ]
  },
  {
   "cell_type": "code",
   "execution_count": 2,
   "id": "a8836fcd",
   "metadata": {},
   "outputs": [],
   "source": [
    "np.random.seed(1)\n",
    "math = np.random.randint( 30,101,size=100)\n",
    "#30~100 사이에 난수생성"
   ]
  },
  {
   "cell_type": "code",
   "execution_count": 3,
   "id": "64ece56e",
   "metadata": {
    "scrolled": true
   },
   "outputs": [
    {
     "data": {
      "image/png": "[encoded data removed]",
      "text/plain": [
       "<Figure size 432x288 with 1 Axes>"
      ]
     },
     "metadata": {
      "needs_background": "light"
     },
     "output_type": "display_data"
    }
   ],
   "source": [
    "\n",
    "plt.hist(math)\n",
    "plt.show()"
   ]
  },
  {
   "cell_type": "code",
   "execution_count": 4,
   "id": "49e7320a",
   "metadata": {},
   "outputs": [
    {
     "data": {
      "image/png": "[encoded data removed]",
      "text/plain": [
       "<Figure size 432x288 with 1 Axes>"
      ]
     },
     "metadata": {
      "needs_background": "light"
     },
     "output_type": "display_data"
    },
    {
     "name": "stdout",
     "output_type": "stream",
     "text": [
      "(array([12., 18.,  8., 18.,  8.,  5.,  5.,  6.,  8., 12.]), array([ 30.,  37.,  44.,  51.,  58.,  65.,  72.,  79.,  86.,  93., 100.]), <BarContainer object of 10 artists>)\n"
     ]
    }
   ],
   "source": [
    "plt.xlabel('계급')\n",
    "plt.ylabel('도수')\n",
    "h = plt.hist( math )\n",
    "plt.show()\n",
    "print( h )\n",
    "# 계급 사이에 도수가 몇개가 있다. "
   ]
  },
  {
   "cell_type": "code",
   "execution_count": 5,
   "id": "11cecb6e",
   "metadata": {},
   "outputs": [
    {
     "data": {
      "image/png": "[encoded data removed]",
      "text/plain": [
       "<Figure size 432x288 with 1 Axes>"
      ]
     },
     "metadata": {
      "needs_background": "light"
     },
     "output_type": "display_data"
    },
    {
     "name": "stdout",
     "output_type": "stream",
     "text": [
      "도수: [12. 18.  8. 18.  8.  5.  5.  6.  8. 12.]\n",
      "계급: [ 30.  37.  44.  51.  58.  65.  72.  79.  86.  93. 100.]\n"
     ]
    }
   ],
   "source": [
    "plt.xlabel('계급')\n",
    "plt.ylabel('도수')\n",
    "h = plt.hist( math )\n",
    "plt.show()\n",
    "print( '도수:',h[0])\n",
    "print( '계급:',h[1])# 계급 사이에 도수가 몇개가 있다. "
   ]
  },
  {
   "cell_type": "code",
   "execution_count": 6,
   "id": "9f895849",
   "metadata": {},
   "outputs": [
    {
     "data": {
      "image/png": "[encoded data removed]",
      "text/plain": [
       "<Figure size 432x288 with 1 Axes>"
      ]
     },
     "metadata": {
      "needs_background": "light"
     },
     "output_type": "display_data"
    },
    {
     "name": "stdout",
     "output_type": "stream",
     "text": [
      "도수: [ 0.  0.  0. 22. 13. 23. 10.  7.  9. 16.]\n",
      "계급: [  0.  10.  20.  30.  40.  50.  60.  70.  80.  90. 100.]\n"
     ]
    }
   ],
   "source": [
    "plt.xlabel('계급')\n",
    "plt.ylabel('도수')\n",
    "h = plt.hist( math ,bins=10, range=(0,100) ) # 0~100을 10개로 나눠라\n",
    "plt.show()\n",
    "print( '도수:',h[0] )\n",
    "print( '계급:',h[1] )\n"
   ]
  },
  {
   "cell_type": "code",
   "execution_count": null,
   "id": "f1616838",
   "metadata": {},
   "outputs": [],
   "source": []
  },
  {
   "cell_type": "code",
   "execution_count": null,
   "id": "b9317618",
   "metadata": {},
   "outputs": [],
   "source": []
  },
  {
   "cell_type": "code",
   "execution_count": null,
   "id": "f70bb05c",
   "metadata": {},
   "outputs": [],
   "source": []
  },
  {
   "cell_type": "code",
   "execution_count": null,
   "id": "17264614",
   "metadata": {},
   "outputs": [],
   "source": []
  },
  {
   "cell_type": "code",
   "execution_count": null,
   "id": "8a5f8164",
   "metadata": {},
   "outputs": [],
   "source": []
  },
  {
   "cell_type": "code",
   "execution_count": null,
   "id": "7035f5d2",
   "metadata": {},
   "outputs": [],
   "source": []
  },
  {
   "cell_type": "code",
   "execution_count": null,
   "id": "eb8559ad",
   "metadata": {},
   "outputs": [],
   "source": []
  }
 ],
 "metadata": {
  "kernelspec": {
   "display_name": "Python 3",
   "language": "python",
   "name": "python3"
  },
  "language_info": {
   "codemirror_mode": {
    "name": "ipython",
    "version": 3
   },
   "file_extension": ".py",
   "mimetype": "text/x-python",
   "name": "python",
   "nbconvert_exporter": "python",
   "pygments_lexer": "ipython3",
   "version": "3.8.8"
  }
 },
 "nbformat": 4,
 "nbformat_minor": 5
}
