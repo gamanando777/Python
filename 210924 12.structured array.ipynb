{
 "cells": [
  {
   "cell_type": "code",
   "execution_count": null,
   "id": "adc0096d",
   "metadata": {},
   "outputs": [],
   "source": [
    "[타입기호]\n",
    "\n",
    "'?' Boolean\n",
    "\n",
    "'b' Signed byte, 'B' Unsigned byte\n",
    "\n",
    "'i' Signed integer, 'u' Unsigned integer\n",
    "\n",
    "'f' Floating-point, 'c' Complex-floating point\n",
    "\n",
    "'m' Timedelta, 'M' Datetime\n",
    "\n",
    "'O' (Python) Objects\n",
    "\n",
    "'U' Unicode string\n",
    "\n",
    "'V' Raw data (void)\n",
    "\n",
    "​\n",
    "'i4' : 4바이트 Signed Integer 데이터 타입\n",
    "\n",
    "'f8' : 8바이트 floating-point number 데이터 타입\n",
    "\n",
    "'U20' : 유니코드 20개까지 저장가능한 문자열 데이터 타입\n",
    "\n",
    "'<i4' : \"Little-endian\" 4바이트 Signed Integer 데이터 타입\n",
    "\n",
    "'>i4' : \"Big-endian\" 4바이트 Signed Integer 데이터 타입\n"
   ]
  },
  {
   "cell_type": "code",
   "execution_count": 1,
   "id": "5a2ec101",
   "metadata": {},
   "outputs": [],
   "source": [
    "import numpy as np"
   ]
  },
  {
   "cell_type": "code",
   "execution_count": 4,
   "id": "acc948d4",
   "metadata": {},
   "outputs": [
    {
     "data": {
      "text/plain": [
       "array([('aa', 11, 20.1), ('bb', 22, 10.1), ('cc', 33, 30.2),\n",
       "       ('dd', 44, 50.3), ('ee', 55, 60.4), ('ff', 66, 70.5)],\n",
       "      dtype=[('name', '<U10'), ('age', '<i4'), ('tax', '<f4')])"
      ]
     },
     "execution_count": 4,
     "metadata": {},
     "output_type": "execute_result"
    }
   ],
   "source": [
    "data = [('aa',11, 20.1),('bb',22, 10.1),\n",
    "        ('cc',33, 30.2),('dd',44, 50.3),\n",
    "        ('ee',55, 60.4),('ff',66, 70.5) ]\n",
    "sarr = np.array(data, dtype=[('name','U10'),('age','i4'),('tax','f4')] )\n",
    "sarr\n",
    "\n"
   ]
  },
  {
   "cell_type": "code",
   "execution_count": 5,
   "id": "b5c021af",
   "metadata": {},
   "outputs": [
    {
     "name": "stdout",
     "output_type": "stream",
     "text": [
      "[('aa', 11, 20.1) ('bb', 22, 10.1) ('cc', 33, 30.2) ('dd', 44, 50.3)\n",
      " ('ee', 55, 60.4) ('ff', 66, 70.5)]\n"
     ]
    }
   ],
   "source": [
    "print(sarr)"
   ]
  },
  {
   "cell_type": "code",
   "execution_count": 6,
   "id": "ed50bb0a",
   "metadata": {},
   "outputs": [
    {
     "data": {
      "text/plain": [
       "(6,)"
      ]
     },
     "execution_count": 6,
     "metadata": {},
     "output_type": "execute_result"
    }
   ],
   "source": [
    "sarr.shape"
   ]
  },
  {
   "cell_type": "code",
   "execution_count": 7,
   "id": "741829a6",
   "metadata": {},
   "outputs": [
    {
     "data": {
      "text/plain": [
       "('aa', 11, 20.1)"
      ]
     },
     "execution_count": 7,
     "metadata": {},
     "output_type": "execute_result"
    }
   ],
   "source": [
    "sarr[0] # 행 출력"
   ]
  },
  {
   "cell_type": "code",
   "execution_count": 8,
   "id": "21db06df",
   "metadata": {},
   "outputs": [
    {
     "data": {
      "text/plain": [
       "array(['aa', 'bb', 'cc', 'dd', 'ee', 'ff'], dtype='<U10')"
      ]
     },
     "execution_count": 8,
     "metadata": {},
     "output_type": "execute_result"
    }
   ],
   "source": [
    "sarr['name']"
   ]
  },
  {
   "cell_type": "code",
   "execution_count": 9,
   "id": "7deea1b5",
   "metadata": {},
   "outputs": [
    {
     "data": {
      "text/plain": [
       "array([11, 22, 33, 44, 55, 66])"
      ]
     },
     "execution_count": 9,
     "metadata": {},
     "output_type": "execute_result"
    }
   ],
   "source": [
    "sarr['age']"
   ]
  },
  {
   "cell_type": "code",
   "execution_count": 10,
   "id": "6c3dd41b",
   "metadata": {},
   "outputs": [
    {
     "data": {
      "text/plain": [
       "array([20.1, 10.1, 30.2, 50.3, 60.4, 70.5], dtype=float32)"
      ]
     },
     "execution_count": 10,
     "metadata": {},
     "output_type": "execute_result"
    }
   ],
   "source": [
    "sarr['tax']"
   ]
  },
  {
   "cell_type": "markdown",
   "id": "8208666d",
   "metadata": {},
   "source": [
    "***"
   ]
  },
  {
   "cell_type": "code",
   "execution_count": 12,
   "id": "17e663f3",
   "metadata": {},
   "outputs": [
    {
     "data": {
      "text/plain": [
       "array([[   1880,   90993,  110491],\n",
       "       [   1881,   91954,  100745],\n",
       "       [   1882,  107850,  113688],\n",
       "       [   1883,  112321,  104629],\n",
       "       [   1884,  129022,  114445],\n",
       "       [   1885,  133055,  107800],\n",
       "       [   1886,  144535,  110784],\n",
       "       [   1887,  145982,  101414],\n",
       "       [   1888,  178627,  120853],\n",
       "       [   1889,  178366,  110584],\n",
       "       [   1890,  190377,  111025],\n",
       "       [   1891,  185482,  101196],\n",
       "       [   1892,  212346,  122037],\n",
       "       [   1893,  212906,  112317],\n",
       "       [   1894,  222922,  115772],\n",
       "       [   1895,  233630,  117398],\n",
       "       [   1896,  237920,  119570],\n",
       "       [   1897,  234202,  112758],\n",
       "       [   1898,  258770,  122693],\n",
       "       [   1899,  233023,  106212],\n",
       "       [   1900,  299828,  150499],\n",
       "       [   1901,  239348,  106471],\n",
       "       [   1902,  264077,  122659],\n",
       "       [   1903,  261973,  119234],\n",
       "       [   1904,  275371,  128125],\n",
       "       [   1905,  291629,  132319],\n",
       "       [   1906,  295303,  133159],\n",
       "       [   1907,  318566,  146833],\n",
       "       [   1908,  334313,  154344],\n",
       "       [   1909,  347228,  163999],\n",
       "       [   1910,  396501,  194218],\n",
       "       [   1911,  418299,  225968],\n",
       "       [   1912,  558103,  429945],\n",
       "       [   1913,  624518,  512557],\n",
       "       [   1914,  761548,  654762],\n",
       "       [   1915,  983874,  848603],\n",
       "       [   1916, 1044323,  890099],\n",
       "       [   1917, 1081280,  925511],\n",
       "       [   1918, 1157647, 1013537],\n",
       "       [   1919, 1130145,  980149],\n",
       "       [   1920, 1198283, 1064463],\n",
       "       [   1921, 1232999, 1101457],\n",
       "       [   1922, 1200919, 1088287],\n",
       "       [   1923, 1206330, 1096168],\n",
       "       [   1924, 1248876, 1132751],\n",
       "       [   1925, 1217352, 1115958],\n",
       "       [   1926, 1185304, 1110505],\n",
       "       [   1927, 1192330, 1126717],\n",
       "       [   1928, 1153117, 1107518],\n",
       "       [   1929, 1116422, 1075313],\n",
       "       [   1930, 1125761, 1097176],\n",
       "       [   1931, 1064497, 1039127],\n",
       "       [   1932, 1066994, 1043808],\n",
       "       [   1933, 1007710,  991127],\n",
       "       [   1934, 1044039, 1032291],\n",
       "       [   1935, 1048428, 1040930],\n",
       "       [   1936, 1040202, 1036974],\n",
       "       [   1937, 1063872, 1066309],\n",
       "       [   1938, 1103277, 1108841],\n",
       "       [   1939, 1096518, 1106544],\n",
       "       [   1940, 1143325, 1158900],\n",
       "       [   1941, 1207919, 1227941],\n",
       "       [   1942, 1350545, 1380774],\n",
       "       [   1943, 1395082, 1426846],\n",
       "       [   1944, 1327104, 1362555],\n",
       "       [   1945, 1307028, 1345610],\n",
       "       [   1946, 1571184, 1623650],\n",
       "       [   1947, 1772644, 1829223],\n",
       "       [   1948, 1697814, 1754469],\n",
       "       [   1949, 1710825, 1773725],\n",
       "       [   1950, 1713180, 1790673],\n",
       "       [   1951, 1800042, 1881080],\n",
       "       [   1952, 1854698, 1944277],\n",
       "       [   1953, 1880326, 1969777],\n",
       "       [   1954, 1941682, 2037374],\n",
       "       [   1955, 1954664, 2057918],\n",
       "       [   1956, 2007512, 2113694],\n",
       "       [   1957, 2044160, 2155866],\n",
       "       [   1958, 2010884, 2120712],\n",
       "       [   1959, 2023044, 2133509],\n",
       "       [   1960, 2022093, 2132717],\n",
       "       [   1961, 2017316, 2122502],\n",
       "       [   1962, 1966548, 2068945],\n",
       "       [   1963, 1927217, 2031755],\n",
       "       [   1964, 1894594, 1993270],\n",
       "       [   1965, 1765001, 1861378],\n",
       "       [   1966, 1691868, 1783964],\n",
       "       [   1967, 1650764, 1744527],\n",
       "       [   1968, 1640103, 1738928],\n",
       "       [   1969, 1686947, 1789732],\n",
       "       [   1970, 1748147, 1859594],\n",
       "       [   1971, 1663475, 1769201],\n",
       "       [   1972, 1521185, 1622666],\n",
       "       [   1973, 1458139, 1559338],\n",
       "       [   1974, 1467413, 1573105],\n",
       "       [   1975, 1457699, 1562207],\n",
       "       [   1976, 1465096, 1569904],\n",
       "       [   1977, 1532997, 1643684],\n",
       "       [   1978, 1531658, 1642250],\n",
       "       [   1979, 1605051, 1721947],\n",
       "       [   1980, 1659933, 1783876],\n",
       "       [   1981, 1667465, 1790907],\n",
       "       [   1982, 1692678, 1813970],\n",
       "       [   1983, 1670061, 1791732],\n",
       "       [   1984, 1682973, 1803830],\n",
       "       [   1985, 1720036, 1847032],\n",
       "       [   1986, 1714664, 1840164],\n",
       "       [   1987, 1737891, 1865662],\n",
       "       [   1988, 1779839, 1912602],\n",
       "       [   1989, 1843105, 1999999],\n",
       "       [   1990, 1897709, 2052543],\n",
       "       [   1991, 1874434, 2019463],\n",
       "       [   1992, 1843304, 1996388],\n",
       "       [   1993, 1808379, 1960397],\n",
       "       [   1994, 1785074, 1931157],\n",
       "       [   1995, 1757927, 1902832],\n",
       "       [   1996, 1752249, 1893378],\n",
       "       [   1997, 1739806, 1884122],\n",
       "       [   1998, 1765915, 1910250],\n",
       "       [   1999, 1772632, 1918809],\n",
       "       [   2000, 1814601, 1962406],\n",
       "       [   2001, 1799049, 1941251],\n",
       "       [   2002, 1795206, 1939815],\n",
       "       [   2003, 1825359, 1973434],\n",
       "       [   2004, 1834145, 1982794],\n",
       "       [   2005, 1845379, 1994841],\n",
       "       [   2006, 1898463, 2052377],\n",
       "       [   2007, 1919408, 2072139],\n",
       "       [   2008, 1887234, 2036289],\n",
       "       [   2009, 1832925, 1979303],\n",
       "       [   2010, 1772738, 1913851],\n",
       "       [   2011, 1753500, 1893230]], dtype=int64)"
      ]
     },
     "execution_count": 12,
     "metadata": {},
     "output_type": "execute_result"
    }
   ],
   "source": [
    "birthArr = np.genfromtxt('data/births.txt',delimiter=',' , dtype=np.int64)\n",
    "birthArr"
   ]
  },
  {
   "cell_type": "code",
   "execution_count": 19,
   "id": "0fcac5a8",
   "metadata": {},
   "outputs": [
    {
     "data": {
      "text/plain": [
       "array([('강남구', 2780, 1292, 430, 584, 932),\n",
       "       ('강동구',  773,  379,  99, 155, 377),\n",
       "       ('강북구',  748,  369, 120, 138, 204),\n",
       "       ('강서구',  884,  388, 258, 184,  81),\n",
       "       ('관악구', 1496,  846, 260, 390, 613),\n",
       "       ('광진구',  707,  573,  78,  53, 174),\n",
       "       ('구로구', 1561, 1142, 173, 246, 323),\n",
       "       ('금천구', 1015,  674,  51, 269, 354),\n",
       "       ('노원구', 1265,  542,  57, 451, 516),\n",
       "       ('도봉구',  485,  238, 159,  42, 386),\n",
       "       ('동대문구', 1294, 1070,  23, 198, 579),\n",
       "       ('동작구', 1091,  544, 341, 103, 314),\n",
       "       ('마포구',  574,  314, 118, 169, 379),\n",
       "       ('서대문구',  962,  844,  50,  68, 292),\n",
       "       ('서초구', 1930, 1406, 157, 336, 398),\n",
       "       ('성동구', 1062,  730,  91, 241, 265),\n",
       "       ('성북구', 1464, 1009,  78, 360, 204),\n",
       "       ('송파구',  618,  529,  21,  68, 463),\n",
       "       ('양천구', 2034, 1843, 142,  30, 467),\n",
       "       ('영등포구',  904,  495, 214, 195, 373),\n",
       "       ('용산구', 1624, 1368, 218, 112, 398),\n",
       "       ('은평구', 1873, 1138, 224, 278, 468),\n",
       "       ('종로구', 1002,  464, 314, 211, 630),\n",
       "       ('중구',  671,  413, 190,  72, 348),\n",
       "       ('중랑구',  660,  509, 121, 177, 109)],\n",
       "      dtype=[('기관명', '<U4'), ('소계', '<i4'), ('2013년도_이전', '<i4'), ('2014년', '<i4'), ('2015년', '<i4'), ('2016년', '<i4')])"
      ]
     },
     "execution_count": 19,
     "metadata": {},
     "output_type": "execute_result"
    }
   ],
   "source": [
    "cctvArr = np.genfromtxt('data/CCTV_in_Seoul.csv',dtype=None,\n",
    "            delimiter=',' ,encoding='UTF-8',skip_header=1) # 헤더 건너뜀\n",
    "\n",
    "cctvArr"
   ]
  },
  {
   "cell_type": "code",
   "execution_count": 17,
   "id": "28b5455d",
   "metadata": {},
   "outputs": [
    {
     "data": {
      "text/plain": [
       "('강남구', 2780, 1292, 430, 584, 932)"
      ]
     },
     "execution_count": 17,
     "metadata": {},
     "output_type": "execute_result"
    }
   ],
   "source": [
    "cctvArr[0]"
   ]
  },
  {
   "cell_type": "code",
   "execution_count": 18,
   "id": "4da88f1d",
   "metadata": {},
   "outputs": [
    {
     "data": {
      "text/plain": [
       "array(['강남구', '강동구', '강북구', '강서구', '관악구', '광진구', '구로구', '금천구', '노원구',\n",
       "       '도봉구', '동대문구', '동작구', '마포구', '서대문구', '서초구', '성동구', '성북구', '송파구',\n",
       "       '양천구', '영등포구', '용산구', '은평구', '종로구', '중구', '중랑구'], dtype='<U4')"
      ]
     },
     "execution_count": 18,
     "metadata": {},
     "output_type": "execute_result"
    }
   ],
   "source": [
    "cctvArr['f0']"
   ]
  },
  {
   "cell_type": "code",
   "execution_count": 16,
   "id": "6a952f3b",
   "metadata": {
    "scrolled": true
   },
   "outputs": [
    {
     "data": {
      "text/plain": [
       "array([2780,  773,  748,  884, 1496,  707, 1561, 1015, 1265,  485, 1294,\n",
       "       1091,  574,  962, 1930, 1062, 1464,  618, 2034,  904, 1624, 1873,\n",
       "       1002,  671,  660])"
      ]
     },
     "execution_count": 16,
     "metadata": {},
     "output_type": "execute_result"
    }
   ],
   "source": [
    "cctvArr['f1']"
   ]
  },
  {
   "cell_type": "code",
   "execution_count": 20,
   "id": "0f9e0bc4",
   "metadata": {},
   "outputs": [
    {
     "data": {
      "text/plain": [
       "('기관명', '소계', '2013년도_이전', '2014년', '2015년', '2016년')"
      ]
     },
     "execution_count": 20,
     "metadata": {},
     "output_type": "execute_result"
    }
   ],
   "source": [
    "cctvArr.dtype.names"
   ]
  },
  {
   "cell_type": "code",
   "execution_count": null,
   "id": "36a039b6",
   "metadata": {},
   "outputs": [],
   "source": [
    "cctvArr = np.genfromtxt('data/CCTV_in_Seoul.csv',dtype=None,\n",
    "            delimiter=',' ,encoding='UTF-8-sig',names=True) #첫번째 열 변수명(컬럼명)지정\n",
    "cctvArr"
   ]
  },
  {
   "cell_type": "code",
   "execution_count": null,
   "id": "fac73070",
   "metadata": {},
   "outputs": [],
   "source": [
    "cctvArr['기관명']"
   ]
  },
  {
   "cell_type": "code",
   "execution_count": null,
   "id": "b214fe51",
   "metadata": {},
   "outputs": [],
   "source": [
    "cctvArr['소계']"
   ]
  },
  {
   "cell_type": "code",
   "execution_count": null,
   "id": "ac919f55",
   "metadata": {},
   "outputs": [],
   "source": [
    "cctvArr['소계'].sum()"
   ]
  },
  {
   "cell_type": "code",
   "execution_count": null,
   "id": "8e448cae",
   "metadata": {},
   "outputs": [],
   "source": [
    "cctvArr.dtype.names"
   ]
  },
  {
   "cell_type": "code",
   "execution_count": 22,
   "id": "cc33bc2c",
   "metadata": {},
   "outputs": [
    {
     "name": "stdout",
     "output_type": "stream",
     "text": [
      "강남구 2780\n",
      "강동구 773\n",
      "강북구 748\n",
      "강서구 884\n",
      "관악구 1496\n",
      "광진구 707\n",
      "구로구 1561\n",
      "금천구 1015\n",
      "노원구 1265\n",
      "도봉구 485\n",
      "동대문구 1294\n",
      "동작구 1091\n",
      "마포구 574\n",
      "서대문구 962\n",
      "서초구 1930\n",
      "성동구 1062\n",
      "성북구 1464\n",
      "송파구 618\n",
      "양천구 2034\n",
      "영등포구 904\n",
      "용산구 1624\n",
      "은평구 1873\n",
      "종로구 1002\n",
      "중구 671\n",
      "중랑구 660\n"
     ]
    }
   ],
   "source": [
    "for n in cctvArr:\n",
    "    print(n[0],n[1])"
   ]
  },
  {
   "cell_type": "markdown",
   "id": "962a37cf",
   "metadata": {},
   "source": [
    "***"
   ]
  },
  {
   "cell_type": "code",
   "execution_count": 31,
   "id": "1ad33032",
   "metadata": {},
   "outputs": [],
   "source": [
    "import matplotlib.pyplot as plt\n",
    "import matplotlib\n",
    "\n",
    "matplotlib.rcParams['font.family']='Malgun Gothic'\n",
    "matplotlib.rcParams['axes.unicode_minus'] = False\n"
   ]
  },
  {
   "cell_type": "code",
   "execution_count": 28,
   "id": "b55fc0d2",
   "metadata": {},
   "outputs": [],
   "source": [
    "x =np.array([1,2,3,4,5])\n",
    "y =np.array([11,22,33,44,55])\n",
    "y1 =np.array([5,22,6,8,12])\n"
   ]
  },
  {
   "cell_type": "code",
   "execution_count": 25,
   "id": "b387da09",
   "metadata": {},
   "outputs": [
    {
     "data": {
      "image/png": "[encoded data removed]",
      "text/plain": [
       "<Figure size 432x288 with 1 Axes>"
      ]
     },
     "metadata": {
      "needs_background": "light"
     },
     "output_type": "display_data"
    }
   ],
   "source": [
    "plt.plot(y) # 라인차트\n",
    "plt.show()"
   ]
  },
  {
   "cell_type": "code",
   "execution_count": 26,
   "id": "e195a992",
   "metadata": {},
   "outputs": [
    {
     "data": {
      "image/png": "[encoded data removed]",
      "text/plain": [
       "<Figure size 432x288 with 1 Axes>"
      ]
     },
     "metadata": {
      "needs_background": "light"
     },
     "output_type": "display_data"
    }
   ],
   "source": [
    "plt.plot(x,y)\n",
    "plt.show()"
   ]
  },
  {
   "cell_type": "code",
   "execution_count": 29,
   "id": "934927e4",
   "metadata": {},
   "outputs": [
    {
     "data": {
      "image/png": "[encoded data removed]",
      "text/plain": [
       "<Figure size 432x288 with 1 Axes>"
      ]
     },
     "metadata": {
      "needs_background": "light"
     },
     "output_type": "display_data"
    }
   ],
   "source": [
    "plt.plot(x,y,'r--o')\n",
    "plt.plot(x,y1,'b--s')\n",
    "plt.show()"
   ]
  },
  {
   "cell_type": "code",
   "execution_count": 30,
   "id": "edf6dbc7",
   "metadata": {},
   "outputs": [
    {
     "data": {
      "text/plain": [
       "array([2780,  773,  748,  884, 1496,  707, 1561, 1015, 1265,  485, 1294,\n",
       "       1091,  574,  962, 1930, 1062, 1464,  618, 2034,  904, 1624, 1873,\n",
       "       1002,  671,  660])"
      ]
     },
     "execution_count": 30,
     "metadata": {},
     "output_type": "execute_result"
    }
   ],
   "source": [
    "cctvArr['소계']"
   ]
  },
  {
   "cell_type": "code",
   "execution_count": 35,
   "id": "536e233e",
   "metadata": {},
   "outputs": [
    {
     "data": {
      "image/png": "[encoded data removed]",
      "text/plain": [
       "<Figure size 432x288 with 1 Axes>"
      ]
     },
     "metadata": {
      "needs_background": "light"
     },
     "output_type": "display_data"
    }
   ],
   "source": [
    "plt.xticks(rotation=45)\n",
    "plt.xlabel('기관명')\n",
    "plt.ylabel('cctv 총 수')\n",
    "plt.title('서울 구별 cctv 개수')\n",
    "plt.plot(cctvArr['기관명'],cctvArr['소계'],'r--o')\n",
    "plt.bar(cctvArr['기관명'],cctvArr['소계'])\n",
    "plt.legend(['cctv 수'])\n",
    "plt.show()"
   ]
  },
  {
   "cell_type": "code",
   "execution_count": null,
   "id": "39dd9546",
   "metadata": {},
   "outputs": [],
   "source": []
  },
  {
   "cell_type": "code",
   "execution_count": null,
   "id": "9dd09717",
   "metadata": {},
   "outputs": [],
   "source": []
  },
  {
   "cell_type": "code",
   "execution_count": null,
   "id": "4f067369",
   "metadata": {},
   "outputs": [],
   "source": []
  }
 ],
 "metadata": {
  "kernelspec": {
   "display_name": "Python 3",
   "language": "python",
   "name": "python3"
  },
  "language_info": {
   "codemirror_mode": {
    "name": "ipython",
    "version": 3
   },
   "file_extension": ".py",
   "mimetype": "text/x-python",
   "name": "python",
   "nbconvert_exporter": "python",
   "pygments_lexer": "ipython3",
   "version": "3.8.8"
  }
 },
 "nbformat": 4,
 "nbformat_minor": 5
}
