{
 "cells": [
  {
   "cell_type": "code",
   "execution_count": 1,
   "id": "1b745972",
   "metadata": {},
   "outputs": [],
   "source": [
    "import numpy as np"
   ]
  },
  {
   "cell_type": "code",
   "execution_count": 2,
   "id": "f81aecab",
   "metadata": {},
   "outputs": [
    {
     "data": {
      "text/plain": [
       "array([[ 1,  2,  3],\n",
       "       [ 7,  5,  2],\n",
       "       [10,  1,  8],\n",
       "       [ 6,  3,  4]])"
      ]
     },
     "execution_count": 2,
     "metadata": {},
     "output_type": "execute_result"
    }
   ],
   "source": [
    "data = np.array( [ [1,2,3],[7,5,2],[10,1,8],[6,3,4] ] )\n",
    "data"
   ]
  },
  {
   "cell_type": "markdown",
   "id": "3d4dbac3",
   "metadata": {},
   "source": [
    "2 차원 통계<br>\n",
    "디폴트 axis=None ==> 1차원의 통계<br>\n",
    "axis=0 ==>컬럼(열)별 통계값<br>\n",
    "axis=1 => row(행)별 통계값<br>"
   ]
  },
  {
   "cell_type": "code",
   "execution_count": 3,
   "id": "7ad70548",
   "metadata": {},
   "outputs": [
    {
     "data": {
      "text/plain": [
       "52"
      ]
     },
     "execution_count": 3,
     "metadata": {},
     "output_type": "execute_result"
    }
   ],
   "source": [
    "# data.sum(axis=None) # np.zum(data, axis=None)\n",
    "data.sum() # np.sum(data)"
   ]
  },
  {
   "cell_type": "code",
   "execution_count": 4,
   "id": "18d75141",
   "metadata": {},
   "outputs": [
    {
     "data": {
      "text/plain": [
       "array([24, 11, 17])"
      ]
     },
     "execution_count": 4,
     "metadata": {},
     "output_type": "execute_result"
    }
   ],
   "source": [
    "data.sum(axis=0) #컬럼(열)별 총합  #np,sum(data,axis=0)"
   ]
  },
  {
   "cell_type": "code",
   "execution_count": 5,
   "id": "6f022411",
   "metadata": {},
   "outputs": [
    {
     "data": {
      "text/plain": [
       "array([ 6, 14, 19, 13])"
      ]
     },
     "execution_count": 5,
     "metadata": {},
     "output_type": "execute_result"
    }
   ],
   "source": [
    "data.sum(axis=1) #로우(행)별 합계"
   ]
  },
  {
   "cell_type": "code",
   "execution_count": 6,
   "id": "b38cc52e",
   "metadata": {},
   "outputs": [
    {
     "data": {
      "text/plain": [
       "4.333333333333333"
      ]
     },
     "execution_count": 6,
     "metadata": {},
     "output_type": "execute_result"
    }
   ],
   "source": [
    "data.mean()"
   ]
  },
  {
   "cell_type": "code",
   "execution_count": 7,
   "id": "2dac5287",
   "metadata": {},
   "outputs": [
    {
     "data": {
      "text/plain": [
       "array([6.  , 2.75, 4.25])"
      ]
     },
     "execution_count": 7,
     "metadata": {},
     "output_type": "execute_result"
    }
   ],
   "source": [
    "data.mean(axis=0) #컬럼(열)별 평균"
   ]
  },
  {
   "cell_type": "code",
   "execution_count": 8,
   "id": "227fbe63",
   "metadata": {},
   "outputs": [
    {
     "data": {
      "text/plain": [
       "array([2.        , 4.66666667, 6.33333333, 4.33333333])"
      ]
     },
     "execution_count": 8,
     "metadata": {},
     "output_type": "execute_result"
    }
   ],
   "source": [
    "data.mean(axis=1) #로우(행)별 평균"
   ]
  },
  {
   "cell_type": "code",
   "execution_count": 9,
   "id": "5f90c61d",
   "metadata": {},
   "outputs": [
    {
     "data": {
      "text/plain": [
       "array([2.23, 2.12, 2.68])"
      ]
     },
     "execution_count": 9,
     "metadata": {},
     "output_type": "execute_result"
    }
   ],
   "source": [
    "arr = np.array( [2.234,2.123,2.6787] )\n",
    "arr.round(2)  # 소수점 이하 2자리 반올림"
   ]
  },
  {
   "cell_type": "code",
   "execution_count": 11,
   "id": "c92381f1",
   "metadata": {},
   "outputs": [
    {
     "data": {
      "text/plain": [
       "array([2.  , 4.67, 6.33, 4.33])"
      ]
     },
     "execution_count": 11,
     "metadata": {},
     "output_type": "execute_result"
    }
   ],
   "source": [
    "data.mean(axis=1).round(2)"
   ]
  },
  {
   "cell_type": "code",
   "execution_count": 12,
   "id": "de140ca3",
   "metadata": {},
   "outputs": [
    {
     "data": {
      "text/plain": [
       "10"
      ]
     },
     "execution_count": 12,
     "metadata": {},
     "output_type": "execute_result"
    }
   ],
   "source": [
    "data.max()\n",
    "# data.min()"
   ]
  },
  {
   "cell_type": "code",
   "execution_count": 13,
   "id": "0afcec52",
   "metadata": {},
   "outputs": [
    {
     "data": {
      "text/plain": [
       "array([10,  5,  8])"
      ]
     },
     "execution_count": 13,
     "metadata": {},
     "output_type": "execute_result"
    }
   ],
   "source": [
    "data.max(axis=0) # 컬럼(열)에서 가장 큰값\n",
    "# data.min(axis=0) # 컬럼(열)에서 가장 작은값"
   ]
  },
  {
   "cell_type": "code",
   "execution_count": 14,
   "id": "3246eb6d",
   "metadata": {},
   "outputs": [
    {
     "data": {
      "text/plain": [
       "array([ 3,  7, 10,  6])"
      ]
     },
     "execution_count": 14,
     "metadata": {},
     "output_type": "execute_result"
    }
   ],
   "source": [
    "data.max(axis=1) #로우(행)에서 가장 큰값\n",
    "# data.min(axis=1) # 로우(행)에서 가장 작은값"
   ]
  },
  {
   "cell_type": "code",
   "execution_count": null,
   "id": "90c98e24",
   "metadata": {},
   "outputs": [],
   "source": [
    "data.std()"
   ]
  },
  {
   "cell_type": "code",
   "execution_count": 18,
   "id": "7578613e",
   "metadata": {},
   "outputs": [
    {
     "data": {
      "text/plain": [
       "array([0.81649658, 2.05480467, 3.8586123 , 1.24721913])"
      ]
     },
     "execution_count": 18,
     "metadata": {},
     "output_type": "execute_result"
    }
   ],
   "source": [
    "data.std(axis=0) # 컬럼(열)의 표준편차\n",
    "data.std(axis=1) # 로우(행)의 표준편차"
   ]
  },
  {
   "cell_type": "code",
   "execution_count": 15,
   "id": "aab0a0bc",
   "metadata": {},
   "outputs": [
    {
     "data": {
      "text/plain": [
       "3.5"
      ]
     },
     "execution_count": 15,
     "metadata": {},
     "output_type": "execute_result"
    }
   ],
   "source": [
    "np.median(data)"
   ]
  },
  {
   "cell_type": "code",
   "execution_count": 19,
   "id": "4c4b27be",
   "metadata": {},
   "outputs": [
    {
     "data": {
      "text/plain": [
       "array([6.5, 2.5, 3.5])"
      ]
     },
     "execution_count": 19,
     "metadata": {},
     "output_type": "execute_result"
    }
   ],
   "source": [
    "np.median(data,axis=0)# 컬럼(열)의 중앙값\n",
    "np.median(data,axis=1)# 로우(행)의 중앙값"
   ]
  },
  {
   "cell_type": "code",
   "execution_count": 17,
   "id": "dcb383cd",
   "metadata": {
    "scrolled": true
   },
   "outputs": [
    {
     "data": {
      "text/plain": [
       "3.5"
      ]
     },
     "execution_count": 17,
     "metadata": {},
     "output_type": "execute_result"
    }
   ],
   "source": [
    "np.percentile(data,q=50)"
   ]
  },
  {
   "cell_type": "code",
   "execution_count": 28,
   "id": "ee45ca1c",
   "metadata": {},
   "outputs": [
    {
     "data": {
      "text/plain": [
       "array([[4.75, 1.75, 2.75],\n",
       "       [6.5 , 2.5 , 3.5 ],\n",
       "       [7.75, 3.5 , 5.  ]])"
      ]
     },
     "execution_count": 28,
     "metadata": {},
     "output_type": "execute_result"
    }
   ],
   "source": [
    "np.percentile(data,q=[25,50,75],axis=0) # 컬럼(열)의 퍼센테이지 값\n",
    "# np.percentile(data,q=[25,50,75],axis=1) # 로우(행)의 퍼센테이지 값"
   ]
  },
  {
   "cell_type": "code",
   "execution_count": 22,
   "id": "72eb5a52",
   "metadata": {},
   "outputs": [
    {
     "data": {
      "text/plain": [
       "3.5"
      ]
     },
     "execution_count": 22,
     "metadata": {},
     "output_type": "execute_result"
    }
   ],
   "source": [
    "np.quantile(data,q=0.5)"
   ]
  },
  {
   "cell_type": "code",
   "execution_count": 25,
   "id": "923763a2",
   "metadata": {},
   "outputs": [
    {
     "data": {
      "text/plain": [
       "array([[1.5, 3.5, 4.5, 3.5],\n",
       "       [2. , 5. , 8. , 4. ],\n",
       "       [2.5, 6. , 9. , 5. ]])"
      ]
     },
     "execution_count": 25,
     "metadata": {},
     "output_type": "execute_result"
    }
   ],
   "source": [
    "np.quantile(data,q=[0.25,0.5,0.75],axis=0)\n",
    "np.quantile(data,q=[0.25,0.5,0.75],axis=1)"
   ]
  },
  {
   "cell_type": "code",
   "execution_count": 26,
   "id": "0db480d2",
   "metadata": {},
   "outputs": [
    {
     "name": "stdout",
     "output_type": "stream",
     "text": [
      "[1 2 3]\n",
      "[7 5 2]\n",
      "[10  1  8]\n",
      "[6 3 4]\n"
     ]
    }
   ],
   "source": [
    "for n in data:  #행단위로 출력\n",
    "    print(n)"
   ]
  },
  {
   "cell_type": "code",
   "execution_count": 27,
   "id": "a54ed747",
   "metadata": {},
   "outputs": [
    {
     "name": "stdout",
     "output_type": "stream",
     "text": [
      "1 2 3\n",
      "7 5 2\n",
      "10 1 8\n",
      "6 3 4\n"
     ]
    }
   ],
   "source": [
    "for a,b,c in data:  # 행단위로 출력\n",
    "    print(a,b,c) "
   ]
  },
  {
   "cell_type": "code",
   "execution_count": null,
   "id": "bce22a8e",
   "metadata": {},
   "outputs": [],
   "source": []
  },
  {
   "cell_type": "code",
   "execution_count": null,
   "id": "79f7a19e",
   "metadata": {},
   "outputs": [],
   "source": []
  },
  {
   "cell_type": "code",
   "execution_count": null,
   "id": "01ccb8dc",
   "metadata": {},
   "outputs": [],
   "source": []
  }
 ],
 "metadata": {
  "kernelspec": {
   "display_name": "Python 3",
   "language": "python",
   "name": "python3"
  },
  "language_info": {
   "codemirror_mode": {
    "name": "ipython",
    "version": 3
   },
   "file_extension": ".py",
   "mimetype": "text/x-python",
   "name": "python",
   "nbconvert_exporter": "python",
   "pygments_lexer": "ipython3",
   "version": "3.8.8"
  }
 },
 "nbformat": 4,
 "nbformat_minor": 5
}
