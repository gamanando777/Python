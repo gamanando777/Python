{
 "cells": [
  {
   "cell_type": "code",
   "execution_count": 1,
   "id": "d28d12a8",
   "metadata": {},
   "outputs": [],
   "source": [
    "import pandas as pd\n",
    "import numpy as np\n",
    "\n",
    "import matplotlib.pyplot as plt\n",
    "import matplotlib\n",
    "matplotlib.rcParams['font.family']='Malgun Gothic'\n",
    "matplotlib.rcParams['axes.unicode_minus']=False"
   ]
  },
  {
   "cell_type": "code",
   "execution_count": 2,
   "id": "cbad7b25",
   "metadata": {},
   "outputs": [
    {
     "data": {
      "text/plain": [
       "array([[67, 42, 39, 35, 94, 46],\n",
       "       [31, 36, 55, 80, 50, 48],\n",
       "       [41, 58, 59, 44, 80, 98],\n",
       "       [43, 39, 37, 93, 91, 52]])"
      ]
     },
     "execution_count": 2,
     "metadata": {},
     "output_type": "execute_result"
    }
   ],
   "source": [
    "np.random.seed(1)\n",
    "data = np.random.randint(30,101, size=(4,6) )\n",
    "data\n"
   ]
  },
  {
   "cell_type": "code",
   "execution_count": 3,
   "id": "c95bfdca",
   "metadata": {},
   "outputs": [
    {
     "data": {
      "text/html": [
       "<div>\n",
       "<style scoped>\n",
       "    .dataframe tbody tr th:only-of-type {\n",
       "        vertical-align: middle;\n",
       "    }\n",
       "\n",
       "    .dataframe tbody tr th {\n",
       "        vertical-align: top;\n",
       "    }\n",
       "\n",
       "    .dataframe thead th {\n",
       "        text-align: right;\n",
       "    }\n",
       "</style>\n",
       "<table border=\"1\" class=\"dataframe\">\n",
       "  <thead>\n",
       "    <tr style=\"text-align: right;\">\n",
       "      <th></th>\n",
       "      <th>0</th>\n",
       "      <th>1</th>\n",
       "      <th>2</th>\n",
       "      <th>3</th>\n",
       "      <th>4</th>\n",
       "      <th>5</th>\n",
       "    </tr>\n",
       "  </thead>\n",
       "  <tbody>\n",
       "    <tr>\n",
       "      <th>0</th>\n",
       "      <td>67</td>\n",
       "      <td>42</td>\n",
       "      <td>39</td>\n",
       "      <td>35</td>\n",
       "      <td>94</td>\n",
       "      <td>46</td>\n",
       "    </tr>\n",
       "    <tr>\n",
       "      <th>1</th>\n",
       "      <td>31</td>\n",
       "      <td>36</td>\n",
       "      <td>55</td>\n",
       "      <td>80</td>\n",
       "      <td>50</td>\n",
       "      <td>48</td>\n",
       "    </tr>\n",
       "    <tr>\n",
       "      <th>2</th>\n",
       "      <td>41</td>\n",
       "      <td>58</td>\n",
       "      <td>59</td>\n",
       "      <td>44</td>\n",
       "      <td>80</td>\n",
       "      <td>98</td>\n",
       "    </tr>\n",
       "    <tr>\n",
       "      <th>3</th>\n",
       "      <td>43</td>\n",
       "      <td>39</td>\n",
       "      <td>37</td>\n",
       "      <td>93</td>\n",
       "      <td>91</td>\n",
       "      <td>52</td>\n",
       "    </tr>\n",
       "  </tbody>\n",
       "</table>\n",
       "</div>"
      ],
      "text/plain": [
       "    0   1   2   3   4   5\n",
       "0  67  42  39  35  94  46\n",
       "1  31  36  55  80  50  48\n",
       "2  41  58  59  44  80  98\n",
       "3  43  39  37  93  91  52"
      ]
     },
     "execution_count": 3,
     "metadata": {},
     "output_type": "execute_result"
    }
   ],
   "source": [
    "df = pd.DataFrame( data )\n",
    "df\n"
   ]
  },
  {
   "cell_type": "code",
   "execution_count": 4,
   "id": "53f68f53",
   "metadata": {},
   "outputs": [],
   "source": [
    "df['년도'] = [2020,2020,2021,2021]\n",
    "df['학년'] = ['1학년','2학년','1학년','2학년']"
   ]
  },
  {
   "cell_type": "code",
   "execution_count": 5,
   "id": "ed116606",
   "metadata": {},
   "outputs": [
    {
     "data": {
      "text/html": [
       "<div>\n",
       "<style scoped>\n",
       "    .dataframe tbody tr th:only-of-type {\n",
       "        vertical-align: middle;\n",
       "    }\n",
       "\n",
       "    .dataframe tbody tr th {\n",
       "        vertical-align: top;\n",
       "    }\n",
       "\n",
       "    .dataframe thead th {\n",
       "        text-align: right;\n",
       "    }\n",
       "</style>\n",
       "<table border=\"1\" class=\"dataframe\">\n",
       "  <thead>\n",
       "    <tr style=\"text-align: right;\">\n",
       "      <th></th>\n",
       "      <th>0</th>\n",
       "      <th>1</th>\n",
       "      <th>2</th>\n",
       "      <th>3</th>\n",
       "      <th>4</th>\n",
       "      <th>5</th>\n",
       "      <th>년도</th>\n",
       "      <th>학년</th>\n",
       "    </tr>\n",
       "  </thead>\n",
       "  <tbody>\n",
       "    <tr>\n",
       "      <th>0</th>\n",
       "      <td>67</td>\n",
       "      <td>42</td>\n",
       "      <td>39</td>\n",
       "      <td>35</td>\n",
       "      <td>94</td>\n",
       "      <td>46</td>\n",
       "      <td>2020</td>\n",
       "      <td>1학년</td>\n",
       "    </tr>\n",
       "    <tr>\n",
       "      <th>1</th>\n",
       "      <td>31</td>\n",
       "      <td>36</td>\n",
       "      <td>55</td>\n",
       "      <td>80</td>\n",
       "      <td>50</td>\n",
       "      <td>48</td>\n",
       "      <td>2020</td>\n",
       "      <td>2학년</td>\n",
       "    </tr>\n",
       "    <tr>\n",
       "      <th>2</th>\n",
       "      <td>41</td>\n",
       "      <td>58</td>\n",
       "      <td>59</td>\n",
       "      <td>44</td>\n",
       "      <td>80</td>\n",
       "      <td>98</td>\n",
       "      <td>2021</td>\n",
       "      <td>1학년</td>\n",
       "    </tr>\n",
       "    <tr>\n",
       "      <th>3</th>\n",
       "      <td>43</td>\n",
       "      <td>39</td>\n",
       "      <td>37</td>\n",
       "      <td>93</td>\n",
       "      <td>91</td>\n",
       "      <td>52</td>\n",
       "      <td>2021</td>\n",
       "      <td>2학년</td>\n",
       "    </tr>\n",
       "  </tbody>\n",
       "</table>\n",
       "</div>"
      ],
      "text/plain": [
       "    0   1   2   3   4   5    년도   학년\n",
       "0  67  42  39  35  94  46  2020  1학년\n",
       "1  31  36  55  80  50  48  2020  2학년\n",
       "2  41  58  59  44  80  98  2021  1학년\n",
       "3  43  39  37  93  91  52  2021  2학년"
      ]
     },
     "execution_count": 5,
     "metadata": {},
     "output_type": "execute_result"
    }
   ],
   "source": [
    "df"
   ]
  },
  {
   "cell_type": "code",
   "execution_count": 6,
   "id": "7e2d63a3",
   "metadata": {},
   "outputs": [
    {
     "data": {
      "text/html": [
       "<div>\n",
       "<style scoped>\n",
       "    .dataframe tbody tr th:only-of-type {\n",
       "        vertical-align: middle;\n",
       "    }\n",
       "\n",
       "    .dataframe tbody tr th {\n",
       "        vertical-align: top;\n",
       "    }\n",
       "\n",
       "    .dataframe thead th {\n",
       "        text-align: right;\n",
       "    }\n",
       "</style>\n",
       "<table border=\"1\" class=\"dataframe\">\n",
       "  <thead>\n",
       "    <tr style=\"text-align: right;\">\n",
       "      <th></th>\n",
       "      <th></th>\n",
       "      <th>0</th>\n",
       "      <th>1</th>\n",
       "      <th>2</th>\n",
       "      <th>3</th>\n",
       "      <th>4</th>\n",
       "      <th>5</th>\n",
       "    </tr>\n",
       "    <tr>\n",
       "      <th>년도</th>\n",
       "      <th>학년</th>\n",
       "      <th></th>\n",
       "      <th></th>\n",
       "      <th></th>\n",
       "      <th></th>\n",
       "      <th></th>\n",
       "      <th></th>\n",
       "    </tr>\n",
       "  </thead>\n",
       "  <tbody>\n",
       "    <tr>\n",
       "      <th rowspan=\"2\" valign=\"top\">2020</th>\n",
       "      <th>1학년</th>\n",
       "      <td>67</td>\n",
       "      <td>42</td>\n",
       "      <td>39</td>\n",
       "      <td>35</td>\n",
       "      <td>94</td>\n",
       "      <td>46</td>\n",
       "    </tr>\n",
       "    <tr>\n",
       "      <th>2학년</th>\n",
       "      <td>31</td>\n",
       "      <td>36</td>\n",
       "      <td>55</td>\n",
       "      <td>80</td>\n",
       "      <td>50</td>\n",
       "      <td>48</td>\n",
       "    </tr>\n",
       "    <tr>\n",
       "      <th rowspan=\"2\" valign=\"top\">2021</th>\n",
       "      <th>1학년</th>\n",
       "      <td>41</td>\n",
       "      <td>58</td>\n",
       "      <td>59</td>\n",
       "      <td>44</td>\n",
       "      <td>80</td>\n",
       "      <td>98</td>\n",
       "    </tr>\n",
       "    <tr>\n",
       "      <th>2학년</th>\n",
       "      <td>43</td>\n",
       "      <td>39</td>\n",
       "      <td>37</td>\n",
       "      <td>93</td>\n",
       "      <td>91</td>\n",
       "      <td>52</td>\n",
       "    </tr>\n",
       "  </tbody>\n",
       "</table>\n",
       "</div>"
      ],
      "text/plain": [
       "           0   1   2   3   4   5\n",
       "년도   학년                         \n",
       "2020 1학년  67  42  39  35  94  46\n",
       "     2학년  31  36  55  80  50  48\n",
       "2021 1학년  41  58  59  44  80  98\n",
       "     2학년  43  39  37  93  91  52"
      ]
     },
     "execution_count": 6,
     "metadata": {},
     "output_type": "execute_result"
    }
   ],
   "source": [
    "df.set_index(['년도','학년'])  #멀티인덱스"
   ]
  },
  {
   "cell_type": "code",
   "execution_count": 7,
   "id": "b28d1db2",
   "metadata": {},
   "outputs": [],
   "source": [
    "df.index = pd.MultiIndex.from_product([[2020,2021],['1학년','2학년']],names=['년도','학년'])  #멀티인덱스"
   ]
  },
  {
   "cell_type": "code",
   "execution_count": 8,
   "id": "dc1ff84e",
   "metadata": {},
   "outputs": [
    {
     "data": {
      "text/html": [
       "<div>\n",
       "<style scoped>\n",
       "    .dataframe tbody tr th:only-of-type {\n",
       "        vertical-align: middle;\n",
       "    }\n",
       "\n",
       "    .dataframe tbody tr th {\n",
       "        vertical-align: top;\n",
       "    }\n",
       "\n",
       "    .dataframe thead th {\n",
       "        text-align: right;\n",
       "    }\n",
       "</style>\n",
       "<table border=\"1\" class=\"dataframe\">\n",
       "  <thead>\n",
       "    <tr style=\"text-align: right;\">\n",
       "      <th></th>\n",
       "      <th></th>\n",
       "      <th>0</th>\n",
       "      <th>1</th>\n",
       "      <th>2</th>\n",
       "      <th>3</th>\n",
       "      <th>4</th>\n",
       "      <th>5</th>\n",
       "      <th>년도</th>\n",
       "      <th>학년</th>\n",
       "    </tr>\n",
       "    <tr>\n",
       "      <th>년도</th>\n",
       "      <th>학년</th>\n",
       "      <th></th>\n",
       "      <th></th>\n",
       "      <th></th>\n",
       "      <th></th>\n",
       "      <th></th>\n",
       "      <th></th>\n",
       "      <th></th>\n",
       "      <th></th>\n",
       "    </tr>\n",
       "  </thead>\n",
       "  <tbody>\n",
       "    <tr>\n",
       "      <th rowspan=\"2\" valign=\"top\">2020</th>\n",
       "      <th>1학년</th>\n",
       "      <td>67</td>\n",
       "      <td>42</td>\n",
       "      <td>39</td>\n",
       "      <td>35</td>\n",
       "      <td>94</td>\n",
       "      <td>46</td>\n",
       "      <td>2020</td>\n",
       "      <td>1학년</td>\n",
       "    </tr>\n",
       "    <tr>\n",
       "      <th>2학년</th>\n",
       "      <td>31</td>\n",
       "      <td>36</td>\n",
       "      <td>55</td>\n",
       "      <td>80</td>\n",
       "      <td>50</td>\n",
       "      <td>48</td>\n",
       "      <td>2020</td>\n",
       "      <td>2학년</td>\n",
       "    </tr>\n",
       "    <tr>\n",
       "      <th rowspan=\"2\" valign=\"top\">2021</th>\n",
       "      <th>1학년</th>\n",
       "      <td>41</td>\n",
       "      <td>58</td>\n",
       "      <td>59</td>\n",
       "      <td>44</td>\n",
       "      <td>80</td>\n",
       "      <td>98</td>\n",
       "      <td>2021</td>\n",
       "      <td>1학년</td>\n",
       "    </tr>\n",
       "    <tr>\n",
       "      <th>2학년</th>\n",
       "      <td>43</td>\n",
       "      <td>39</td>\n",
       "      <td>37</td>\n",
       "      <td>93</td>\n",
       "      <td>91</td>\n",
       "      <td>52</td>\n",
       "      <td>2021</td>\n",
       "      <td>2학년</td>\n",
       "    </tr>\n",
       "  </tbody>\n",
       "</table>\n",
       "</div>"
      ],
      "text/plain": [
       "           0   1   2   3   4   5    년도   학년\n",
       "년도   학년                                    \n",
       "2020 1학년  67  42  39  35  94  46  2020  1학년\n",
       "     2학년  31  36  55  80  50  48  2020  2학년\n",
       "2021 1학년  41  58  59  44  80  98  2021  1학년\n",
       "     2학년  43  39  37  93  91  52  2021  2학년"
      ]
     },
     "execution_count": 8,
     "metadata": {},
     "output_type": "execute_result"
    }
   ],
   "source": [
    "df"
   ]
  },
  {
   "cell_type": "code",
   "execution_count": 9,
   "id": "6b1c21f4",
   "metadata": {},
   "outputs": [
    {
     "data": {
      "text/plain": [
       "MultiIndex([(2020, '1학년'),\n",
       "            (2020, '2학년'),\n",
       "            (2021, '1학년'),\n",
       "            (2021, '2학년')],\n",
       "           names=['년도', '학년'])"
      ]
     },
     "execution_count": 9,
     "metadata": {},
     "output_type": "execute_result"
    }
   ],
   "source": [
    "df.index"
   ]
  },
  {
   "cell_type": "code",
   "execution_count": 10,
   "id": "f6b02c1b",
   "metadata": {},
   "outputs": [
    {
     "name": "stdout",
     "output_type": "stream",
     "text": [
      "<class 'pandas.core.indexes.multi.MultiIndex'>\n"
     ]
    }
   ],
   "source": [
    "print(type(df.index))"
   ]
  },
  {
   "cell_type": "code",
   "execution_count": 11,
   "id": "8455296d",
   "metadata": {},
   "outputs": [
    {
     "data": {
      "text/plain": [
       "FrozenList([[2020, 2021], ['1학년', '2학년']])"
      ]
     },
     "execution_count": 11,
     "metadata": {},
     "output_type": "execute_result"
    }
   ],
   "source": [
    "df.index.levels #정렬되어서 출력"
   ]
  },
  {
   "cell_type": "code",
   "execution_count": 12,
   "id": "d6330a58",
   "metadata": {},
   "outputs": [
    {
     "data": {
      "text/plain": [
       "Int64Index([2020, 2021], dtype='int64', name='년도')"
      ]
     },
     "execution_count": 12,
     "metadata": {},
     "output_type": "execute_result"
    }
   ],
   "source": [
    "df.index.levels[0] "
   ]
  },
  {
   "cell_type": "code",
   "execution_count": 13,
   "id": "864af062",
   "metadata": {},
   "outputs": [
    {
     "data": {
      "text/plain": [
       "Index(['1학년', '2학년'], dtype='object', name='학년')"
      ]
     },
     "execution_count": 13,
     "metadata": {},
     "output_type": "execute_result"
    }
   ],
   "source": [
    "df.index.levels[1]"
   ]
  },
  {
   "cell_type": "code",
   "execution_count": 14,
   "id": "96049520",
   "metadata": {},
   "outputs": [
    {
     "data": {
      "text/plain": [
       "Int64Index([2020, 2020, 2021, 2021], dtype='int64', name='년도')"
      ]
     },
     "execution_count": 14,
     "metadata": {},
     "output_type": "execute_result"
    }
   ],
   "source": [
    "df.index.get_level_values(0)"
   ]
  },
  {
   "cell_type": "code",
   "execution_count": 15,
   "id": "182eb1fc",
   "metadata": {},
   "outputs": [
    {
     "data": {
      "text/plain": [
       "Int64Index([2020, 2020, 2021, 2021], dtype='int64', name='년도')"
      ]
     },
     "execution_count": 15,
     "metadata": {},
     "output_type": "execute_result"
    }
   ],
   "source": [
    "df.index.get_level_values('년도')"
   ]
  },
  {
   "cell_type": "code",
   "execution_count": 16,
   "id": "7adfdb35",
   "metadata": {},
   "outputs": [
    {
     "data": {
      "text/plain": [
       "Index(['1학년', '2학년', '1학년', '2학년'], dtype='object', name='학년')"
      ]
     },
     "execution_count": 16,
     "metadata": {},
     "output_type": "execute_result"
    }
   ],
   "source": [
    "df.index.get_level_values('학년')"
   ]
  },
  {
   "cell_type": "code",
   "execution_count": 48,
   "id": "e7873fad",
   "metadata": {},
   "outputs": [
    {
     "data": {
      "text/plain": [
       "MultiIndex([(2020, '1학년'),\n",
       "            (2020, '2학년'),\n",
       "            (2021, '1학년'),\n",
       "            (2021, '2학년')],\n",
       "           names=['년도', '학년'])"
      ]
     },
     "execution_count": 48,
     "metadata": {},
     "output_type": "execute_result"
    }
   ],
   "source": [
    "df.index.unique() # 정렬되지 않고 선언된 그대로"
   ]
  },
  {
   "cell_type": "code",
   "execution_count": 17,
   "id": "93f5d2ce",
   "metadata": {},
   "outputs": [
    {
     "data": {
      "text/plain": [
       "Int64Index([2020, 2021], dtype='int64', name='년도')"
      ]
     },
     "execution_count": 17,
     "metadata": {},
     "output_type": "execute_result"
    }
   ],
   "source": [
    "df.index.unique(0)  #중복x 하나씩만"
   ]
  },
  {
   "cell_type": "code",
   "execution_count": 18,
   "id": "c19a4fc5",
   "metadata": {},
   "outputs": [
    {
     "data": {
      "text/plain": [
       "Index(['1학년', '2학년'], dtype='object', name='학년')"
      ]
     },
     "execution_count": 18,
     "metadata": {},
     "output_type": "execute_result"
    }
   ],
   "source": [
    "df.index.unique(1)"
   ]
  },
  {
   "cell_type": "code",
   "execution_count": 19,
   "id": "01e2aea5",
   "metadata": {},
   "outputs": [],
   "source": [
    "df.drop(columns=['년도','학년'],inplace=True)"
   ]
  },
  {
   "cell_type": "code",
   "execution_count": 20,
   "id": "4bbc6560",
   "metadata": {},
   "outputs": [
    {
     "data": {
      "text/html": [
       "<div>\n",
       "<style scoped>\n",
       "    .dataframe tbody tr th:only-of-type {\n",
       "        vertical-align: middle;\n",
       "    }\n",
       "\n",
       "    .dataframe tbody tr th {\n",
       "        vertical-align: top;\n",
       "    }\n",
       "\n",
       "    .dataframe thead th {\n",
       "        text-align: right;\n",
       "    }\n",
       "</style>\n",
       "<table border=\"1\" class=\"dataframe\">\n",
       "  <thead>\n",
       "    <tr style=\"text-align: right;\">\n",
       "      <th></th>\n",
       "      <th></th>\n",
       "      <th>0</th>\n",
       "      <th>1</th>\n",
       "      <th>2</th>\n",
       "      <th>3</th>\n",
       "      <th>4</th>\n",
       "      <th>5</th>\n",
       "    </tr>\n",
       "    <tr>\n",
       "      <th>년도</th>\n",
       "      <th>학년</th>\n",
       "      <th></th>\n",
       "      <th></th>\n",
       "      <th></th>\n",
       "      <th></th>\n",
       "      <th></th>\n",
       "      <th></th>\n",
       "    </tr>\n",
       "  </thead>\n",
       "  <tbody>\n",
       "    <tr>\n",
       "      <th rowspan=\"2\" valign=\"top\">2020</th>\n",
       "      <th>1학년</th>\n",
       "      <td>67</td>\n",
       "      <td>42</td>\n",
       "      <td>39</td>\n",
       "      <td>35</td>\n",
       "      <td>94</td>\n",
       "      <td>46</td>\n",
       "    </tr>\n",
       "    <tr>\n",
       "      <th>2학년</th>\n",
       "      <td>31</td>\n",
       "      <td>36</td>\n",
       "      <td>55</td>\n",
       "      <td>80</td>\n",
       "      <td>50</td>\n",
       "      <td>48</td>\n",
       "    </tr>\n",
       "    <tr>\n",
       "      <th rowspan=\"2\" valign=\"top\">2021</th>\n",
       "      <th>1학년</th>\n",
       "      <td>41</td>\n",
       "      <td>58</td>\n",
       "      <td>59</td>\n",
       "      <td>44</td>\n",
       "      <td>80</td>\n",
       "      <td>98</td>\n",
       "    </tr>\n",
       "    <tr>\n",
       "      <th>2학년</th>\n",
       "      <td>43</td>\n",
       "      <td>39</td>\n",
       "      <td>37</td>\n",
       "      <td>93</td>\n",
       "      <td>91</td>\n",
       "      <td>52</td>\n",
       "    </tr>\n",
       "  </tbody>\n",
       "</table>\n",
       "</div>"
      ],
      "text/plain": [
       "           0   1   2   3   4   5\n",
       "년도   학년                         \n",
       "2020 1학년  67  42  39  35  94  46\n",
       "     2학년  31  36  55  80  50  48\n",
       "2021 1학년  41  58  59  44  80  98\n",
       "     2학년  43  39  37  93  91  52"
      ]
     },
     "execution_count": 20,
     "metadata": {},
     "output_type": "execute_result"
    }
   ],
   "source": [
    "df"
   ]
  },
  {
   "cell_type": "code",
   "execution_count": 21,
   "id": "7650e28b",
   "metadata": {
    "scrolled": true
   },
   "outputs": [
    {
     "data": {
      "text/html": [
       "<div>\n",
       "<style scoped>\n",
       "    .dataframe tbody tr th:only-of-type {\n",
       "        vertical-align: middle;\n",
       "    }\n",
       "\n",
       "    .dataframe tbody tr th {\n",
       "        vertical-align: top;\n",
       "    }\n",
       "\n",
       "    .dataframe thead th {\n",
       "        text-align: right;\n",
       "    }\n",
       "</style>\n",
       "<table border=\"1\" class=\"dataframe\">\n",
       "  <thead>\n",
       "    <tr style=\"text-align: right;\">\n",
       "      <th></th>\n",
       "      <th>년도</th>\n",
       "      <th>학년</th>\n",
       "      <th>0</th>\n",
       "      <th>1</th>\n",
       "      <th>2</th>\n",
       "      <th>3</th>\n",
       "      <th>4</th>\n",
       "      <th>5</th>\n",
       "    </tr>\n",
       "  </thead>\n",
       "  <tbody>\n",
       "    <tr>\n",
       "      <th>0</th>\n",
       "      <td>2020</td>\n",
       "      <td>1학년</td>\n",
       "      <td>67</td>\n",
       "      <td>42</td>\n",
       "      <td>39</td>\n",
       "      <td>35</td>\n",
       "      <td>94</td>\n",
       "      <td>46</td>\n",
       "    </tr>\n",
       "    <tr>\n",
       "      <th>1</th>\n",
       "      <td>2020</td>\n",
       "      <td>2학년</td>\n",
       "      <td>31</td>\n",
       "      <td>36</td>\n",
       "      <td>55</td>\n",
       "      <td>80</td>\n",
       "      <td>50</td>\n",
       "      <td>48</td>\n",
       "    </tr>\n",
       "    <tr>\n",
       "      <th>2</th>\n",
       "      <td>2021</td>\n",
       "      <td>1학년</td>\n",
       "      <td>41</td>\n",
       "      <td>58</td>\n",
       "      <td>59</td>\n",
       "      <td>44</td>\n",
       "      <td>80</td>\n",
       "      <td>98</td>\n",
       "    </tr>\n",
       "    <tr>\n",
       "      <th>3</th>\n",
       "      <td>2021</td>\n",
       "      <td>2학년</td>\n",
       "      <td>43</td>\n",
       "      <td>39</td>\n",
       "      <td>37</td>\n",
       "      <td>93</td>\n",
       "      <td>91</td>\n",
       "      <td>52</td>\n",
       "    </tr>\n",
       "  </tbody>\n",
       "</table>\n",
       "</div>"
      ],
      "text/plain": [
       "     년도   학년   0   1   2   3   4   5\n",
       "0  2020  1학년  67  42  39  35  94  46\n",
       "1  2020  2학년  31  36  55  80  50  48\n",
       "2  2021  1학년  41  58  59  44  80  98\n",
       "3  2021  2학년  43  39  37  93  91  52"
      ]
     },
     "execution_count": 21,
     "metadata": {},
     "output_type": "execute_result"
    }
   ],
   "source": [
    "df.reset_index() # 인덱스 리셋. 원래대로"
   ]
  },
  {
   "cell_type": "code",
   "execution_count": null,
   "id": "599962a0",
   "metadata": {},
   "outputs": [],
   "source": []
  },
  {
   "cell_type": "code",
   "execution_count": 24,
   "id": "416dce3c",
   "metadata": {},
   "outputs": [],
   "source": [
    "df.columns = pd.MultiIndex.from_product([['홍길동','이순신','임꺽정'],['국어','영어']])  #멀티컬럼"
   ]
  },
  {
   "cell_type": "code",
   "execution_count": 25,
   "id": "daef0d37",
   "metadata": {},
   "outputs": [
    {
     "data": {
      "text/html": [
       "<div>\n",
       "<style scoped>\n",
       "    .dataframe tbody tr th:only-of-type {\n",
       "        vertical-align: middle;\n",
       "    }\n",
       "\n",
       "    .dataframe tbody tr th {\n",
       "        vertical-align: top;\n",
       "    }\n",
       "\n",
       "    .dataframe thead tr th {\n",
       "        text-align: left;\n",
       "    }\n",
       "\n",
       "    .dataframe thead tr:last-of-type th {\n",
       "        text-align: right;\n",
       "    }\n",
       "</style>\n",
       "<table border=\"1\" class=\"dataframe\">\n",
       "  <thead>\n",
       "    <tr>\n",
       "      <th></th>\n",
       "      <th></th>\n",
       "      <th colspan=\"2\" halign=\"left\">홍길동</th>\n",
       "      <th colspan=\"2\" halign=\"left\">이순신</th>\n",
       "      <th colspan=\"2\" halign=\"left\">임꺽정</th>\n",
       "    </tr>\n",
       "    <tr>\n",
       "      <th></th>\n",
       "      <th></th>\n",
       "      <th>국어</th>\n",
       "      <th>영어</th>\n",
       "      <th>국어</th>\n",
       "      <th>영어</th>\n",
       "      <th>국어</th>\n",
       "      <th>영어</th>\n",
       "    </tr>\n",
       "    <tr>\n",
       "      <th>년도</th>\n",
       "      <th>학년</th>\n",
       "      <th></th>\n",
       "      <th></th>\n",
       "      <th></th>\n",
       "      <th></th>\n",
       "      <th></th>\n",
       "      <th></th>\n",
       "    </tr>\n",
       "  </thead>\n",
       "  <tbody>\n",
       "    <tr>\n",
       "      <th rowspan=\"2\" valign=\"top\">2020</th>\n",
       "      <th>1학년</th>\n",
       "      <td>67</td>\n",
       "      <td>42</td>\n",
       "      <td>39</td>\n",
       "      <td>35</td>\n",
       "      <td>94</td>\n",
       "      <td>46</td>\n",
       "    </tr>\n",
       "    <tr>\n",
       "      <th>2학년</th>\n",
       "      <td>31</td>\n",
       "      <td>36</td>\n",
       "      <td>55</td>\n",
       "      <td>80</td>\n",
       "      <td>50</td>\n",
       "      <td>48</td>\n",
       "    </tr>\n",
       "    <tr>\n",
       "      <th rowspan=\"2\" valign=\"top\">2021</th>\n",
       "      <th>1학년</th>\n",
       "      <td>41</td>\n",
       "      <td>58</td>\n",
       "      <td>59</td>\n",
       "      <td>44</td>\n",
       "      <td>80</td>\n",
       "      <td>98</td>\n",
       "    </tr>\n",
       "    <tr>\n",
       "      <th>2학년</th>\n",
       "      <td>43</td>\n",
       "      <td>39</td>\n",
       "      <td>37</td>\n",
       "      <td>93</td>\n",
       "      <td>91</td>\n",
       "      <td>52</td>\n",
       "    </tr>\n",
       "  </tbody>\n",
       "</table>\n",
       "</div>"
      ],
      "text/plain": [
       "         홍길동     이순신     임꺽정    \n",
       "          국어  영어  국어  영어  국어  영어\n",
       "년도   학년                         \n",
       "2020 1학년  67  42  39  35  94  46\n",
       "     2학년  31  36  55  80  50  48\n",
       "2021 1학년  41  58  59  44  80  98\n",
       "     2학년  43  39  37  93  91  52"
      ]
     },
     "execution_count": 25,
     "metadata": {},
     "output_type": "execute_result"
    }
   ],
   "source": [
    "df"
   ]
  },
  {
   "cell_type": "code",
   "execution_count": 26,
   "id": "6b044eda",
   "metadata": {},
   "outputs": [
    {
     "name": "stdout",
     "output_type": "stream",
     "text": [
      "<class 'pandas.core.indexes.multi.MultiIndex'>\n"
     ]
    }
   ],
   "source": [
    "print(type(df.columns))"
   ]
  },
  {
   "cell_type": "code",
   "execution_count": 28,
   "id": "6653f855",
   "metadata": {},
   "outputs": [
    {
     "data": {
      "text/plain": [
       "FrozenList([['이순신', '임꺽정', '홍길동'], ['국어', '영어']])"
      ]
     },
     "execution_count": 28,
     "metadata": {},
     "output_type": "execute_result"
    }
   ],
   "source": [
    "df.columns.levels"
   ]
  },
  {
   "cell_type": "code",
   "execution_count": 29,
   "id": "1847e2dc",
   "metadata": {},
   "outputs": [
    {
     "data": {
      "text/plain": [
       "Index(['이순신', '임꺽정', '홍길동'], dtype='object')"
      ]
     },
     "execution_count": 29,
     "metadata": {},
     "output_type": "execute_result"
    }
   ],
   "source": [
    "df.columns.levels[0]"
   ]
  },
  {
   "cell_type": "code",
   "execution_count": 30,
   "id": "73d67148",
   "metadata": {},
   "outputs": [
    {
     "data": {
      "text/plain": [
       "Index(['국어', '영어'], dtype='object')"
      ]
     },
     "execution_count": 30,
     "metadata": {},
     "output_type": "execute_result"
    }
   ],
   "source": [
    "df.columns.levels[1]"
   ]
  },
  {
   "cell_type": "code",
   "execution_count": 31,
   "id": "70bc2e72",
   "metadata": {},
   "outputs": [
    {
     "data": {
      "text/html": [
       "<div>\n",
       "<style scoped>\n",
       "    .dataframe tbody tr th:only-of-type {\n",
       "        vertical-align: middle;\n",
       "    }\n",
       "\n",
       "    .dataframe tbody tr th {\n",
       "        vertical-align: top;\n",
       "    }\n",
       "\n",
       "    .dataframe thead tr th {\n",
       "        text-align: left;\n",
       "    }\n",
       "\n",
       "    .dataframe thead tr:last-of-type th {\n",
       "        text-align: right;\n",
       "    }\n",
       "</style>\n",
       "<table border=\"1\" class=\"dataframe\">\n",
       "  <thead>\n",
       "    <tr>\n",
       "      <th></th>\n",
       "      <th colspan=\"2\" halign=\"left\">홍길동</th>\n",
       "      <th colspan=\"2\" halign=\"left\">이순신</th>\n",
       "      <th colspan=\"2\" halign=\"left\">임꺽정</th>\n",
       "    </tr>\n",
       "    <tr>\n",
       "      <th></th>\n",
       "      <th>국어</th>\n",
       "      <th>영어</th>\n",
       "      <th>국어</th>\n",
       "      <th>영어</th>\n",
       "      <th>국어</th>\n",
       "      <th>영어</th>\n",
       "    </tr>\n",
       "    <tr>\n",
       "      <th>학년</th>\n",
       "      <th></th>\n",
       "      <th></th>\n",
       "      <th></th>\n",
       "      <th></th>\n",
       "      <th></th>\n",
       "      <th></th>\n",
       "    </tr>\n",
       "  </thead>\n",
       "  <tbody>\n",
       "    <tr>\n",
       "      <th>1학년</th>\n",
       "      <td>67</td>\n",
       "      <td>42</td>\n",
       "      <td>39</td>\n",
       "      <td>35</td>\n",
       "      <td>94</td>\n",
       "      <td>46</td>\n",
       "    </tr>\n",
       "    <tr>\n",
       "      <th>2학년</th>\n",
       "      <td>31</td>\n",
       "      <td>36</td>\n",
       "      <td>55</td>\n",
       "      <td>80</td>\n",
       "      <td>50</td>\n",
       "      <td>48</td>\n",
       "    </tr>\n",
       "  </tbody>\n",
       "</table>\n",
       "</div>"
      ],
      "text/plain": [
       "    홍길동     이순신     임꺽정    \n",
       "     국어  영어  국어  영어  국어  영어\n",
       "학년                         \n",
       "1학년  67  42  39  35  94  46\n",
       "2학년  31  36  55  80  50  48"
      ]
     },
     "execution_count": 31,
     "metadata": {},
     "output_type": "execute_result"
    }
   ],
   "source": [
    "df.loc[2020]"
   ]
  },
  {
   "cell_type": "code",
   "execution_count": 32,
   "id": "86daf561",
   "metadata": {},
   "outputs": [
    {
     "data": {
      "text/html": [
       "<div>\n",
       "<style scoped>\n",
       "    .dataframe tbody tr th:only-of-type {\n",
       "        vertical-align: middle;\n",
       "    }\n",
       "\n",
       "    .dataframe tbody tr th {\n",
       "        vertical-align: top;\n",
       "    }\n",
       "\n",
       "    .dataframe thead th {\n",
       "        text-align: right;\n",
       "    }\n",
       "</style>\n",
       "<table border=\"1\" class=\"dataframe\">\n",
       "  <thead>\n",
       "    <tr style=\"text-align: right;\">\n",
       "      <th></th>\n",
       "      <th></th>\n",
       "      <th>국어</th>\n",
       "      <th>영어</th>\n",
       "    </tr>\n",
       "    <tr>\n",
       "      <th>년도</th>\n",
       "      <th>학년</th>\n",
       "      <th></th>\n",
       "      <th></th>\n",
       "    </tr>\n",
       "  </thead>\n",
       "  <tbody>\n",
       "    <tr>\n",
       "      <th rowspan=\"2\" valign=\"top\">2020</th>\n",
       "      <th>1학년</th>\n",
       "      <td>67</td>\n",
       "      <td>42</td>\n",
       "    </tr>\n",
       "    <tr>\n",
       "      <th>2학년</th>\n",
       "      <td>31</td>\n",
       "      <td>36</td>\n",
       "    </tr>\n",
       "    <tr>\n",
       "      <th rowspan=\"2\" valign=\"top\">2021</th>\n",
       "      <th>1학년</th>\n",
       "      <td>41</td>\n",
       "      <td>58</td>\n",
       "    </tr>\n",
       "    <tr>\n",
       "      <th>2학년</th>\n",
       "      <td>43</td>\n",
       "      <td>39</td>\n",
       "    </tr>\n",
       "  </tbody>\n",
       "</table>\n",
       "</div>"
      ],
      "text/plain": [
       "          국어  영어\n",
       "년도   학년         \n",
       "2020 1학년  67  42\n",
       "     2학년  31  36\n",
       "2021 1학년  41  58\n",
       "     2학년  43  39"
      ]
     },
     "execution_count": 32,
     "metadata": {},
     "output_type": "execute_result"
    }
   ],
   "source": [
    "df['홍길동']"
   ]
  },
  {
   "cell_type": "code",
   "execution_count": 42,
   "id": "a3768657",
   "metadata": {},
   "outputs": [
    {
     "data": {
      "text/plain": [
       "년도    학년 \n",
       "2020  1학년    67\n",
       "      2학년    31\n",
       "2021  1학년    41\n",
       "      2학년    43\n",
       "Name: 국어, dtype: int32"
      ]
     },
     "execution_count": 42,
     "metadata": {},
     "output_type": "execute_result"
    }
   ],
   "source": [
    "df['홍길동','국어']\n",
    "df['홍길동']['국어']"
   ]
  },
  {
   "cell_type": "code",
   "execution_count": 43,
   "id": "aa61da96",
   "metadata": {},
   "outputs": [
    {
     "data": {
      "text/html": [
       "<div>\n",
       "<style scoped>\n",
       "    .dataframe tbody tr th:only-of-type {\n",
       "        vertical-align: middle;\n",
       "    }\n",
       "\n",
       "    .dataframe tbody tr th {\n",
       "        vertical-align: top;\n",
       "    }\n",
       "\n",
       "    .dataframe thead tr th {\n",
       "        text-align: left;\n",
       "    }\n",
       "\n",
       "    .dataframe thead tr:last-of-type th {\n",
       "        text-align: right;\n",
       "    }\n",
       "</style>\n",
       "<table border=\"1\" class=\"dataframe\">\n",
       "  <thead>\n",
       "    <tr>\n",
       "      <th></th>\n",
       "      <th></th>\n",
       "      <th colspan=\"2\" halign=\"left\">홍길동</th>\n",
       "      <th colspan=\"2\" halign=\"left\">이순신</th>\n",
       "      <th colspan=\"2\" halign=\"left\">임꺽정</th>\n",
       "    </tr>\n",
       "    <tr>\n",
       "      <th></th>\n",
       "      <th></th>\n",
       "      <th>국어</th>\n",
       "      <th>영어</th>\n",
       "      <th>국어</th>\n",
       "      <th>영어</th>\n",
       "      <th>국어</th>\n",
       "      <th>영어</th>\n",
       "    </tr>\n",
       "    <tr>\n",
       "      <th>년도</th>\n",
       "      <th>학년</th>\n",
       "      <th></th>\n",
       "      <th></th>\n",
       "      <th></th>\n",
       "      <th></th>\n",
       "      <th></th>\n",
       "      <th></th>\n",
       "    </tr>\n",
       "  </thead>\n",
       "  <tbody>\n",
       "    <tr>\n",
       "      <th rowspan=\"2\" valign=\"top\">2020</th>\n",
       "      <th>1학년</th>\n",
       "      <td>67</td>\n",
       "      <td>42</td>\n",
       "      <td>39</td>\n",
       "      <td>35</td>\n",
       "      <td>94</td>\n",
       "      <td>46</td>\n",
       "    </tr>\n",
       "    <tr>\n",
       "      <th>2학년</th>\n",
       "      <td>31</td>\n",
       "      <td>36</td>\n",
       "      <td>55</td>\n",
       "      <td>80</td>\n",
       "      <td>50</td>\n",
       "      <td>48</td>\n",
       "    </tr>\n",
       "    <tr>\n",
       "      <th rowspan=\"2\" valign=\"top\">2022</th>\n",
       "      <th>1학년</th>\n",
       "      <td>41</td>\n",
       "      <td>58</td>\n",
       "      <td>59</td>\n",
       "      <td>44</td>\n",
       "      <td>80</td>\n",
       "      <td>98</td>\n",
       "    </tr>\n",
       "    <tr>\n",
       "      <th>2학년</th>\n",
       "      <td>43</td>\n",
       "      <td>39</td>\n",
       "      <td>37</td>\n",
       "      <td>93</td>\n",
       "      <td>91</td>\n",
       "      <td>52</td>\n",
       "    </tr>\n",
       "  </tbody>\n",
       "</table>\n",
       "</div>"
      ],
      "text/plain": [
       "         홍길동     이순신     임꺽정    \n",
       "          국어  영어  국어  영어  국어  영어\n",
       "년도   학년                         \n",
       "2020 1학년  67  42  39  35  94  46\n",
       "     2학년  31  36  55  80  50  48\n",
       "2022 1학년  41  58  59  44  80  98\n",
       "     2학년  43  39  37  93  91  52"
      ]
     },
     "execution_count": 43,
     "metadata": {},
     "output_type": "execute_result"
    }
   ],
   "source": [
    "df.rename(index={2021:2022})  #인덱스 이름 바꾸기"
   ]
  },
  {
   "cell_type": "code",
   "execution_count": 44,
   "id": "f1aef2c4",
   "metadata": {},
   "outputs": [
    {
     "data": {
      "text/html": [
       "<div>\n",
       "<style scoped>\n",
       "    .dataframe tbody tr th:only-of-type {\n",
       "        vertical-align: middle;\n",
       "    }\n",
       "\n",
       "    .dataframe tbody tr th {\n",
       "        vertical-align: top;\n",
       "    }\n",
       "\n",
       "    .dataframe thead tr th {\n",
       "        text-align: left;\n",
       "    }\n",
       "\n",
       "    .dataframe thead tr:last-of-type th {\n",
       "        text-align: right;\n",
       "    }\n",
       "</style>\n",
       "<table border=\"1\" class=\"dataframe\">\n",
       "  <thead>\n",
       "    <tr>\n",
       "      <th></th>\n",
       "      <th></th>\n",
       "      <th colspan=\"2\" halign=\"left\">홍길동1</th>\n",
       "      <th colspan=\"2\" halign=\"left\">이순신</th>\n",
       "      <th colspan=\"2\" halign=\"left\">임꺽정1</th>\n",
       "    </tr>\n",
       "    <tr>\n",
       "      <th></th>\n",
       "      <th></th>\n",
       "      <th>국어</th>\n",
       "      <th>영어</th>\n",
       "      <th>국어</th>\n",
       "      <th>영어</th>\n",
       "      <th>국어</th>\n",
       "      <th>영어</th>\n",
       "    </tr>\n",
       "    <tr>\n",
       "      <th>년도</th>\n",
       "      <th>학년</th>\n",
       "      <th></th>\n",
       "      <th></th>\n",
       "      <th></th>\n",
       "      <th></th>\n",
       "      <th></th>\n",
       "      <th></th>\n",
       "    </tr>\n",
       "  </thead>\n",
       "  <tbody>\n",
       "    <tr>\n",
       "      <th rowspan=\"2\" valign=\"top\">2020</th>\n",
       "      <th>1학년</th>\n",
       "      <td>67</td>\n",
       "      <td>42</td>\n",
       "      <td>39</td>\n",
       "      <td>35</td>\n",
       "      <td>94</td>\n",
       "      <td>46</td>\n",
       "    </tr>\n",
       "    <tr>\n",
       "      <th>2학년</th>\n",
       "      <td>31</td>\n",
       "      <td>36</td>\n",
       "      <td>55</td>\n",
       "      <td>80</td>\n",
       "      <td>50</td>\n",
       "      <td>48</td>\n",
       "    </tr>\n",
       "    <tr>\n",
       "      <th rowspan=\"2\" valign=\"top\">2021</th>\n",
       "      <th>1학년</th>\n",
       "      <td>41</td>\n",
       "      <td>58</td>\n",
       "      <td>59</td>\n",
       "      <td>44</td>\n",
       "      <td>80</td>\n",
       "      <td>98</td>\n",
       "    </tr>\n",
       "    <tr>\n",
       "      <th>2학년</th>\n",
       "      <td>43</td>\n",
       "      <td>39</td>\n",
       "      <td>37</td>\n",
       "      <td>93</td>\n",
       "      <td>91</td>\n",
       "      <td>52</td>\n",
       "    </tr>\n",
       "  </tbody>\n",
       "</table>\n",
       "</div>"
      ],
      "text/plain": [
       "         홍길동1     이순신     임꺽정1    \n",
       "           국어  영어  국어  영어   국어  영어\n",
       "년도   학년                           \n",
       "2020 1학년   67  42  39  35   94  46\n",
       "     2학년   31  36  55  80   50  48\n",
       "2021 1학년   41  58  59  44   80  98\n",
       "     2학년   43  39  37  93   91  52"
      ]
     },
     "execution_count": 44,
     "metadata": {},
     "output_type": "execute_result"
    }
   ],
   "source": [
    "df.rename(columns={'홍길동':'홍길동1','임꺽정':'임꺽정1'})"
   ]
  },
  {
   "cell_type": "code",
   "execution_count": 47,
   "id": "bc498fe2",
   "metadata": {},
   "outputs": [
    {
     "data": {
      "text/plain": [
       "년도    학년 \n",
       "2020  1학년    46.0\n",
       "      2학년    48.0\n",
       "2021  1학년    98.0\n",
       "      2학년    52.0\n",
       "Name: 영어, dtype: float32"
      ]
     },
     "execution_count": 47,
     "metadata": {},
     "output_type": "execute_result"
    }
   ],
   "source": [
    "df['임꺽정']['영어'].astype(np.float32)"
   ]
  }
 ],
 "metadata": {
  "kernelspec": {
   "display_name": "Python 3",
   "language": "python",
   "name": "python3"
  },
  "language_info": {
   "codemirror_mode": {
    "name": "ipython",
    "version": 3
   },
   "file_extension": ".py",
   "mimetype": "text/x-python",
   "name": "python",
   "nbconvert_exporter": "python",
   "pygments_lexer": "ipython3",
   "version": "3.8.8"
  }
 },
 "nbformat": 4,
 "nbformat_minor": 5
}
