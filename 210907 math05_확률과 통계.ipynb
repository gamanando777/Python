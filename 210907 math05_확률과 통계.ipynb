{
 "cells": [
  {
   "cell_type": "markdown",
   "id": "89f7078d",
   "metadata": {},
   "source": [
    "# 등차와 등비 수열"
   ]
  },
  {
   "cell_type": "code",
   "execution_count": 1,
   "id": "eae95c13",
   "metadata": {},
   "outputs": [],
   "source": [
    "import numpy"
   ]
  },
  {
   "cell_type": "code",
   "execution_count": 2,
   "id": "e41f6eea",
   "metadata": {},
   "outputs": [
    {
     "data": {
      "text/plain": [
       "[1, 4, 7, 10, 13, 16, 19, 22, 25, 28, 31, 34, 37, 40, 43, 46, 49]"
      ]
     },
     "execution_count": 2,
     "metadata": {},
     "output_type": "execute_result"
    }
   ],
   "source": [
    "# 등차 수열\n",
    "n = 3\n",
    "list(range(1,51,n))"
   ]
  },
  {
   "cell_type": "code",
   "execution_count": 3,
   "id": "37c8f082",
   "metadata": {},
   "outputs": [
    {
     "data": {
      "text/plain": [
       "[1, 2, 4, 8, 16, 32, 64, 128, 256, 512, 1024]"
      ]
     },
     "execution_count": 3,
     "metadata": {},
     "output_type": "execute_result"
    }
   ],
   "source": [
    "# 등비 수열 \n",
    "n = 2 # 등비\n",
    "s = 1  # 첫번째 항 \n",
    "result = [s]\n",
    "for i in range(1,11):\n",
    "    result.append(result[i-1]*n)\n",
    "result\n"
   ]
  },
  {
   "cell_type": "markdown",
   "id": "49a0f21a",
   "metadata": {},
   "source": [
    "# 순열(permutation)\n",
    "\n",
    "- itertools 모듈의 permutation 함수 이용"
   ]
  },
  {
   "cell_type": "code",
   "execution_count": 4,
   "id": "ea735403",
   "metadata": {},
   "outputs": [],
   "source": [
    "import itertools"
   ]
  },
  {
   "cell_type": "code",
   "execution_count": 5,
   "id": "49bafa28",
   "metadata": {},
   "outputs": [
    {
     "data": {
      "text/plain": [
       "['__doc__',\n",
       " '__loader__',\n",
       " '__name__',\n",
       " '__package__',\n",
       " '__spec__',\n",
       " '_grouper',\n",
       " '_tee',\n",
       " '_tee_dataobject',\n",
       " 'accumulate',\n",
       " 'chain',\n",
       " 'combinations',\n",
       " 'combinations_with_replacement',\n",
       " 'compress',\n",
       " 'count',\n",
       " 'cycle',\n",
       " 'dropwhile',\n",
       " 'filterfalse',\n",
       " 'groupby',\n",
       " 'islice',\n",
       " 'permutations',\n",
       " 'product',\n",
       " 'repeat',\n",
       " 'starmap',\n",
       " 'takewhile',\n",
       " 'tee',\n",
       " 'zip_longest']"
      ]
     },
     "execution_count": 5,
     "metadata": {},
     "output_type": "execute_result"
    }
   ],
   "source": [
    "#dir(itertools)"
   ]
  },
  {
   "cell_type": "code",
   "execution_count": 7,
   "id": "e84f617e",
   "metadata": {},
   "outputs": [],
   "source": [
    "# itertools.permutations?"
   ]
  },
  {
   "cell_type": "code",
   "execution_count": null,
   "id": "384b7d6e",
   "metadata": {},
   "outputs": [],
   "source": [
    "# zkem 1,2,3 으로 구성할 수 있는 경우의 수"
   ]
  },
  {
   "cell_type": "code",
   "execution_count": 9,
   "id": "7a067586",
   "metadata": {},
   "outputs": [
    {
     "data": {
      "text/plain": [
       "[(1, 2, 3), (1, 3, 2), (2, 1, 3), (2, 3, 1), (3, 1, 2), (3, 2, 1)]"
      ]
     },
     "execution_count": 9,
     "metadata": {},
     "output_type": "execute_result"
    }
   ],
   "source": [
    "# list(itertools.permutations(리스트/넘파이배열, r=갯수))\n",
    "cards = [1,2,3]\n",
    "list(itertools.permutations(cards))"
   ]
  },
  {
   "cell_type": "code",
   "execution_count": 11,
   "id": "4be23be2",
   "metadata": {},
   "outputs": [
    {
     "data": {
      "text/plain": [
       "[(1, 2), (1, 3), (2, 1), (2, 3), (3, 1), (3, 2)]"
      ]
     },
     "execution_count": 11,
     "metadata": {},
     "output_type": "execute_result"
    }
   ],
   "source": [
    "# 카드 1,2,3 에서 2개를 꺼내는 경우의 수\n",
    "list(itertools.permutations(cards,r=2))"
   ]
  },
  {
   "cell_type": "code",
   "execution_count": null,
   "id": "412d5b11",
   "metadata": {},
   "outputs": [],
   "source": [
    "# 슬라이드 114 1~6 을 사용하여 순열 구조. 3자리 자연수를 만드는 방법은?(중복x)"
   ]
  },
  {
   "cell_type": "code",
   "execution_count": 13,
   "id": "75c718b3",
   "metadata": {},
   "outputs": [
    {
     "data": {
      "text/plain": [
       "[1, 2, 3, 4, 5, 6]"
      ]
     },
     "execution_count": 13,
     "metadata": {},
     "output_type": "execute_result"
    }
   ],
   "source": [
    "myList = list(range(1,7))\n",
    "myList"
   ]
  },
  {
   "cell_type": "code",
   "execution_count": 15,
   "id": "9bac8e84",
   "metadata": {},
   "outputs": [
    {
     "data": {
      "text/plain": [
       "120"
      ]
     },
     "execution_count": 15,
     "metadata": {},
     "output_type": "execute_result"
    }
   ],
   "source": [
    "len(list(itertools.permutations(myList, r=3)))"
   ]
  },
  {
   "cell_type": "code",
   "execution_count": 16,
   "id": "3747d24a",
   "metadata": {},
   "outputs": [
    {
     "data": {
      "text/plain": [
       "120"
      ]
     },
     "execution_count": 16,
     "metadata": {},
     "output_type": "execute_result"
    }
   ],
   "source": [
    "# n*(n-1)*(n-2)\n",
    "6*5*4"
   ]
  },
  {
   "cell_type": "markdown",
   "id": "c19aaf83",
   "metadata": {},
   "source": [
    "# 슬라이드 114 1~6 을 사용하여 조합 구조. 3자리 자연수를 만드는 방법은? (중복순열)\n",
    "$ n\\pir $"
   ]
  },
  {
   "cell_type": "code",
   "execution_count": 17,
   "id": "27deadd5",
   "metadata": {},
   "outputs": [
    {
     "data": {
      "text/plain": [
       "216"
      ]
     },
     "execution_count": 17,
     "metadata": {},
     "output_type": "execute_result"
    }
   ],
   "source": [
    "6**3"
   ]
  },
  {
   "cell_type": "markdown",
   "id": "24bdb00a",
   "metadata": {},
   "source": [
    "## 조합\n",
    "- "
   ]
  },
  {
   "cell_type": "code",
   "execution_count": 19,
   "id": "fef8b391",
   "metadata": {},
   "outputs": [
    {
     "data": {
      "text/plain": [
       "[(1, 2), (1, 3), (2, 3)]"
      ]
     },
     "execution_count": 19,
     "metadata": {},
     "output_type": "execute_result"
    }
   ],
   "source": [
    "cards = [1,2,3]\n",
    "list(itertools.combinations(cards,2))"
   ]
  },
  {
   "cell_type": "code",
   "execution_count": 20,
   "id": "38d2ddb2",
   "metadata": {},
   "outputs": [],
   "source": [
    "itertools.combinations?"
   ]
  },
  {
   "cell_type": "code",
   "execution_count": 21,
   "id": "ad3bff56",
   "metadata": {},
   "outputs": [
    {
     "data": {
      "text/plain": [
       "1560"
      ]
     },
     "execution_count": 21,
     "metadata": {},
     "output_type": "execute_result"
    }
   ],
   "source": [
    "# 반장 1명, 부반장 1명을 뽑는 경우의 수는?\n",
    "# 전체인원은 40명\n",
    "40*39"
   ]
  },
  {
   "cell_type": "code",
   "execution_count": 27,
   "id": "bcb40a9f",
   "metadata": {},
   "outputs": [
    {
     "data": {
      "text/plain": [
       "9880"
      ]
     },
     "execution_count": 27,
     "metadata": {},
     "output_type": "execute_result"
    }
   ],
   "source": [
    "# 전체 인원 40명. 주번 3명을 뽑는 경우의 수는?\n",
    "#list(itertools.combinations(range(1,41),3))\n",
    "len(list(itertools.combinations(range(1,41),3)))"
   ]
  },
  {
   "cell_type": "code",
   "execution_count": null,
   "id": "d3d0136e",
   "metadata": {},
   "outputs": [],
   "source": []
  }
 ],
 "metadata": {
  "kernelspec": {
   "display_name": "Python 3",
   "language": "python",
   "name": "python3"
  },
  "language_info": {
   "codemirror_mode": {
    "name": "ipython",
    "version": 3
   },
   "file_extension": ".py",
   "mimetype": "text/x-python",
   "name": "python",
   "nbconvert_exporter": "python",
   "pygments_lexer": "ipython3",
   "version": "3.8.8"
  }
 },
 "nbformat": 4,
 "nbformat_minor": 5
}
