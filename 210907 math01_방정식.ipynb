{
 "cells": [
  {
   "cell_type": "markdown",
   "id": "6355cf36",
   "metadata": {},
   "source": [
    "# 쥬피터 노트북 단축키\n",
    "\n",
    "- a, b : 셀추가\n",
    "- dd : 셀 삭제\n",
    "- m : 마크다운모드\n",
    "- y : 코딩모드\n",
    "\n",
    "- crtl + enter : 실행\n",
    "- alt + enter : 실행하고 아래에 셀 추가\n",
    "\n",
    "- x : 셀 잘라내기\n",
    "- c : 셀 복사하기\n",
    "- v : 셀 붙여넣기"
   ]
  },
  {
   "cell_type": "markdown",
   "id": "026ad940",
   "metadata": {},
   "source": [
    "# 제목 1\n",
    "## 제목 2\n",
    "### 제목 3\n",
    "#### 제목 4\n",
    "\n",
    "```\n",
    "(`) 기호를 이용하면\n",
    "행이 그대로 유지됩니다.\n",
    "```"
   ]
  },
  {
   "cell_type": "markdown",
   "id": "892b66ee",
   "metadata": {},
   "source": [
    "# 파이썬 명령 테스트"
   ]
  },
  {
   "cell_type": "code",
   "execution_count": 1,
   "id": "7377027e",
   "metadata": {},
   "outputs": [
    {
     "name": "stdout",
     "output_type": "stream",
     "text": [
      "1\n",
      "2\n",
      "3\n",
      "4\n",
      "5\n",
      "6\n",
      "7\n",
      "8\n",
      "9\n",
      "10\n"
     ]
    }
   ],
   "source": [
    "for i in range(1,11):\n",
    "    print(i)"
   ]
  },
  {
   "cell_type": "code",
   "execution_count": 5,
   "id": "282cdab2",
   "metadata": {},
   "outputs": [
    {
     "data": {
      "text/plain": [
       "15"
      ]
     },
     "execution_count": 5,
     "metadata": {},
     "output_type": "execute_result"
    }
   ],
   "source": [
    "# 출력이 하나인 경우에는 print 생략 가능\n",
    "x, y = 10, 5\n",
    "x + y"
   ]
  },
  {
   "cell_type": "code",
   "execution_count": 4,
   "id": "5e782f08",
   "metadata": {},
   "outputs": [
    {
     "data": {
      "text/plain": [
       "5"
      ]
     },
     "execution_count": 4,
     "metadata": {},
     "output_type": "execute_result"
    }
   ],
   "source": [
    "# 결과값이 나오는 식을 여러개 넣으면 가장 아래 식만 출력되기 때문에 다음 셀로 넘김. 결과 여러개 보고 싶으면 print 사용.\n",
    "x - y  "
   ]
  },
  {
   "cell_type": "markdown",
   "id": "e3681bfa",
   "metadata": {},
   "source": [
    "# LaTex 문법\n",
    "https://ko.wikipedia.org/wiki/%EC%9C%84%ED%82%A4%EB%B0%B1%EA%B3%BC:TeX_%EB%AC%B8%EB%B2%95\n",
    "```\n",
    "- 마크다운 모드\n",
    "- $ 수식 $ 인라인형\n",
    "- $$ 수식 $$ 블록형\n",
    "```"
   ]
  },
  {
   "cell_type": "markdown",
   "id": "aca2ba64",
   "metadata": {},
   "source": [
    "### 그리스 문자\n",
    "\n",
    "$ \\alpha $\n",
    "$ \\Gamma $\n",
    "$$ \\epsilon $$"
   ]
  },
  {
   "cell_type": "markdown",
   "id": "2fad3e64",
   "metadata": {},
   "source": [
    "### 방정식\n",
    "```\n",
    "$$ y = x^3 + 2x^2 + x + 3 $$\n",
    "```\n",
    "$$ y = x^3 + 2x^2 + x + 3 $$"
   ]
  },
  {
   "cell_type": "markdown",
   "id": "6348fa83",
   "metadata": {},
   "source": [
    "### 분수 \n",
    "```\n",
    "$$ {1 \\over 2} 또는 {3 \\over 4} $$\n",
    "```\n",
    "$$ {1 \\over 2} 또는 {3 \\over 4} $$\n"
   ]
  },
  {
   "cell_type": "markdown",
   "id": "38542334",
   "metadata": {},
   "source": [
    "### 확률\n",
    "```\n",
    "$$ _{n}\\mathrm{P}_{k} $$\n",
    "```\n",
    "$$ _{n}\\mathrm{P}_{k} $$"
   ]
  },
  {
   "cell_type": "markdown",
   "id": "870febfa",
   "metadata": {},
   "source": [
    "# 방정식\n",
    "\n",
    "- Sympy 모듈을 이용한 방정식 파이썬 코드\n",
    "- 설치는?\n",
    "    - 쥬피터 노트북 홈 화면에서 [New] - [Terminal]\n",
    "    - pip install 또는 conda install sympy"
   ]
  },
  {
   "cell_type": "code",
   "execution_count": null,
   "id": "ef12a0ef",
   "metadata": {},
   "outputs": [],
   "source": [
    "# 설치된 모듈 확인\n",
    "# pip list 명령어는 셀에 단독으로 삽입,실행해야 한다."
   ]
  },
  {
   "cell_type": "code",
   "execution_count": 7,
   "id": "052d269f",
   "metadata": {},
   "outputs": [
    {
     "name": "stdout",
     "output_type": "stream",
     "text": [
      "Requirement already satisfied: sympy in c:\\programdata\\anaconda3\\lib\\site-packages (1.8)\n",
      "Requirement already satisfied: mpmath>=0.19 in c:\\programdata\\anaconda3\\lib\\site-packages (from sympy) (1.2.1)\n",
      "Note: you may need to restart the kernel to use updated packages.\n"
     ]
    }
   ],
   "source": [
    "pip install sympy"
   ]
  },
  {
   "cell_type": "code",
   "execution_count": 9,
   "id": "d63947c2",
   "metadata": {},
   "outputs": [],
   "source": [
    "# pip list"
   ]
  },
  {
   "cell_type": "markdown",
   "id": "696c3499",
   "metadata": {},
   "source": [
    "#### sympy 임포트"
   ]
  },
  {
   "cell_type": "code",
   "execution_count": 10,
   "id": "f60e9269",
   "metadata": {},
   "outputs": [],
   "source": [
    "import sympy"
   ]
  },
  {
   "cell_type": "code",
   "execution_count": 12,
   "id": "52b71e32",
   "metadata": {},
   "outputs": [],
   "source": [
    "# 모듈에서 제공되어지는 명령어 확인\n",
    "#print(dir(sympy))"
   ]
  },
  {
   "cell_type": "markdown",
   "id": "83f4d4c4",
   "metadata": {},
   "source": [
    "#### 기호 변수 선언\n",
    "    - 기호변수 = sympy.Symbol(문자열변수)"
   ]
  },
  {
   "cell_type": "code",
   "execution_count": 13,
   "id": "da157846",
   "metadata": {},
   "outputs": [
    {
     "name": "stdout",
     "output_type": "stream",
     "text": [
      "<class 'sympy.core.symbol.Symbol'>\n"
     ]
    }
   ],
   "source": [
    "x = sympy.Symbol('x')\n",
    "print(type(x))"
   ]
  },
  {
   "cell_type": "markdown",
   "id": "f082d621",
   "metadata": {},
   "source": [
    "#### 방정식 선언\n",
    "방정식 변수 = 기호변수를 이용한 방정식"
   ]
  },
  {
   "cell_type": "code",
   "execution_count": 14,
   "id": "d953bc39",
   "metadata": {},
   "outputs": [
    {
     "data": {
      "text/latex": [
       "$\\displaystyle 2 x - 6$"
      ],
      "text/plain": [
       "2*x - 6"
      ]
     },
     "execution_count": 14,
     "metadata": {},
     "output_type": "execute_result"
    }
   ],
   "source": [
    "equation = 2 * x - 6\n",
    "equation"
   ]
  },
  {
   "cell_type": "markdown",
   "id": "08f23197",
   "metadata": {},
   "source": [
    "#### 방정식 해 구하기\n",
    "sympy.solce(방정식변수)"
   ]
  },
  {
   "cell_type": "code",
   "execution_count": 15,
   "id": "39c1a545",
   "metadata": {},
   "outputs": [
    {
     "data": {
      "text/plain": [
       "[3]"
      ]
     },
     "execution_count": 15,
     "metadata": {},
     "output_type": "execute_result"
    }
   ],
   "source": [
    "sympy.solve(equation)"
   ]
  },
  {
   "cell_type": "code",
   "execution_count": 16,
   "id": "b627233c",
   "metadata": {},
   "outputs": [
    {
     "data": {
      "text/plain": [
       "list"
      ]
     },
     "execution_count": 16,
     "metadata": {},
     "output_type": "execute_result"
    }
   ],
   "source": [
    "type(sympy.solve(equation))"
   ]
  },
  {
   "cell_type": "code",
   "execution_count": 17,
   "id": "46aefdec",
   "metadata": {},
   "outputs": [
    {
     "data": {
      "text/plain": [
       "[{x: 3}]"
      ]
     },
     "execution_count": 17,
     "metadata": {},
     "output_type": "execute_result"
    }
   ],
   "source": [
    "sympy.solve(equation,dict=True)"
   ]
  },
  {
   "cell_type": "code",
   "execution_count": 19,
   "id": "02f8e45e",
   "metadata": {},
   "outputs": [
    {
     "data": {
      "text/plain": [
       "dict"
      ]
     },
     "execution_count": 19,
     "metadata": {},
     "output_type": "execute_result"
    }
   ],
   "source": [
    "type(sympy.solve(equation,dict=True)[0])"
   ]
  },
  {
   "cell_type": "markdown",
   "id": "6a360693",
   "metadata": {},
   "source": [
    "# 연립방정식\n",
    "\n",
    "- 기호변수 x,y 선언\n",
    "- 방정식변수1 = 방정식1\n",
    "- 방정식변수2 = 방정식2\n",
    "- sympy.solve((방정식변수1, 방정식변수2), dict=True)"
   ]
  },
  {
   "cell_type": "markdown",
   "id": "776990c7",
   "metadata": {},
   "source": [
    "$ 3x + y -2 $\n",
    "\n",
    "$ x - 2y - 3 $"
   ]
  },
  {
   "cell_type": "code",
   "execution_count": 20,
   "id": "74f9c656",
   "metadata": {},
   "outputs": [
    {
     "data": {
      "text/plain": [
       "(sympy.core.symbol.Symbol, sympy.core.symbol.Symbol)"
      ]
     },
     "execution_count": 20,
     "metadata": {},
     "output_type": "execute_result"
    }
   ],
   "source": [
    "x = sympy.Symbol('x')\n",
    "y = sympy.Symbol('y')\n",
    "type(x), type(y)"
   ]
  },
  {
   "cell_type": "code",
   "execution_count": 21,
   "id": "ced8d14d",
   "metadata": {},
   "outputs": [],
   "source": [
    "equation1 = 3*x+y-2\n",
    "equation2 = x-2*y-3"
   ]
  },
  {
   "cell_type": "code",
   "execution_count": 22,
   "id": "498a2077",
   "metadata": {},
   "outputs": [
    {
     "data": {
      "text/latex": [
       "$\\displaystyle 3 x + y - 2$"
      ],
      "text/plain": [
       "3*x + y - 2"
      ]
     },
     "execution_count": 22,
     "metadata": {},
     "output_type": "execute_result"
    }
   ],
   "source": [
    "equation1"
   ]
  },
  {
   "cell_type": "code",
   "execution_count": 23,
   "id": "071d7ee9",
   "metadata": {},
   "outputs": [
    {
     "data": {
      "text/latex": [
       "$\\displaystyle x - 2 y - 3$"
      ],
      "text/plain": [
       "x - 2*y - 3"
      ]
     },
     "execution_count": 23,
     "metadata": {},
     "output_type": "execute_result"
    }
   ],
   "source": [
    "equation2"
   ]
  },
  {
   "cell_type": "code",
   "execution_count": 24,
   "id": "66fd6091",
   "metadata": {},
   "outputs": [
    {
     "data": {
      "text/plain": [
       "{x: 1, y: -1}"
      ]
     },
     "execution_count": 24,
     "metadata": {},
     "output_type": "execute_result"
    }
   ],
   "source": [
    "sympy.solve((equation1,equation2))"
   ]
  },
  {
   "cell_type": "code",
   "execution_count": 25,
   "id": "78651f0f",
   "metadata": {},
   "outputs": [
    {
     "data": {
      "text/plain": [
       "[{x: 1, y: -1}]"
      ]
     },
     "execution_count": 25,
     "metadata": {},
     "output_type": "execute_result"
    }
   ],
   "source": [
    "# 리스트 딕셔너리 형태\n",
    "sympy.solve((equation1,equation2), dict=True)"
   ]
  },
  {
   "cell_type": "code",
   "execution_count": null,
   "id": "2f475509",
   "metadata": {},
   "outputs": [],
   "source": []
  },
  {
   "cell_type": "code",
   "execution_count": null,
   "id": "9b4c652c",
   "metadata": {},
   "outputs": [],
   "source": []
  },
  {
   "cell_type": "code",
   "execution_count": null,
   "id": "4218bf01",
   "metadata": {},
   "outputs": [],
   "source": []
  },
  {
   "cell_type": "code",
   "execution_count": null,
   "id": "26ec2826",
   "metadata": {},
   "outputs": [],
   "source": []
  },
  {
   "cell_type": "code",
   "execution_count": null,
   "id": "04713221",
   "metadata": {},
   "outputs": [],
   "source": []
  },
  {
   "cell_type": "code",
   "execution_count": null,
   "id": "7dc3498b",
   "metadata": {},
   "outputs": [],
   "source": []
  },
  {
   "cell_type": "code",
   "execution_count": null,
   "id": "10ca097e",
   "metadata": {},
   "outputs": [],
   "source": []
  },
  {
   "cell_type": "code",
   "execution_count": null,
   "id": "ae3b0875",
   "metadata": {},
   "outputs": [],
   "source": []
  }
 ],
 "metadata": {
  "kernelspec": {
   "display_name": "Python 3",
   "language": "python",
   "name": "python3"
  },
  "language_info": {
   "codemirror_mode": {
    "name": "ipython",
    "version": 3
   },
   "file_extension": ".py",
   "mimetype": "text/x-python",
   "name": "python",
   "nbconvert_exporter": "python",
   "pygments_lexer": "ipython3",
   "version": "3.8.8"
  }
 },
 "nbformat": 4,
 "nbformat_minor": 5
}
