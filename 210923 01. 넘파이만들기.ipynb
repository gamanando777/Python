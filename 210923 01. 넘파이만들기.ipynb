{
 "cells": [
  {
   "cell_type": "code",
   "execution_count": 1,
   "id": "f1117eec",
   "metadata": {},
   "outputs": [],
   "source": [
    "import numpy as np"
   ]
  },
  {
   "cell_type": "markdown",
   "id": "c80c65d7",
   "metadata": {},
   "source": [
    "용어정리\n",
    "- scalar : 상수값( 10, 3.14, 'abc')\n",
    "- vector(1차원): [10, 20, 30 ] , ['ab', 'cd', 'ef'], [3.14, 2.5 ]\n",
    "- matrix(2차원): [ [10, 20, 30 ],[40, 50, 60 ] ]  2x3\n",
    "- 3d(3차원):[ [ [10, 20, 30 ],[40, 50, 60 ] ], [ [10, 20, 30 ],[40, 50, 60 ] ] ] 2x2x3\n"
   ]
  },
  {
   "cell_type": "markdown",
   "id": "72f6a90c",
   "metadata": {},
   "source": [
    "## 객체: 속성, 메소드"
   ]
  },
  {
   "cell_type": "markdown",
   "id": "fe575197",
   "metadata": {},
   "source": [
    "### 객체.속성"
   ]
  },
  {
   "cell_type": "markdown",
   "id": "80a56a90",
   "metadata": {},
   "source": [
    "#### 객체.메소드()"
   ]
  },
  {
   "cell_type": "code",
   "execution_count": null,
   "id": "759b2911",
   "metadata": {},
   "outputs": [],
   "source": [
    "4차산업혁명\n",
    "- 사문인터넷: 센서, 네트워크\n",
    "- 인공지능"
   ]
  },
  {
   "cell_type": "code",
   "execution_count": 3,
   "id": "f81a2389",
   "metadata": {},
   "outputs": [
    {
     "name": "stdout",
     "output_type": "stream",
     "text": [
      "[10, 20, 30]\n",
      "<class 'list'>\n"
     ]
    }
   ],
   "source": [
    "myList = [10,20,30]\n",
    "print(myList)\n",
    "print(type(myList))"
   ]
  },
  {
   "cell_type": "markdown",
   "id": "248ef49d",
   "metadata": {},
   "source": [
    "## 1. 리스트 --> ndarray 로 변환"
   ]
  },
  {
   "cell_type": "code",
   "execution_count": 3,
   "id": "408d3b4b",
   "metadata": {},
   "outputs": [
    {
     "name": "stdout",
     "output_type": "stream",
     "text": [
      "[10 20 30]\n",
      "<class 'numpy.ndarray'>\n"
     ]
    },
    {
     "data": {
      "text/plain": [
       "array([10, 20, 30])"
      ]
     },
     "execution_count": 3,
     "metadata": {},
     "output_type": "execute_result"
    }
   ],
   "source": [
    "# np.array(myList)\n",
    "arr1 = np.array([10,20,30])\n",
    "print(arr1)\n",
    "print(type(arr1))\n",
    "arr1"
   ]
  },
  {
   "cell_type": "code",
   "execution_count": 4,
   "id": "e2ff257a",
   "metadata": {},
   "outputs": [
    {
     "name": "stdout",
     "output_type": "stream",
     "text": [
      "[[10 20 30]\n",
      " [40 50 60]]\n"
     ]
    },
    {
     "data": {
      "text/plain": [
       "array([[10, 20, 30],\n",
       "       [40, 50, 60]])"
      ]
     },
     "execution_count": 4,
     "metadata": {},
     "output_type": "execute_result"
    }
   ],
   "source": [
    "arr2 = np.array( [ [10, 20, 30 ],[40, 50, 60 ] ] )\n",
    "print( arr2 )\n",
    "arr2\n"
   ]
  },
  {
   "cell_type": "markdown",
   "id": "60857650",
   "metadata": {},
   "source": [
    "## 2. arange 함수를 이용하여 연속된 ndarray 생성"
   ]
  },
  {
   "cell_type": "code",
   "execution_count": 5,
   "id": "d1bdcc7e",
   "metadata": {},
   "outputs": [
    {
     "data": {
      "text/plain": [
       "array([1, 2, 3, 4])"
      ]
     },
     "execution_count": 5,
     "metadata": {},
     "output_type": "execute_result"
    }
   ],
   "source": [
    "# np.arange(시작값, 끝값, 증가치) 시작값 <= arr < 끝값\n",
    "arr3 = np.arange(1,5,1) # 1 <= arr < 5\n",
    "arr3"
   ]
  },
  {
   "cell_type": "code",
   "execution_count": 6,
   "id": "943000dd",
   "metadata": {},
   "outputs": [
    {
     "data": {
      "text/plain": [
       "array([1, 3, 5, 7, 9])"
      ]
     },
     "execution_count": 6,
     "metadata": {},
     "output_type": "execute_result"
    }
   ],
   "source": [
    "arr4 = np.arange(1,10,2) # 1 <= arr < 10\n",
    "arr4"
   ]
  },
  {
   "cell_type": "markdown",
   "id": "cc881f99",
   "metadata": {},
   "source": [
    "## 3. 랜덤 : random 모듈 이용"
   ]
  },
  {
   "cell_type": "code",
   "execution_count": 10,
   "id": "e1e65622",
   "metadata": {},
   "outputs": [
    {
     "data": {
      "text/plain": [
       "array([4, 7, 7, 1, 9])"
      ]
     },
     "execution_count": 10,
     "metadata": {},
     "output_type": "execute_result"
    }
   ],
   "source": [
    "np.random.seed(5) # 동일한 seed값을 주면 동일한 랜덤값이 나옴. \n",
    "arr5 = np.random.randint(1,10, size=5) # 1 <= random <10\n",
    "arr5"
   ]
  },
  {
   "cell_type": "code",
   "execution_count": 11,
   "id": "abe8c029",
   "metadata": {},
   "outputs": [
    {
     "data": {
      "text/plain": [
       "array([[5, 8, 1],\n",
       "       [1, 8, 2]])"
      ]
     },
     "execution_count": 11,
     "metadata": {},
     "output_type": "execute_result"
    }
   ],
   "source": [
    "arr6 = np.random.randint(1,10,size=(2,3)) # 1 <= random <10\n",
    "arr6 # 2행 3열짜리"
   ]
  },
  {
   "cell_type": "code",
   "execution_count": 12,
   "id": "0819d8ef",
   "metadata": {},
   "outputs": [
    {
     "data": {
      "text/plain": [
       "array([0.08074127, 0.7384403 , 0.44130922, 0.15830987, 0.87993703])"
      ]
     },
     "execution_count": 12,
     "metadata": {},
     "output_type": "execute_result"
    }
   ],
   "source": [
    "arr7 = np.random.rand(5) # 0~1 사이 실수값을 랜덤으로 \n",
    "arr7"
   ]
  },
  {
   "cell_type": "code",
   "execution_count": 13,
   "id": "de721d74",
   "metadata": {},
   "outputs": [
    {
     "data": {
      "text/plain": [
       "array([[0.27408646, 0.41423502],\n",
       "       [0.29607993, 0.62878791],\n",
       "       [0.57983781, 0.5999292 ],\n",
       "       [0.26581912, 0.28468588],\n",
       "       [0.25358821, 0.32756395]])"
      ]
     },
     "execution_count": 13,
     "metadata": {},
     "output_type": "execute_result"
    }
   ],
   "source": [
    "arr8 = np.random.rand(5,2) # 0~1 사이 실수값을 랜덤으로 \n",
    "arr8 # 5행 2열짜리"
   ]
  },
  {
   "cell_type": "code",
   "execution_count": 14,
   "id": "1c7980e9",
   "metadata": {},
   "outputs": [
    {
     "data": {
      "text/plain": [
       "array([-0.21077965, -0.22429966,  0.65122845, -0.96276198,  2.23874294])"
      ]
     },
     "execution_count": 14,
     "metadata": {},
     "output_type": "execute_result"
    }
   ],
   "source": [
    "arr9 = np.random.randn(5) # 표준정규분포 (평균: 0, 편차: 1)\n",
    "arr9 # 값이 많을수록 평균:0, 편차:1 에 가까워짐"
   ]
  },
  {
   "cell_type": "code",
   "execution_count": 15,
   "id": "4427aed0",
   "metadata": {},
   "outputs": [
    {
     "data": {
      "text/plain": [
       "array([[ 0.24778538,  0.32639613,  0.26650019],\n",
       "       [ 0.37746398, -0.02392064,  1.22888408],\n",
       "       [-0.39583126,  1.52502591,  0.26157022],\n",
       "       [-0.4875009 , -0.01560054,  1.13366694],\n",
       "       [ 0.47173221,  1.96863378,  0.96110296]])"
      ]
     },
     "execution_count": 15,
     "metadata": {},
     "output_type": "execute_result"
    }
   ],
   "source": [
    "arr10 = np.random.randn(5,3) # 표준정규분포 (평균: 0, 편차: 1)\n",
    "arr10 # 5행 3열짜리"
   ]
  },
  {
   "cell_type": "code",
   "execution_count": 21,
   "id": "af04edf1",
   "metadata": {},
   "outputs": [
    {
     "data": {
      "text/plain": [
       "array([1, 1, 3])"
      ]
     },
     "execution_count": 21,
     "metadata": {},
     "output_type": "execute_result"
    }
   ],
   "source": [
    "arr11 = np.random.choice([1,2,3,4,5],size=3) # 리스트에서 3개 복원추출(같은 개체가 중복될 수 있음)\n",
    "arr11"
   ]
  },
  {
   "cell_type": "code",
   "execution_count": 22,
   "id": "461ea47c",
   "metadata": {},
   "outputs": [
    {
     "data": {
      "text/plain": [
       "array([6, 8, 9])"
      ]
     },
     "execution_count": 22,
     "metadata": {},
     "output_type": "execute_result"
    }
   ],
   "source": [
    "arr12 = np.random.choice(np.arange(1,11),size=3,replace=False) # 리스트에서 3개 비복원추출(중복추출X)\n",
    "arr12"
   ]
  },
  {
   "cell_type": "code",
   "execution_count": 2,
   "id": "69f36848",
   "metadata": {},
   "outputs": [
    {
     "data": {
      "text/plain": [
       "array([3, 5, 1, 4, 2])"
      ]
     },
     "execution_count": 2,
     "metadata": {},
     "output_type": "execute_result"
    }
   ],
   "source": [
    "my = np.array([1,2,3,4,5])\n",
    "np.random.shuffle(my)\n",
    "my  # 임의로 랜덤하게 배치"
   ]
  },
  {
   "cell_type": "markdown",
   "id": "6b3a0a66",
   "metadata": {},
   "source": [
    "## 4. 타입별 ndarray 만들기"
   ]
  },
  {
   "cell_type": "code",
   "execution_count": 4,
   "id": "9e8884c2",
   "metadata": {},
   "outputs": [
    {
     "data": {
      "text/plain": [
       "array([1, 2, 3, 4, 5])"
      ]
     },
     "execution_count": 4,
     "metadata": {},
     "output_type": "execute_result"
    }
   ],
   "source": [
    "arr13 = np.int32([1,2,3,4,5]) # 개체 하나당 4bytes씩/ 디폴트값은 타입에 맞춰 알아서 결정\n",
    "# np.array([1,2,3,4,5], dtype=np.int32)\n",
    "arr13"
   ]
  },
  {
   "cell_type": "code",
   "execution_count": 5,
   "id": "5773b157",
   "metadata": {},
   "outputs": [
    {
     "data": {
      "text/plain": [
       "array([1, 2, 3, 4, 5], dtype=int64)"
      ]
     },
     "execution_count": 5,
     "metadata": {},
     "output_type": "execute_result"
    }
   ],
   "source": [
    "# np.array([1,2,3,4,5], dtype=np.int64)\n",
    "arr14 = np.int64([1,2,3,4,5])\n",
    "arr14"
   ]
  },
  {
   "cell_type": "code",
   "execution_count": 6,
   "id": "5e11d4f8",
   "metadata": {},
   "outputs": [
    {
     "data": {
      "text/plain": [
       "array([1., 2., 3., 4., 5.], dtype=float32)"
      ]
     },
     "execution_count": 6,
     "metadata": {},
     "output_type": "execute_result"
    }
   ],
   "source": [
    "# np.array([1,2,3,4,5], dtype=np.float32)# 개체 하나당 4bytes씩\n",
    "arr15 = np.float32([1,2,3,4,5])\n",
    "arr15"
   ]
  },
  {
   "cell_type": "code",
   "execution_count": 7,
   "id": "9397691f",
   "metadata": {},
   "outputs": [
    {
     "data": {
      "text/plain": [
       "array(['1', '2', '3', '4', '5'], dtype='<U1')"
      ]
     },
     "execution_count": 7,
     "metadata": {},
     "output_type": "execute_result"
    }
   ],
   "source": [
    "arr16 = np.array([1,2,3,4,5], dtype=np.str_) # 문자열 타입으로 만들기\n",
    "arr16"
   ]
  },
  {
   "cell_type": "markdown",
   "id": "087a5272",
   "metadata": {},
   "source": [
    "## 5. 기타 nparray 만들기"
   ]
  },
  {
   "cell_type": "code",
   "execution_count": 8,
   "id": "d68d9c2a",
   "metadata": {},
   "outputs": [
    {
     "data": {
      "text/plain": [
       "array([1., 1., 1.])"
      ]
     },
     "execution_count": 8,
     "metadata": {},
     "output_type": "execute_result"
    }
   ],
   "source": [
    "arr17 = np.ones(3) # 1로만 구성된 array\n",
    "arr17"
   ]
  },
  {
   "cell_type": "code",
   "execution_count": 10,
   "id": "2a694367",
   "metadata": {},
   "outputs": [
    {
     "data": {
      "text/plain": [
       "array([[1., 1.],\n",
       "       [1., 1.],\n",
       "       [1., 1.]])"
      ]
     },
     "execution_count": 10,
     "metadata": {},
     "output_type": "execute_result"
    }
   ],
   "source": [
    "arr18 = np.ones((3,2)) # 1로만 3행 2열짜리 \n",
    "arr18"
   ]
  },
  {
   "cell_type": "code",
   "execution_count": 11,
   "id": "bd217507",
   "metadata": {},
   "outputs": [
    {
     "data": {
      "text/plain": [
       "array([[0., 0.],\n",
       "       [0., 0.],\n",
       "       [0., 0.]])"
      ]
     },
     "execution_count": 11,
     "metadata": {},
     "output_type": "execute_result"
    }
   ],
   "source": [
    "arr19 = np.zeros((3,2))  # 0으로만 3행 2열짜리\n",
    "arr19"
   ]
  },
  {
   "cell_type": "code",
   "execution_count": 12,
   "id": "1cb94853",
   "metadata": {},
   "outputs": [
    {
     "data": {
      "text/plain": [
       "array([[1., 0., 0.],\n",
       "       [0., 1., 0.],\n",
       "       [0., 0., 1.]])"
      ]
     },
     "execution_count": 12,
     "metadata": {},
     "output_type": "execute_result"
    }
   ],
   "source": [
    "arr20 = np.eye(3) # 희소행렬( one hot encoding.)\n",
    "arr20 # 대각선으로만 1"
   ]
  },
  {
   "cell_type": "code",
   "execution_count": 14,
   "id": "29e8c004",
   "metadata": {},
   "outputs": [
    {
     "data": {
      "text/plain": [
       "array([ 1.        ,  1.18367347,  1.36734694,  1.55102041,  1.73469388,\n",
       "        1.91836735,  2.10204082,  2.28571429,  2.46938776,  2.65306122,\n",
       "        2.83673469,  3.02040816,  3.20408163,  3.3877551 ,  3.57142857,\n",
       "        3.75510204,  3.93877551,  4.12244898,  4.30612245,  4.48979592,\n",
       "        4.67346939,  4.85714286,  5.04081633,  5.2244898 ,  5.40816327,\n",
       "        5.59183673,  5.7755102 ,  5.95918367,  6.14285714,  6.32653061,\n",
       "        6.51020408,  6.69387755,  6.87755102,  7.06122449,  7.24489796,\n",
       "        7.42857143,  7.6122449 ,  7.79591837,  7.97959184,  8.16326531,\n",
       "        8.34693878,  8.53061224,  8.71428571,  8.89795918,  9.08163265,\n",
       "        9.26530612,  9.44897959,  9.63265306,  9.81632653, 10.        ])"
      ]
     },
     "execution_count": 14,
     "metadata": {},
     "output_type": "execute_result"
    }
   ],
   "source": [
    "np.linspace(1,10) # start =1, end =10 50개"
   ]
  },
  {
   "cell_type": "code",
   "execution_count": 15,
   "id": "e9162a99",
   "metadata": {},
   "outputs": [
    {
     "data": {
      "text/plain": [
       "array([ 1. ,  5.5, 10. ])"
      ]
     },
     "execution_count": 15,
     "metadata": {},
     "output_type": "execute_result"
    }
   ],
   "source": [
    "np.linspace(1,10,num =3) # start =1, end =10 3개"
   ]
  },
  {
   "cell_type": "code",
   "execution_count": 16,
   "id": "74700888",
   "metadata": {},
   "outputs": [
    {
     "data": {
      "text/plain": [
       "array([ 1.,  2.,  3.,  4.,  5.,  6.,  7.,  8.,  9., 10.])"
      ]
     },
     "execution_count": 16,
     "metadata": {},
     "output_type": "execute_result"
    }
   ],
   "source": [
    "np.linspace(1,10,num =10) # start =1, end =10 10개"
   ]
  },
  {
   "cell_type": "code",
   "execution_count": 18,
   "id": "1b940592",
   "metadata": {},
   "outputs": [
    {
     "data": {
      "text/plain": [
       "array([1, 2, 3, 4, 5])"
      ]
     },
     "execution_count": 18,
     "metadata": {},
     "output_type": "execute_result"
    }
   ],
   "source": [
    "arr21 = np.unique([1,2,2,3,3,3,4,5])  # 중복 없이 하나씩만\n",
    "arr21"
   ]
  },
  {
   "cell_type": "code",
   "execution_count": 20,
   "id": "8df0671c",
   "metadata": {},
   "outputs": [
    {
     "name": "stdout",
     "output_type": "stream",
     "text": [
      "[1 2 3 4 5]\n",
      "[1 2 3 1 1]\n"
     ]
    }
   ],
   "source": [
    "v,c = np.unique([1,2,2,3,3,3,4,5], return_counts=True)\n",
    "print(v) # 중복 없이 하나씩만\n",
    "print(c) # 몇번 중복되었나"
   ]
  },
  {
   "cell_type": "code",
   "execution_count": 21,
   "id": "d19d51de",
   "metadata": {},
   "outputs": [
    {
     "name": "stdout",
     "output_type": "stream",
     "text": [
      "(1, 1)\n",
      "(2, 2)\n",
      "(3, 3)\n",
      "(4, 1)\n",
      "(5, 1)\n"
     ]
    }
   ],
   "source": [
    "for n in zip(v,c):\n",
    "    print(n)"
   ]
  },
  {
   "cell_type": "code",
   "execution_count": 22,
   "id": "28148d34",
   "metadata": {},
   "outputs": [
    {
     "name": "stdout",
     "output_type": "stream",
     "text": [
      "1 1\n",
      "2 2\n",
      "3 3\n",
      "4 1\n",
      "5 1\n"
     ]
    }
   ],
   "source": [
    "for a,b in zip(v,c):\n",
    "    print(a,b)"
   ]
  },
  {
   "cell_type": "code",
   "execution_count": null,
   "id": "340714d9",
   "metadata": {},
   "outputs": [],
   "source": []
  }
 ],
 "metadata": {
  "kernelspec": {
   "display_name": "Python 3",
   "language": "python",
   "name": "python3"
  },
  "language_info": {
   "codemirror_mode": {
    "name": "ipython",
    "version": 3
   },
   "file_extension": ".py",
   "mimetype": "text/x-python",
   "name": "python",
   "nbconvert_exporter": "python",
   "pygments_lexer": "ipython3",
   "version": "3.8.8"
  }
 },
 "nbformat": 4,
 "nbformat_minor": 5
}
