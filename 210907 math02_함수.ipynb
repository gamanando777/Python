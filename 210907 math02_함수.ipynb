{
 "cells": [
  {
   "cell_type": "markdown",
   "id": "55684525",
   "metadata": {},
   "source": [
    "# 1차 함수 구현"
   ]
  },
  {
   "cell_type": "code",
   "execution_count": 3,
   "id": "4a00e2b8",
   "metadata": {},
   "outputs": [],
   "source": [
    "import sympy\n",
    "import numpy as np"
   ]
  },
  {
   "cell_type": "markdown",
   "id": "f639c891",
   "metadata": {},
   "source": [
    "$ f(x) = 3x-2 $"
   ]
  },
  {
   "cell_type": "code",
   "execution_count": 3,
   "id": "55eca794",
   "metadata": {},
   "outputs": [
    {
     "data": {
      "text/latex": [
       "$\\displaystyle x$"
      ],
      "text/plain": [
       "x"
      ]
     },
     "execution_count": 3,
     "metadata": {},
     "output_type": "execute_result"
    }
   ],
   "source": [
    "# 기호변수 선언 \n",
    "x = sympy.Symbol('x')\n",
    "x"
   ]
  },
  {
   "cell_type": "code",
   "execution_count": 6,
   "id": "76f1340b",
   "metadata": {},
   "outputs": [
    {
     "data": {
      "text/latex": [
       "$\\displaystyle 3 x - 2$"
      ],
      "text/plain": [
       "3*x - 2"
      ]
     },
     "execution_count": 6,
     "metadata": {},
     "output_type": "execute_result"
    }
   ],
   "source": [
    "# 함수식 정의\n",
    "# 함수변수 = 함수식\n",
    "fx = 3*x-2\n",
    "fx"
   ]
  },
  {
   "cell_type": "code",
   "execution_count": 7,
   "id": "d3f9af8a",
   "metadata": {},
   "outputs": [
    {
     "data": {
      "text/latex": [
       "$\\displaystyle 1$"
      ],
      "text/plain": [
       "1"
      ]
     },
     "execution_count": 7,
     "metadata": {},
     "output_type": "execute_result"
    }
   ],
   "source": [
    "# 함수식에 x 값을 대입하여 y 값 구하기\n",
    "# 함수식.subs(x,값)\n",
    "fx.subs(x,1)"
   ]
  },
  {
   "cell_type": "code",
   "execution_count": 8,
   "id": "eb2e5ebc",
   "metadata": {},
   "outputs": [
    {
     "name": "stdout",
     "output_type": "stream",
     "text": [
      " x = 1 일때 함수값은? 1\n",
      " x = 5 일때 함수값은? 13\n",
      " x = 10 일때 함수값은? 28\n"
     ]
    }
   ],
   "source": [
    "print(f' x = 1 일때 함수값은? {fx.subs(x, 1)}')\n",
    "print(f' x = 5 일때 함수값은? {fx.subs(x, 5)}')\n",
    "print(f' x = 10 일때 함수값은? {fx.subs(x, 10)}')"
   ]
  },
  {
   "cell_type": "markdown",
   "id": "9501e7dd",
   "metadata": {},
   "source": [
    "# 2차 함수 \n",
    "\n",
    "$ f(x) = x^2 + 3x + 5 $"
   ]
  },
  {
   "cell_type": "code",
   "execution_count": 11,
   "id": "e0c38567",
   "metadata": {},
   "outputs": [],
   "source": [
    "# 기호변수 선언\n",
    "x = sympy.Symbol('x')"
   ]
  },
  {
   "cell_type": "code",
   "execution_count": 12,
   "id": "87b178a0",
   "metadata": {},
   "outputs": [
    {
     "data": {
      "text/latex": [
       "$\\displaystyle x^{2} + 3 x + 5$"
      ],
      "text/plain": [
       "x**2 + 3*x + 5"
      ]
     },
     "execution_count": 12,
     "metadata": {},
     "output_type": "execute_result"
    }
   ],
   "source": [
    "# 함수식 정의\n",
    "fx = x**2 + 3*x+5\n",
    "fx"
   ]
  },
  {
   "cell_type": "code",
   "execution_count": 13,
   "id": "272fff5e",
   "metadata": {},
   "outputs": [
    {
     "name": "stdout",
     "output_type": "stream",
     "text": [
      " x = 1 일때 함수값은? 9\n",
      " x = 5 일때 함수값은? 45\n",
      " x = 10 일때 함수값은? 135\n"
     ]
    }
   ],
   "source": [
    "# 함수값 구하기 \n",
    "print(f' x = 1 일때 함수값은? {fx.subs(x, 1)}')\n",
    "print(f' x = 5 일때 함수값은? {fx.subs(x, 5)}')\n",
    "print(f' x = 10 일때 함수값은? {fx.subs(x, 10)}')"
   ]
  },
  {
   "cell_type": "markdown",
   "id": "5621e968",
   "metadata": {},
   "source": [
    "# 1차 함수의 그래프\n",
    "\n",
    "- 시각화 도구 : matplotlib, seaborn\n",
    "- 설치는 pip install matplotlib \n",
    "- https://matplotlib.org/"
   ]
  },
  {
   "cell_type": "code",
   "execution_count": 15,
   "id": "973f7103",
   "metadata": {},
   "outputs": [],
   "source": [
    "#pip list"
   ]
  },
  {
   "cell_type": "markdown",
   "id": "c146e76f",
   "metadata": {},
   "source": [
    "### 관련 모듈 import"
   ]
  },
  {
   "cell_type": "code",
   "execution_count": 7,
   "id": "969595ca",
   "metadata": {},
   "outputs": [],
   "source": [
    "import matplotlib.pyplot as plt\n",
    "import numpy as np"
   ]
  },
  {
   "cell_type": "markdown",
   "id": "1f058739",
   "metadata": {},
   "source": [
    "### x,y 데이터 선언"
   ]
  },
  {
   "cell_type": "code",
   "execution_count": 17,
   "id": "c75412d9",
   "metadata": {},
   "outputs": [
    {
     "data": {
      "text/plain": [
       "array([-4, -3, -2, -1,  0,  1,  2,  3,  4])"
      ]
     },
     "execution_count": 17,
     "metadata": {},
     "output_type": "execute_result"
    }
   ],
   "source": [
    "# 넘파이 배열로 선언\n",
    "# 넘파이배열 * 상수\n",
    "# np.arange(start, end, step)\n",
    "x = np.arange(-4,5)\n",
    "x"
   ]
  },
  {
   "cell_type": "code",
   "execution_count": 18,
   "id": "c39d5577",
   "metadata": {},
   "outputs": [
    {
     "data": {
      "text/plain": [
       "array([-8, -6, -4, -2,  0,  2,  4,  6,  8])"
      ]
     },
     "execution_count": 18,
     "metadata": {},
     "output_type": "execute_result"
    }
   ],
   "source": [
    "y = 2*x\n",
    "y"
   ]
  },
  {
   "cell_type": "markdown",
   "id": "79475962",
   "metadata": {},
   "source": [
    "### 그래프\n",
    "- plt.plot(x데이타, y데이타)"
   ]
  },
  {
   "cell_type": "code",
   "execution_count": 19,
   "id": "cff1d358",
   "metadata": {},
   "outputs": [
    {
     "data": {
      "image/png": "[encoded data removed]",
      "text/plain": [
       "<Figure size 432x288 with 1 Axes>"
      ]
     },
     "metadata": {
      "needs_background": "light"
     },
     "output_type": "display_data"
    }
   ],
   "source": [
    "plt.plot(x, y)\n",
    "plt.grid()"
   ]
  },
  {
   "cell_type": "code",
   "execution_count": 20,
   "id": "b47af55b",
   "metadata": {},
   "outputs": [
    {
     "data": {
      "image/png": "[encoded data removed]",
      "text/plain": [
       "<Figure size 432x288 with 1 Axes>"
      ]
     },
     "metadata": {
      "needs_background": "light"
     },
     "output_type": "display_data"
    }
   ],
   "source": [
    "y = 2*x\n",
    "plt.plot(x, y)\n",
    "y = 2*x + 3\n",
    "plt.plot(x, y)\n",
    "y = 2*x - 3\n",
    "plt.plot(x, y)\n",
    "plt.grid()"
   ]
  },
  {
   "cell_type": "code",
   "execution_count": 21,
   "id": "5fc07130",
   "metadata": {},
   "outputs": [
    {
     "data": {
      "image/png": "[encoded data removed]",
      "text/plain": [
       "<Figure size 432x288 with 1 Axes>"
      ]
     },
     "metadata": {
      "needs_background": "light"
     },
     "output_type": "display_data"
    }
   ],
   "source": [
    "y = 2*x\n",
    "plt.plot(x, y, label='2*x')\n",
    "y = 2*x + 3\n",
    "plt.plot(x, y, label='2*x + 3')\n",
    "y = 2*x - 3\n",
    "plt.plot(x, y, label='2*x -3')\n",
    "plt.legend()\n",
    "plt.grid()\n"
   ]
  },
  {
   "cell_type": "code",
   "execution_count": 23,
   "id": "b2c19323",
   "metadata": {},
   "outputs": [
    {
     "data": {
      "image/png": "[encoded data removed]",
      "text/plain": [
       "<Figure size 432x288 with 1 Axes>"
      ]
     },
     "metadata": {
      "needs_background": "light"
     },
     "output_type": "display_data"
    }
   ],
   "source": [
    "y = 2*x\n",
    "plt.plot(x, y, label='2*x')\n",
    "y = 2*x + 3\n",
    "plt.plot(x, y, label='2*x + 3')\n",
    "y = 2*x - 3\n",
    "plt.plot(x, y, label='2*x -3')\n",
    "plt.legend()\n",
    "plt.grid()\n",
    "\n",
    "# 그래프 저장 \n",
    "plt.savefig('graph.png')"
   ]
  },
  {
   "cell_type": "code",
   "execution_count": 24,
   "id": "76eea0ec",
   "metadata": {},
   "outputs": [],
   "source": [
    "# 현재 작업폴더의 폴더와 파일 목록 표시"
   ]
  },
  {
   "cell_type": "code",
   "execution_count": 25,
   "id": "b0461da1",
   "metadata": {},
   "outputs": [
    {
     "name": "stdout",
     "output_type": "stream",
     "text": [
      " C 드라이브의 볼륨에는 이름이 없습니다.\n",
      " 볼륨 일련 번호: 582F-D8CD\n",
      "\n",
      " C:\\workspace\\math 디렉터리\n",
      "\n",
      "2021-09-07  오후 12:16    <DIR>          .\n",
      "2021-09-07  오후 12:16    <DIR>          ..\n",
      "2021-09-07  오후 12:15    <DIR>          .ipynb_checkpoints\n",
      "2021-09-07  오후 06:05    <DIR>          data\n",
      "2021-09-07  오후 12:17            15,855 graph.png\n",
      "2021-09-07  오전 11:40            12,057 math01_방정식.ipynb\n",
      "2021-09-07  오후 12:16            81,053 math02_함수.ipynb\n",
      "               3개 파일             108,965 바이트\n",
      "               4개 디렉터리  379,067,482,112 바이트 남음\n"
     ]
    }
   ],
   "source": [
    "ls"
   ]
  },
  {
   "cell_type": "markdown",
   "id": "50fc63d8",
   "metadata": {},
   "source": [
    "# 2차함수의 그래프\n",
    "\n",
    "$ f(x) = x^2 $"
   ]
  },
  {
   "cell_type": "code",
   "execution_count": 11,
   "id": "29f8b8cd",
   "metadata": {},
   "outputs": [
    {
     "data": {
      "text/plain": [
       "array([-4.        , -3.11111111, -2.22222222, -1.33333333, -0.44444444,\n",
       "        0.44444444,  1.33333333,  2.22222222,  3.11111111,  4.        ])"
      ]
     },
     "execution_count": 11,
     "metadata": {},
     "output_type": "execute_result"
    }
   ],
   "source": [
    "# np.linespace(start, end, count)\n",
    "# start ~ end 까지 count 개수만큼 넘파이 배열 생성\n",
    "x = np.linspace(-4,4,10)\n",
    "x"
   ]
  },
  {
   "cell_type": "code",
   "execution_count": 13,
   "id": "b5c51663",
   "metadata": {},
   "outputs": [
    {
     "data": {
      "text/plain": [
       "array([-4, -3, -2, -1,  0,  1,  2,  3,  4])"
      ]
     },
     "execution_count": 13,
     "metadata": {},
     "output_type": "execute_result"
    }
   ],
   "source": [
    "# np.arange(start, end, step)\n",
    "x = np.arange(-4,5)\n",
    "x"
   ]
  },
  {
   "cell_type": "code",
   "execution_count": 5,
   "id": "008bef5c",
   "metadata": {},
   "outputs": [
    {
     "data": {
      "text/plain": [
       "array([16,  9,  4,  1,  0,  1,  4,  9, 16], dtype=int32)"
      ]
     },
     "execution_count": 5,
     "metadata": {},
     "output_type": "execute_result"
    }
   ],
   "source": [
    "y = x**2\n",
    "y"
   ]
  },
  {
   "cell_type": "code",
   "execution_count": 14,
   "id": "8b02443b",
   "metadata": {},
   "outputs": [
    {
     "data": {
      "image/png": "[encoded data removed]",
      "text/plain": [
       "<Figure size 432x288 with 1 Axes>"
      ]
     },
     "metadata": {
      "needs_background": "light"
     },
     "output_type": "display_data"
    }
   ],
   "source": [
    "plt.plot(x, y)\n",
    "plt.grid()"
   ]
  },
  {
   "cell_type": "code",
   "execution_count": 16,
   "id": "95ffc8cf",
   "metadata": {},
   "outputs": [
    {
     "data": {
      "image/png": "[encoded data removed]",
      "text/plain": [
       "<Figure size 432x288 with 1 Axes>"
      ]
     },
     "metadata": {
      "needs_background": "light"
     },
     "output_type": "display_data"
    }
   ],
   "source": [
    "y = x**2\n",
    "plt.plot(x,y,label='x**2')\n",
    "y = x**3\n",
    "plt.plot(x,y,label='x**4')\n",
    "y = -x**2\n",
    "plt.plot(x,y,label='x**6')\n",
    "\n",
    "plt.legend()\n",
    "plt.grid()\n",
    "plt.savefig('graph2.png')"
   ]
  },
  {
   "cell_type": "code",
   "execution_count": 17,
   "id": "52134d2a",
   "metadata": {},
   "outputs": [
    {
     "data": {
      "image/png": "[encoded data removed]",
      "text/plain": [
       "<Figure size 432x288 with 1 Axes>"
      ]
     },
     "metadata": {
      "needs_background": "light"
     },
     "output_type": "display_data"
    }
   ],
   "source": [
    "y = x**2\n",
    "plt.plot(x, y , label='x**2')\n",
    "y = x**2 + 5\n",
    "plt.plot(x, y , label='x**2 + 5')\n",
    "y = -x**2\n",
    "plt.plot(x, y , label='-x**2')\n",
    "plt.legend()\n",
    "plt.grid()\n",
    "plt.savefig('graph2.png')"
   ]
  },
  {
   "cell_type": "code",
   "execution_count": null,
   "id": "fc91ac69",
   "metadata": {},
   "outputs": [],
   "source": []
  },
  {
   "cell_type": "code",
   "execution_count": null,
   "id": "ff435007",
   "metadata": {},
   "outputs": [],
   "source": []
  },
  {
   "cell_type": "code",
   "execution_count": null,
   "id": "96b9b853",
   "metadata": {},
   "outputs": [],
   "source": []
  },
  {
   "cell_type": "code",
   "execution_count": null,
   "id": "58f36f60",
   "metadata": {},
   "outputs": [],
   "source": []
  },
  {
   "cell_type": "code",
   "execution_count": null,
   "id": "1023edee",
   "metadata": {},
   "outputs": [],
   "source": []
  },
  {
   "cell_type": "code",
   "execution_count": null,
   "id": "6694785e",
   "metadata": {},
   "outputs": [],
   "source": []
  },
  {
   "cell_type": "code",
   "execution_count": null,
   "id": "1125edbd",
   "metadata": {},
   "outputs": [],
   "source": []
  },
  {
   "cell_type": "code",
   "execution_count": null,
   "id": "984019d0",
   "metadata": {},
   "outputs": [],
   "source": []
  },
  {
   "cell_type": "code",
   "execution_count": null,
   "id": "9ed81295",
   "metadata": {},
   "outputs": [],
   "source": []
  },
  {
   "cell_type": "code",
   "execution_count": null,
   "id": "66f25573",
   "metadata": {},
   "outputs": [],
   "source": []
  },
  {
   "cell_type": "code",
   "execution_count": null,
   "id": "ea43d697",
   "metadata": {},
   "outputs": [],
   "source": []
  }
 ],
 "metadata": {
  "kernelspec": {
   "display_name": "Python 3",
   "language": "python",
   "name": "python3"
  },
  "language_info": {
   "codemirror_mode": {
    "name": "ipython",
    "version": 3
   },
   "file_extension": ".py",
   "mimetype": "text/x-python",
   "name": "python",
   "nbconvert_exporter": "python",
   "pygments_lexer": "ipython3",
   "version": "3.8.8"
  }
 },
 "nbformat": 4,
 "nbformat_minor": 5
}
