{
 "cells": [
  {
   "cell_type": "code",
   "execution_count": 1,
   "id": "1175db06",
   "metadata": {},
   "outputs": [],
   "source": [
    "import numpy as np"
   ]
  },
  {
   "cell_type": "code",
   "execution_count": 2,
   "id": "b382a7c1",
   "metadata": {},
   "outputs": [
    {
     "data": {
      "text/plain": [
       "array([11, 22, 33, 44, 55])"
      ]
     },
     "execution_count": 2,
     "metadata": {},
     "output_type": "execute_result"
    }
   ],
   "source": [
    "arr= np.array( [11,22,33,44,55] )\n",
    "arr"
   ]
  },
  {
   "cell_type": "markdown",
   "id": "8c5f8a76",
   "metadata": {},
   "source": [
    "## 산술, 관계, 논리\n",
    "- element wise(요소별 연산)"
   ]
  },
  {
   "cell_type": "code",
   "execution_count": 3,
   "id": "dd0eb0a7",
   "metadata": {},
   "outputs": [
    {
     "data": {
      "text/plain": [
       "array([12, 23, 34, 45, 56])"
      ]
     },
     "execution_count": 3,
     "metadata": {},
     "output_type": "execute_result"
    }
   ],
   "source": [
    "arr+1  #요소별 +1"
   ]
  },
  {
   "cell_type": "code",
   "execution_count": 4,
   "id": "c8a7ad47",
   "metadata": {},
   "outputs": [
    {
     "data": {
      "text/plain": [
       "array([ 22,  44,  66,  88, 110])"
      ]
     },
     "execution_count": 4,
     "metadata": {},
     "output_type": "execute_result"
    }
   ],
   "source": [
    "arr*2"
   ]
  },
  {
   "cell_type": "markdown",
   "id": "54d1c79e",
   "metadata": {},
   "source": [
    "******"
   ]
  },
  {
   "cell_type": "markdown",
   "id": "abc96dd4",
   "metadata": {},
   "source": [
    "아래와 같이 연봉데이터가 있을 때 각 연봉에 대해 세금 3.3을 제한 실수령액을 구하시오."
   ]
  },
  {
   "cell_type": "code",
   "execution_count": 7,
   "id": "4e8b6009",
   "metadata": {},
   "outputs": [
    {
     "data": {
      "text/plain": [
       "array([ 967., 1934., 2901., 3868., 4835.])"
      ]
     },
     "execution_count": 7,
     "metadata": {},
     "output_type": "execute_result"
    }
   ],
   "source": [
    "salary = np.array( [1000,2000,3000,4000,5000])\n",
    "salary\n",
    "\n",
    "#1\n",
    "salary*0.967"
   ]
  },
  {
   "cell_type": "code",
   "execution_count": 8,
   "id": "155ae21a",
   "metadata": {},
   "outputs": [
    {
     "data": {
      "text/plain": [
       "array([ 967., 1934., 2901., 3868., 4835.])"
      ]
     },
     "execution_count": 8,
     "metadata": {},
     "output_type": "execute_result"
    }
   ],
   "source": [
    "#2\n",
    "salary1 = salary-(salary*0.033) \n",
    "salary1\n"
   ]
  },
  {
   "cell_type": "code",
   "execution_count": 9,
   "id": "0c0022fc",
   "metadata": {},
   "outputs": [
    {
     "data": {
      "text/plain": [
       "array([ 967., 1934., 2901., 3868., 4835.])"
      ]
     },
     "execution_count": 9,
     "metadata": {},
     "output_type": "execute_result"
    }
   ],
   "source": [
    "#3\n",
    "salary-salary*0.033\n"
   ]
  },
  {
   "cell_type": "markdown",
   "id": "1bd5e275",
   "metadata": {},
   "source": [
    "*********"
   ]
  },
  {
   "cell_type": "code",
   "execution_count": 10,
   "id": "1b46aa28",
   "metadata": {
    "scrolled": true
   },
   "outputs": [
    {
     "data": {
      "text/plain": [
       "array([ 989, 1978, 2967, 3956, 4945])"
      ]
     },
     "execution_count": 10,
     "metadata": {},
     "output_type": "execute_result"
    }
   ],
   "source": [
    "salary-arr  # 같은 인덱스에서 계산"
   ]
  },
  {
   "cell_type": "markdown",
   "id": "13554c69",
   "metadata": {},
   "source": [
    "## 관계연산자(<, >, <=, >=, ==, !=)"
   ]
  },
  {
   "cell_type": "code",
   "execution_count": 11,
   "id": "2c4eb862",
   "metadata": {},
   "outputs": [
    {
     "data": {
      "text/plain": [
       "array([False, False,  True,  True,  True])"
      ]
     },
     "execution_count": 11,
     "metadata": {},
     "output_type": "execute_result"
    }
   ],
   "source": [
    "arr>30"
   ]
  },
  {
   "cell_type": "code",
   "execution_count": 13,
   "id": "e404c248",
   "metadata": {},
   "outputs": [
    {
     "data": {
      "text/plain": [
       "array([33, 44, 55])"
      ]
     },
     "execution_count": 13,
     "metadata": {},
     "output_type": "execute_result"
    }
   ],
   "source": [
    "arr[arr>30]  #boolean인덱싱"
   ]
  },
  {
   "cell_type": "code",
   "execution_count": 14,
   "id": "ff9dda88",
   "metadata": {},
   "outputs": [
    {
     "data": {
      "text/plain": [
       "array([44])"
      ]
     },
     "execution_count": 14,
     "metadata": {},
     "output_type": "execute_result"
    }
   ],
   "source": [
    "arr[arr == 44]"
   ]
  },
  {
   "cell_type": "markdown",
   "id": "73f11a14",
   "metadata": {},
   "source": [
    "******"
   ]
  },
  {
   "cell_type": "code",
   "execution_count": 26,
   "id": "ee8abbdf",
   "metadata": {},
   "outputs": [
    {
     "data": {
      "text/plain": [
       "['김철수', '이영철']"
      ]
     },
     "execution_count": 26,
     "metadata": {},
     "output_type": "execute_result"
    }
   ],
   "source": [
    "# '철' in '김철수'\n",
    "nameArr = np.array(['홍길동','김철수','이영철','임꺽정','이황'])\n",
    "[n for n in nameArr if '철' in n]"
   ]
  },
  {
   "cell_type": "markdown",
   "id": "ee8afeef",
   "metadata": {},
   "source": [
    "## 논리연산자(and(&), or(|), not(~))"
   ]
  },
  {
   "cell_type": "code",
   "execution_count": 30,
   "id": "1d97e2a9",
   "metadata": {},
   "outputs": [
    {
     "data": {
      "text/plain": [
       "array([ True, False,  True, False, False])"
      ]
     },
     "execution_count": 30,
     "metadata": {},
     "output_type": "execute_result"
    }
   ],
   "source": [
    "(arr == 11) | (arr == 33)"
   ]
  },
  {
   "cell_type": "code",
   "execution_count": 29,
   "id": "bf589a97",
   "metadata": {},
   "outputs": [
    {
     "data": {
      "text/plain": [
       "array([11, 33])"
      ]
     },
     "execution_count": 29,
     "metadata": {},
     "output_type": "execute_result"
    }
   ],
   "source": [
    "arr[ (arr == 11) | (arr == 33) ]"
   ]
  },
  {
   "cell_type": "code",
   "execution_count": 31,
   "id": "707fcf6c",
   "metadata": {},
   "outputs": [
    {
     "data": {
      "text/plain": [
       "array([False,  True,  True,  True, False])"
      ]
     },
     "execution_count": 31,
     "metadata": {},
     "output_type": "execute_result"
    }
   ],
   "source": [
    "(arr > 20) & (arr < 50)"
   ]
  },
  {
   "cell_type": "code",
   "execution_count": 32,
   "id": "f1d23943",
   "metadata": {},
   "outputs": [
    {
     "data": {
      "text/plain": [
       "array([22, 33, 44])"
      ]
     },
     "execution_count": 32,
     "metadata": {},
     "output_type": "execute_result"
    }
   ],
   "source": [
    "arr [(arr > 20) & (arr < 50) ]"
   ]
  },
  {
   "cell_type": "code",
   "execution_count": 33,
   "id": "0dc70746",
   "metadata": {},
   "outputs": [
    {
     "data": {
      "text/plain": [
       "array([22, 44, 55])"
      ]
     },
     "execution_count": 33,
     "metadata": {},
     "output_type": "execute_result"
    }
   ],
   "source": [
    "arr[ ~( (arr==11) | (arr==33) ) ]"
   ]
  },
  {
   "cell_type": "code",
   "execution_count": 34,
   "id": "d4aed8e7",
   "metadata": {},
   "outputs": [
    {
     "data": {
      "text/plain": [
       "array([11, 22, 44, 55])"
      ]
     },
     "execution_count": 34,
     "metadata": {},
     "output_type": "execute_result"
    }
   ],
   "source": [
    "arr [~(arr==33)]"
   ]
  },
  {
   "cell_type": "code",
   "execution_count": 35,
   "id": "1a2244e3",
   "metadata": {},
   "outputs": [
    {
     "data": {
      "text/plain": [
       "array([11, 22, 44, 55])"
      ]
     },
     "execution_count": 35,
     "metadata": {},
     "output_type": "execute_result"
    }
   ],
   "source": [
    "arr[arr != 33]"
   ]
  },
  {
   "cell_type": "code",
   "execution_count": null,
   "id": "5e318344",
   "metadata": {},
   "outputs": [],
   "source": []
  }
 ],
 "metadata": {
  "kernelspec": {
   "display_name": "Python 3",
   "language": "python",
   "name": "python3"
  },
  "language_info": {
   "codemirror_mode": {
    "name": "ipython",
    "version": 3
   },
   "file_extension": ".py",
   "mimetype": "text/x-python",
   "name": "python",
   "nbconvert_exporter": "python",
   "pygments_lexer": "ipython3",
   "version": "3.8.8"
  }
 },
 "nbformat": 4,
 "nbformat_minor": 5
}
