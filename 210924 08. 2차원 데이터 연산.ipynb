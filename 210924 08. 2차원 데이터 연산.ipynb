{
 "cells": [
  {
   "cell_type": "code",
   "execution_count": 1,
   "id": "28f4590b",
   "metadata": {},
   "outputs": [],
   "source": [
    "import numpy as np"
   ]
  },
  {
   "cell_type": "code",
   "execution_count": 18,
   "id": "fdf2ec38",
   "metadata": {},
   "outputs": [
    {
     "data": {
      "text/plain": [
       "array([[ 1,  2,  3],\n",
       "       [ 7,  5,  2],\n",
       "       [10,  1,  8],\n",
       "       [ 6,  3,  4]])"
      ]
     },
     "execution_count": 18,
     "metadata": {},
     "output_type": "execute_result"
    }
   ],
   "source": [
    "data = np.array( [ [1,2,3],[7,5,2],[10,1,8],[6,3,4] ] )\n",
    "data"
   ]
  },
  {
   "cell_type": "code",
   "execution_count": 4,
   "id": "938bf141",
   "metadata": {},
   "outputs": [
    {
     "data": {
      "text/plain": [
       "array([[ 3,  4,  5],\n",
       "       [ 9,  7,  4],\n",
       "       [12,  3, 10],\n",
       "       [ 8,  5,  6]])"
      ]
     },
     "execution_count": 4,
     "metadata": {},
     "output_type": "execute_result"
    }
   ],
   "source": [
    "data +2 # 요소별 연산"
   ]
  },
  {
   "cell_type": "code",
   "execution_count": 5,
   "id": "d3a5d1d7",
   "metadata": {},
   "outputs": [
    {
     "data": {
      "text/plain": [
       "array([[ 2,  4,  6],\n",
       "       [14, 10,  4],\n",
       "       [20,  2, 16],\n",
       "       [12,  6,  8]])"
      ]
     },
     "execution_count": 5,
     "metadata": {},
     "output_type": "execute_result"
    }
   ],
   "source": [
    "data*2 # 요소별 연산"
   ]
  },
  {
   "cell_type": "code",
   "execution_count": 8,
   "id": "eb8e3451",
   "metadata": {},
   "outputs": [
    {
     "data": {
      "text/plain": [
       "array([7, 5, 2])"
      ]
     },
     "execution_count": 8,
     "metadata": {},
     "output_type": "execute_result"
    }
   ],
   "source": [
    "data[1] #1행"
   ]
  },
  {
   "cell_type": "code",
   "execution_count": 9,
   "id": "7312773a",
   "metadata": {},
   "outputs": [
    {
     "data": {
      "text/plain": [
       "array([9, 7, 4])"
      ]
     },
     "execution_count": 9,
     "metadata": {},
     "output_type": "execute_result"
    }
   ],
   "source": [
    "data[1]+2"
   ]
  },
  {
   "cell_type": "code",
   "execution_count": 10,
   "id": "149fe413",
   "metadata": {},
   "outputs": [
    {
     "data": {
      "text/plain": [
       "array([[ 1,  2,  3],\n",
       "       [ 2,  2,  2],\n",
       "       [10,  1,  8],\n",
       "       [ 6,  3,  4]])"
      ]
     },
     "execution_count": 10,
     "metadata": {},
     "output_type": "execute_result"
    }
   ],
   "source": [
    "data[1] = 2\n",
    "data  #1행을 다 2로"
   ]
  },
  {
   "cell_type": "code",
   "execution_count": 13,
   "id": "18552ebc",
   "metadata": {},
   "outputs": [
    {
     "data": {
      "text/plain": [
       "array([[ 1,  2,  3],\n",
       "       [ 1,  2,  3],\n",
       "       [10,  1,  8],\n",
       "       [ 6,  3,  4]])"
      ]
     },
     "execution_count": 13,
     "metadata": {},
     "output_type": "execute_result"
    }
   ],
   "source": [
    "data[1]=[1,2,3]\n",
    "data # 1행을 1,2,3으로 수정"
   ]
  },
  {
   "cell_type": "code",
   "execution_count": 16,
   "id": "0a20262b",
   "metadata": {},
   "outputs": [
    {
     "data": {
      "text/plain": [
       "array([[ 1,  2,  3],\n",
       "       [ 7,  8,  9],\n",
       "       [10,  1,  8],\n",
       "       [ 6,  3,  4]])"
      ]
     },
     "execution_count": 16,
     "metadata": {},
     "output_type": "execute_result"
    }
   ],
   "source": [
    "data[1] = data[1]+2\n",
    "data #1번 행만 +2"
   ]
  },
  {
   "cell_type": "code",
   "execution_count": 17,
   "id": "99132d37",
   "metadata": {},
   "outputs": [
    {
     "data": {
      "text/plain": [
       "array([[ 1,  4,  3],\n",
       "       [ 7, 10,  9],\n",
       "       [10,  3,  8],\n",
       "       [ 6,  5,  4]])"
      ]
     },
     "execution_count": 17,
     "metadata": {},
     "output_type": "execute_result"
    }
   ],
   "source": [
    "data[:,1] = data[:,1]+2\n",
    "data  # 1번 열만 +2"
   ]
  },
  {
   "cell_type": "markdown",
   "id": "dfc08d42",
   "metadata": {},
   "source": [
    "## 관계연산자"
   ]
  },
  {
   "cell_type": "code",
   "execution_count": 19,
   "id": "77b02bc6",
   "metadata": {},
   "outputs": [
    {
     "data": {
      "text/plain": [
       "array([[ 1,  2,  3],\n",
       "       [ 7,  5,  2],\n",
       "       [10,  1,  8],\n",
       "       [ 6,  3,  4]])"
      ]
     },
     "execution_count": 19,
     "metadata": {},
     "output_type": "execute_result"
    }
   ],
   "source": [
    "data = np.array( [ [1,2,3],[7,5,2],[10,1,8],[6,3,4] ] )\n",
    "data"
   ]
  },
  {
   "cell_type": "code",
   "execution_count": 22,
   "id": "1d36af07",
   "metadata": {},
   "outputs": [
    {
     "data": {
      "text/plain": [
       "array([False,  True,  True,  True])"
      ]
     },
     "execution_count": 22,
     "metadata": {},
     "output_type": "execute_result"
    }
   ],
   "source": [
    "data[:,0]>=5"
   ]
  },
  {
   "cell_type": "code",
   "execution_count": 21,
   "id": "84245797",
   "metadata": {
    "scrolled": true
   },
   "outputs": [
    {
     "data": {
      "text/plain": [
       "array([[ 7,  5,  2],\n",
       "       [10,  1,  8],\n",
       "       [ 6,  3,  4]])"
      ]
     },
     "execution_count": 21,
     "metadata": {},
     "output_type": "execute_result"
    }
   ],
   "source": [
    "data [data[:,0]>=5] # 0열이 5이상인 행만 출력"
   ]
  },
  {
   "cell_type": "code",
   "execution_count": 23,
   "id": "d5d3643e",
   "metadata": {},
   "outputs": [
    {
     "data": {
      "text/plain": [
       "array([[7, 5, 2]])"
      ]
     },
     "execution_count": 23,
     "metadata": {},
     "output_type": "execute_result"
    }
   ],
   "source": [
    "data [data[:,1]>=5] # 1열이 5이상인 행만 출력"
   ]
  },
  {
   "cell_type": "markdown",
   "id": "2801a733",
   "metadata": {},
   "source": [
    "## 논리연산자"
   ]
  },
  {
   "cell_type": "code",
   "execution_count": 25,
   "id": "09b08235",
   "metadata": {},
   "outputs": [
    {
     "data": {
      "text/plain": [
       "array([[7, 5, 2],\n",
       "       [6, 3, 4]])"
      ]
     },
     "execution_count": 25,
     "metadata": {},
     "output_type": "execute_result"
    }
   ],
   "source": [
    "data[(data[:,0] == 7) | (data[:,0] == 6)] #0열이 7또는 6인 행 출력"
   ]
  },
  {
   "cell_type": "code",
   "execution_count": null,
   "id": "76bbb5e6",
   "metadata": {},
   "outputs": [],
   "source": []
  },
  {
   "cell_type": "code",
   "execution_count": null,
   "id": "ddbb2c9b",
   "metadata": {},
   "outputs": [],
   "source": []
  }
 ],
 "metadata": {
  "kernelspec": {
   "display_name": "Python 3",
   "language": "python",
   "name": "python3"
  },
  "language_info": {
   "codemirror_mode": {
    "name": "ipython",
    "version": 3
   },
   "file_extension": ".py",
   "mimetype": "text/x-python",
   "name": "python",
   "nbconvert_exporter": "python",
   "pygments_lexer": "ipython3",
   "version": "3.8.8"
  }
 },
 "nbformat": 4,
 "nbformat_minor": 5
}
