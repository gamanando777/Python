{
 "cells": [
  {
   "cell_type": "code",
   "execution_count": 1,
   "id": "2461eed6",
   "metadata": {},
   "outputs": [],
   "source": [
    "import pandas as pd\n",
    "import numpy as np"
   ]
  },
  {
   "cell_type": "code",
   "execution_count": 13,
   "id": "d182e942",
   "metadata": {},
   "outputs": [
    {
     "data": {
      "text/plain": [
       "aa    10\n",
       "bb    20\n",
       "cc    30\n",
       "dd    40\n",
       "ee    50\n",
       "Name: 국어점수, dtype: int64"
      ]
     },
     "execution_count": 13,
     "metadata": {},
     "output_type": "execute_result"
    }
   ],
   "source": [
    "data = {'aa':10,'bb':20,'cc':30,'dd':40, 'ee':50}\n",
    "sr = pd.Series(data, name='국어점수')\n",
    "sr"
   ]
  },
  {
   "cell_type": "markdown",
   "id": "7e841abb",
   "metadata": {},
   "source": [
    "## 데이터 수정"
   ]
  },
  {
   "cell_type": "code",
   "execution_count": 4,
   "id": "ff5c821d",
   "metadata": {},
   "outputs": [
    {
     "data": {
      "text/plain": [
       "aa    100\n",
       "bb     20\n",
       "cc     30\n",
       "dd     40\n",
       "ee     50\n",
       "Name: 국어점수, dtype: int64"
      ]
     },
     "execution_count": 4,
     "metadata": {},
     "output_type": "execute_result"
    }
   ],
   "source": [
    "sr[0] = 100\n",
    "# sr['aa'] = 100\n",
    "# sr.iloc[0] = 100\n",
    "# sr.loc['aa'] = 100\n",
    "sr"
   ]
  },
  {
   "cell_type": "code",
   "execution_count": 6,
   "id": "45db85a0",
   "metadata": {},
   "outputs": [
    {
     "data": {
      "text/plain": [
       "aa    100\n",
       "bb     11\n",
       "cc     11\n",
       "dd     11\n",
       "ee     50\n",
       "Name: 국어점수, dtype: int64"
      ]
     },
     "execution_count": 6,
     "metadata": {},
     "output_type": "execute_result"
    }
   ],
   "source": [
    "sr[1:4] = 11 # 0,1,2,3 을 11로 수정\n",
    "sr"
   ]
  },
  {
   "cell_type": "code",
   "execution_count": 14,
   "id": "8f92f7db",
   "metadata": {},
   "outputs": [
    {
     "data": {
      "text/plain": [
       "aa    10\n",
       "bb     1\n",
       "cc     2\n",
       "dd     3\n",
       "ee    50\n",
       "Name: 국어점수, dtype: int64"
      ]
     },
     "execution_count": 14,
     "metadata": {},
     "output_type": "execute_result"
    }
   ],
   "source": [
    "sr[1:4] = [1,2,3]\n",
    "# sr['bb':'dd'] = [1,2,3]\n",
    "# sr.iloc[1:4] = [1,2,3]\n",
    "# sr.loc['bb':'dd'] = [1,2,3]\n",
    "sr"
   ]
  },
  {
   "cell_type": "code",
   "execution_count": 15,
   "id": "0951ab44",
   "metadata": {},
   "outputs": [
    {
     "data": {
      "text/plain": [
       "aa    10\n",
       "bb     3\n",
       "cc     4\n",
       "dd     5\n",
       "ee    50\n",
       "Name: 국어점수, dtype: int64"
      ]
     },
     "execution_count": 15,
     "metadata": {},
     "output_type": "execute_result"
    }
   ],
   "source": [
    "sr[1:4] = sr[1:4] +2\n",
    "sr"
   ]
  },
  {
   "cell_type": "markdown",
   "id": "14d3bffe",
   "metadata": {},
   "source": [
    "***"
   ]
  },
  {
   "cell_type": "code",
   "execution_count": 22,
   "id": "52013196",
   "metadata": {},
   "outputs": [
    {
     "data": {
      "text/plain": [
       "aa    10\n",
       "bb    20\n",
       "cc    30\n",
       "dd    40\n",
       "ee    50\n",
       "Name: 국어점수, dtype: int64"
      ]
     },
     "execution_count": 22,
     "metadata": {},
     "output_type": "execute_result"
    }
   ],
   "source": [
    "data = {'aa':10,'bb':20,'cc':30,'dd':40, 'ee':50}\n",
    "sr = pd.Series(data, name='국어점수')\n",
    "sr"
   ]
  },
  {
   "cell_type": "code",
   "execution_count": 23,
   "id": "e711bb1d",
   "metadata": {},
   "outputs": [
    {
     "data": {
      "text/plain": [
       "aa    10\n",
       "bb    20\n",
       "cc    35\n",
       "dd    45\n",
       "ee    55\n",
       "Name: 국어점수, dtype: int64"
      ]
     },
     "execution_count": 23,
     "metadata": {},
     "output_type": "execute_result"
    }
   ],
   "source": [
    "# 30 이상인 데이터에 5를 더한 값으로 수정\n",
    "# sr[sr >= 30] = sr[sr >= 30] + 5\n",
    "sr[sr >= 30] += 5\n",
    "sr"
   ]
  },
  {
   "cell_type": "markdown",
   "id": "6d77b6fe",
   "metadata": {},
   "source": [
    "## 추가"
   ]
  },
  {
   "cell_type": "code",
   "execution_count": 29,
   "id": "d3fd5b01",
   "metadata": {},
   "outputs": [
    {
     "data": {
      "text/plain": [
       "aa    10\n",
       "bb    20\n",
       "cc    30\n",
       "dd    40\n",
       "ee    50\n",
       "Name: 국어점수, dtype: int64"
      ]
     },
     "execution_count": 29,
     "metadata": {},
     "output_type": "execute_result"
    }
   ],
   "source": [
    "data = {'aa':10,'bb':20,'cc':30,'dd':40, 'ee':50}\n",
    "sr = pd.Series(data, name='국어점수')\n",
    "sr"
   ]
  },
  {
   "cell_type": "code",
   "execution_count": 25,
   "id": "219c0bf9",
   "metadata": {},
   "outputs": [
    {
     "data": {
      "text/plain": [
       "aa     10\n",
       "bb     20\n",
       "cc     30\n",
       "dd     40\n",
       "ee     50\n",
       "ff    100\n",
       "Name: 국어점수, dtype: int64"
      ]
     },
     "execution_count": 25,
     "metadata": {},
     "output_type": "execute_result"
    }
   ],
   "source": [
    "sr.loc['ff'] = 100 #해당 인덱스가 있으면 수정, 없으면 추가.(부여된 인덱스로)\n",
    "sr"
   ]
  },
  {
   "cell_type": "code",
   "execution_count": 28,
   "id": "02d98afd",
   "metadata": {},
   "outputs": [
    {
     "data": {
      "text/plain": [
       "aa     10\n",
       "bb     20\n",
       "cc     30\n",
       "dd     40\n",
       "ee     50\n",
       "ff    100\n",
       "gg    200\n",
       "hh    300\n",
       "ii    400\n",
       "dtype: int64"
      ]
     },
     "execution_count": 28,
     "metadata": {},
     "output_type": "execute_result"
    }
   ],
   "source": [
    "sr = sr.append(pd.Series([200,300,400], index=['gg','hh','ii'])) #변수지정해줘야 반영됨. 아니면 그냥 메모리에 저장+출력\n",
    "sr"
   ]
  },
  {
   "cell_type": "markdown",
   "id": "c945c16e",
   "metadata": {},
   "source": [
    "## 삭제\n",
    "- drop (부여된 인덱스/loc)"
   ]
  },
  {
   "cell_type": "code",
   "execution_count": 30,
   "id": "1624e7e2",
   "metadata": {},
   "outputs": [
    {
     "data": {
      "text/plain": [
       "aa    10\n",
       "bb    20\n",
       "cc    30\n",
       "dd    40\n",
       "ee    50\n",
       "Name: 국어점수, dtype: int64"
      ]
     },
     "execution_count": 30,
     "metadata": {},
     "output_type": "execute_result"
    }
   ],
   "source": [
    "data = {'aa':10,'bb':20,'cc':30,'dd':40, 'ee':50}\n",
    "sr = pd.Series(data, name='국어점수')\n",
    "sr"
   ]
  },
  {
   "cell_type": "code",
   "execution_count": 31,
   "id": "c91f5270",
   "metadata": {},
   "outputs": [
    {
     "data": {
      "text/plain": [
       "bb    20\n",
       "cc    30\n",
       "ee    50\n",
       "Name: 국어점수, dtype: int64"
      ]
     },
     "execution_count": 31,
     "metadata": {},
     "output_type": "execute_result"
    }
   ],
   "source": [
    "sr.drop(['aa','dd']) #변수지정해줘야 반영됨. 아니면 그냥 메모리에 저장+출력"
   ]
  },
  {
   "cell_type": "code",
   "execution_count": 33,
   "id": "2324344a",
   "metadata": {},
   "outputs": [],
   "source": [
    "sr.drop(['aa','dd'],inplace=True) # inplace=True 면 출력 안하고 시리즈에 바로 적용"
   ]
  },
  {
   "cell_type": "code",
   "execution_count": 34,
   "id": "c7e1d2ca",
   "metadata": {},
   "outputs": [
    {
     "data": {
      "text/plain": [
       "bb    20\n",
       "cc    30\n",
       "ee    50\n",
       "Name: 국어점수, dtype: int64"
      ]
     },
     "execution_count": 34,
     "metadata": {},
     "output_type": "execute_result"
    }
   ],
   "source": [
    "sr"
   ]
  },
  {
   "cell_type": "markdown",
   "id": "241e783f",
   "metadata": {},
   "source": [
    "***"
   ]
  },
  {
   "cell_type": "code",
   "execution_count": 42,
   "id": "9688f00f",
   "metadata": {},
   "outputs": [
    {
     "data": {
      "text/plain": [
       "aa    10\n",
       "bb    20\n",
       "cc    30\n",
       "dd    40\n",
       "ee    50\n",
       "Name: 국어점수, dtype: int64"
      ]
     },
     "execution_count": 42,
     "metadata": {},
     "output_type": "execute_result"
    }
   ],
   "source": [
    "data = {'aa':10,'bb':20,'cc':30,'dd':40, 'ee':50}\n",
    "sr = pd.Series(data, name='국어점수')\n",
    "sr"
   ]
  },
  {
   "cell_type": "code",
   "execution_count": 40,
   "id": "93666e53",
   "metadata": {
    "scrolled": true
   },
   "outputs": [
    {
     "name": "stdout",
     "output_type": "stream",
     "text": [
      "Series([], Name: 국어점수, dtype: int64)\n"
     ]
    },
    {
     "data": {
      "text/plain": [
       "aa    10\n",
       "bb    20\n",
       "Name: 국어점수, dtype: int64"
      ]
     },
     "execution_count": 40,
     "metadata": {},
     "output_type": "execute_result"
    }
   ],
   "source": [
    "# 30 이상인 데이터를 삭제하시오\n",
    "sr.drop(sr[sr>=30].index,inplace=True) # index출력\n",
    "sr.drop(sr.index[sr>=30], inplace=True) # index출력\n",
    "sr"
   ]
  },
  {
   "cell_type": "code",
   "execution_count": 43,
   "id": "56bcaff6",
   "metadata": {
    "scrolled": true
   },
   "outputs": [
    {
     "data": {
      "text/plain": [
       "cc    30\n",
       "dd    40\n",
       "ee    50\n",
       "Name: 국어점수, dtype: int64"
      ]
     },
     "execution_count": 43,
     "metadata": {},
     "output_type": "execute_result"
    }
   ],
   "source": [
    "sr[sr>=30]"
   ]
  },
  {
   "cell_type": "code",
   "execution_count": 51,
   "id": "e2d6b2be",
   "metadata": {},
   "outputs": [
    {
     "data": {
      "text/plain": [
       "Index(['aa', 'cc', 'dd', 'ee'], dtype='object')"
      ]
     },
     "execution_count": 51,
     "metadata": {},
     "output_type": "execute_result"
    }
   ],
   "source": [
    "sr.index[sr>=30]"
   ]
  },
  {
   "cell_type": "markdown",
   "id": "6150f464",
   "metadata": {},
   "source": [
    "***"
   ]
  },
  {
   "cell_type": "markdown",
   "id": "a695a88d",
   "metadata": {},
   "source": [
    "## 정렬"
   ]
  },
  {
   "cell_type": "code",
   "execution_count": 44,
   "id": "130c193c",
   "metadata": {},
   "outputs": [
    {
     "data": {
      "text/plain": [
       "aa    10\n",
       "bb    20\n",
       "cc    30\n",
       "dd    40\n",
       "ee    50\n",
       "Name: 국어점수, dtype: int64"
      ]
     },
     "execution_count": 44,
     "metadata": {},
     "output_type": "execute_result"
    }
   ],
   "source": [
    "data = {'aa':10,'bb':20,'cc':30,'dd':40, 'ee':50}\n",
    "sr = pd.Series(data, name='국어점수')\n",
    "sr"
   ]
  },
  {
   "cell_type": "code",
   "execution_count": 45,
   "id": "57a1327b",
   "metadata": {},
   "outputs": [],
   "source": [
    "sr['aa'] = 100"
   ]
  },
  {
   "cell_type": "code",
   "execution_count": 46,
   "id": "aec69f6d",
   "metadata": {},
   "outputs": [
    {
     "data": {
      "text/plain": [
       "bb     20\n",
       "cc     30\n",
       "dd     40\n",
       "ee     50\n",
       "aa    100\n",
       "Name: 국어점수, dtype: int64"
      ]
     },
     "execution_count": 46,
     "metadata": {},
     "output_type": "execute_result"
    }
   ],
   "source": [
    "sr.sort_values() # 오름차순 정렬, inplace=True해야 sr에 반영됨"
   ]
  },
  {
   "cell_type": "code",
   "execution_count": 49,
   "id": "02f3f1b1",
   "metadata": {},
   "outputs": [
    {
     "data": {
      "text/plain": [
       "aa    100\n",
       "ee     50\n",
       "dd     40\n",
       "cc     30\n",
       "bb     20\n",
       "Name: 국어점수, dtype: int64"
      ]
     },
     "execution_count": 49,
     "metadata": {},
     "output_type": "execute_result"
    }
   ],
   "source": [
    "sr.sort_values(ascending=False) # 내림차순 정렬, inplace=True해야 sr에 반영됨"
   ]
  },
  {
   "cell_type": "code",
   "execution_count": 52,
   "id": "6a821732",
   "metadata": {},
   "outputs": [
    {
     "data": {
      "text/plain": [
       "ee     50\n",
       "dd     40\n",
       "cc     30\n",
       "bb     20\n",
       "aa    100\n",
       "Name: 국어점수, dtype: int64"
      ]
     },
     "execution_count": 52,
     "metadata": {},
     "output_type": "execute_result"
    }
   ],
   "source": [
    "sr.sort_index(ascending=False) # 인덱스 내림차순 정렬, inplace=True해야 sr에 반영됨"
   ]
  },
  {
   "cell_type": "code",
   "execution_count": null,
   "id": "6798faab",
   "metadata": {},
   "outputs": [],
   "source": []
  },
  {
   "cell_type": "code",
   "execution_count": null,
   "id": "2097ee79",
   "metadata": {},
   "outputs": [],
   "source": []
  },
  {
   "cell_type": "code",
   "execution_count": null,
   "id": "73a6fffb",
   "metadata": {},
   "outputs": [],
   "source": []
  },
  {
   "cell_type": "code",
   "execution_count": null,
   "id": "d6706b70",
   "metadata": {},
   "outputs": [],
   "source": []
  }
 ],
 "metadata": {
  "kernelspec": {
   "display_name": "Python 3",
   "language": "python",
   "name": "python3"
  },
  "language_info": {
   "codemirror_mode": {
    "name": "ipython",
    "version": 3
   },
   "file_extension": ".py",
   "mimetype": "text/x-python",
   "name": "python",
   "nbconvert_exporter": "python",
   "pygments_lexer": "ipython3",
   "version": "3.8.8"
  }
 },
 "nbformat": 4,
 "nbformat_minor": 5
}
