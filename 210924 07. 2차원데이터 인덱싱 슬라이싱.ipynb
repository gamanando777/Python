{
 "cells": [
  {
   "cell_type": "code",
   "execution_count": 2,
   "id": "de3de916",
   "metadata": {},
   "outputs": [],
   "source": [
    "import numpy as np"
   ]
  },
  {
   "cell_type": "code",
   "execution_count": 3,
   "id": "83da2514",
   "metadata": {},
   "outputs": [
    {
     "data": {
      "text/plain": [
       "array([[ 1,  2,  3],\n",
       "       [ 7,  5,  2],\n",
       "       [10,  1,  8],\n",
       "       [ 6,  3,  4]])"
      ]
     },
     "execution_count": 3,
     "metadata": {},
     "output_type": "execute_result"
    }
   ],
   "source": [
    "data = np.array( [ [1,2,3],[7,5,2],[10,1,8],[6,3,4] ] )\n",
    "data"
   ]
  },
  {
   "cell_type": "code",
   "execution_count": 4,
   "id": "846f479b",
   "metadata": {},
   "outputs": [
    {
     "data": {
      "text/plain": [
       "(4, 3)"
      ]
     },
     "execution_count": 4,
     "metadata": {},
     "output_type": "execute_result"
    }
   ],
   "source": [
    "data.shape  #4행3열"
   ]
  },
  {
   "cell_type": "code",
   "execution_count": 5,
   "id": "570fca00",
   "metadata": {},
   "outputs": [
    {
     "data": {
      "text/plain": [
       "array([[ 1,  2,  3,  7,  5,  2],\n",
       "       [10,  1,  8,  6,  3,  4]])"
      ]
     },
     "execution_count": 5,
     "metadata": {},
     "output_type": "execute_result"
    }
   ],
   "source": [
    "data.reshape(2,6) # 재배열 2행 6열, 데이터 12개가 배열가능한 경우의 수만 가능."
   ]
  },
  {
   "cell_type": "code",
   "execution_count": 8,
   "id": "14fe0b11",
   "metadata": {},
   "outputs": [
    {
     "data": {
      "text/plain": [
       "array([[ 1,  2],\n",
       "       [ 3,  7],\n",
       "       [ 5,  2],\n",
       "       [10,  1],\n",
       "       [ 8,  6],\n",
       "       [ 3,  4]])"
      ]
     },
     "execution_count": 8,
     "metadata": {},
     "output_type": "execute_result"
    }
   ],
   "source": [
    "data.reshape(-1,6)  # -1은 6열에 맞춰 자동으로 행을 지정하라는 뜻\n",
    "data.reshape(-1,4)  # -1은 4열에 맞춰 자동으로 행을 지정하라는 뜻\n",
    "data.reshape(6,-1)  # -1은 6행에 맞춰 자동으로 열을 지정하라는 뜻"
   ]
  },
  {
   "cell_type": "code",
   "execution_count": 9,
   "id": "04e3a34d",
   "metadata": {},
   "outputs": [
    {
     "data": {
      "text/plain": [
       "array([[[ 1,  2,  3],\n",
       "        [ 7,  5,  2]],\n",
       "\n",
       "       [[10,  1,  8],\n",
       "        [ 6,  3,  4]]])"
      ]
     },
     "execution_count": 9,
     "metadata": {},
     "output_type": "execute_result"
    }
   ],
   "source": [
    "data.reshape(2,2,3)  #2행 3열 2개"
   ]
  },
  {
   "cell_type": "code",
   "execution_count": 10,
   "id": "b32ba872",
   "metadata": {},
   "outputs": [
    {
     "data": {
      "text/plain": [
       "array([[[ 1,  2,  3],\n",
       "        [ 7,  5,  2]],\n",
       "\n",
       "       [[10,  1,  8],\n",
       "        [ 6,  3,  4]]])"
      ]
     },
     "execution_count": 10,
     "metadata": {},
     "output_type": "execute_result"
    }
   ],
   "source": [
    "data.reshape(-1,2,3)  # 행은 3열에 맞춰 자동 결정. 2개 생성"
   ]
  },
  {
   "cell_type": "markdown",
   "id": "295e06b7",
   "metadata": {},
   "source": [
    "## 인덱싱\n",
    "- 2차원: [행,열]\n",
    "- 3차원: [면,행,열]\n",
    "- ,(콤마)로 구분\n"
   ]
  },
  {
   "cell_type": "code",
   "execution_count": 11,
   "id": "55a6e7e1",
   "metadata": {},
   "outputs": [
    {
     "data": {
      "text/plain": [
       "array([[ 1,  2,  3],\n",
       "       [ 7,  5,  2],\n",
       "       [10,  1,  8],\n",
       "       [ 6,  3,  4]])"
      ]
     },
     "execution_count": 11,
     "metadata": {},
     "output_type": "execute_result"
    }
   ],
   "source": [
    "data = np.array( [ [1,2,3],[7,5,2],[10,1,8],[6,3,4] ] )\n",
    "data"
   ]
  },
  {
   "cell_type": "code",
   "execution_count": 12,
   "id": "87b32161",
   "metadata": {},
   "outputs": [
    {
     "data": {
      "text/plain": [
       "array([1, 2, 3])"
      ]
     },
     "execution_count": 12,
     "metadata": {},
     "output_type": "execute_result"
    }
   ],
   "source": [
    "data[0] # 0번째 행"
   ]
  },
  {
   "cell_type": "code",
   "execution_count": 13,
   "id": "e62ce528",
   "metadata": {},
   "outputs": [
    {
     "data": {
      "text/plain": [
       "1"
      ]
     },
     "execution_count": 13,
     "metadata": {},
     "output_type": "execute_result"
    }
   ],
   "source": [
    "data[0,0] # 0행 0열"
   ]
  },
  {
   "cell_type": "code",
   "execution_count": 14,
   "id": "6a67bad7",
   "metadata": {},
   "outputs": [
    {
     "data": {
      "text/plain": [
       "array([[ 1,  2,  3],\n",
       "       [10,  1,  8],\n",
       "       [ 6,  3,  4]])"
      ]
     },
     "execution_count": 14,
     "metadata": {},
     "output_type": "execute_result"
    }
   ],
   "source": [
    "data[[0,2,3]] # 0행 2행 3행 (복수개 선택)"
   ]
  },
  {
   "cell_type": "code",
   "execution_count": 16,
   "id": "e4c6c3e5",
   "metadata": {},
   "outputs": [
    {
     "data": {
      "text/plain": [
       "array([5, 2])"
      ]
     },
     "execution_count": 16,
     "metadata": {},
     "output_type": "execute_result"
    }
   ],
   "source": [
    "data[1,[1,2]] # 복수개 컬럼(열) 선택"
   ]
  },
  {
   "cell_type": "markdown",
   "id": "fad43636",
   "metadata": {},
   "source": [
    "## boolean 인덱싱(행단위)"
   ]
  },
  {
   "cell_type": "code",
   "execution_count": 17,
   "id": "f9fc001d",
   "metadata": {},
   "outputs": [
    {
     "data": {
      "text/plain": [
       "array([[ 1,  2,  3],\n",
       "       [ 7,  5,  2],\n",
       "       [10,  1,  8],\n",
       "       [ 6,  3,  4]])"
      ]
     },
     "execution_count": 17,
     "metadata": {},
     "output_type": "execute_result"
    }
   ],
   "source": [
    "data = np.array( [ [1,2,3],[7,5,2],[10,1,8],[6,3,4] ] )\n",
    "data"
   ]
  },
  {
   "cell_type": "code",
   "execution_count": 18,
   "id": "90d78ea3",
   "metadata": {},
   "outputs": [
    {
     "data": {
      "text/plain": [
       "array([[ 1,  2,  3],\n",
       "       [10,  1,  8],\n",
       "       [ 6,  3,  4]])"
      ]
     },
     "execution_count": 18,
     "metadata": {},
     "output_type": "execute_result"
    }
   ],
   "source": [
    "data[[True,False,True,True]] # 4행중에 true인 행만 출력"
   ]
  },
  {
   "cell_type": "markdown",
   "id": "63866760",
   "metadata": {},
   "source": [
    "## 슬라이싱(slicing)"
   ]
  },
  {
   "cell_type": "code",
   "execution_count": 19,
   "id": "6bc8c43e",
   "metadata": {},
   "outputs": [
    {
     "data": {
      "text/plain": [
       "array([[ 1,  2,  3],\n",
       "       [ 7,  5,  2],\n",
       "       [10,  1,  8],\n",
       "       [ 6,  3,  4]])"
      ]
     },
     "execution_count": 19,
     "metadata": {},
     "output_type": "execute_result"
    }
   ],
   "source": [
    "data = np.array( [ [1,2,3],[7,5,2],[10,1,8],[6,3,4] ] )\n",
    "data"
   ]
  },
  {
   "cell_type": "code",
   "execution_count": 20,
   "id": "7478feae",
   "metadata": {},
   "outputs": [
    {
     "data": {
      "text/plain": [
       "array([[ 7,  5,  2],\n",
       "       [10,  1,  8]])"
      ]
     },
     "execution_count": 20,
     "metadata": {},
     "output_type": "execute_result"
    }
   ],
   "source": [
    "data[1:3] # 1 <= 행인덱스 < 3"
   ]
  },
  {
   "cell_type": "code",
   "execution_count": 21,
   "id": "39563eac",
   "metadata": {},
   "outputs": [
    {
     "data": {
      "text/plain": [
       "array([[ 7,  5,  2],\n",
       "       [10,  1,  8],\n",
       "       [ 6,  3,  4]])"
      ]
     },
     "execution_count": 21,
     "metadata": {},
     "output_type": "execute_result"
    }
   ],
   "source": [
    "data[1:] # 1행부터 끝까지"
   ]
  },
  {
   "cell_type": "code",
   "execution_count": 22,
   "id": "6f342b1e",
   "metadata": {},
   "outputs": [
    {
     "data": {
      "text/plain": [
       "array([[ 1,  2,  3],\n",
       "       [ 7,  5,  2],\n",
       "       [10,  1,  8],\n",
       "       [ 6,  3,  4]])"
      ]
     },
     "execution_count": 22,
     "metadata": {},
     "output_type": "execute_result"
    }
   ],
   "source": [
    "data[:] # 0행부터 끝까지(전체)"
   ]
  },
  {
   "cell_type": "code",
   "execution_count": 23,
   "id": "dd97d3e2",
   "metadata": {},
   "outputs": [
    {
     "data": {
      "text/plain": [
       "array([2, 5, 1, 3])"
      ]
     },
     "execution_count": 23,
     "metadata": {},
     "output_type": "execute_result"
    }
   ],
   "source": [
    "data[:,1] # 인덱스 1인 열 (1차원)"
   ]
  },
  {
   "cell_type": "code",
   "execution_count": null,
   "id": "0080cd7c",
   "metadata": {},
   "outputs": [],
   "source": [
    "data[:,[1]] # 복수개 선택이라 행렬이 유지되어 출력(2차원)"
   ]
  },
  {
   "cell_type": "code",
   "execution_count": 24,
   "id": "4273ccef",
   "metadata": {},
   "outputs": [
    {
     "data": {
      "text/plain": [
       "array([[2, 3],\n",
       "       [5, 2],\n",
       "       [1, 8],\n",
       "       [3, 4]])"
      ]
     },
     "execution_count": 24,
     "metadata": {},
     "output_type": "execute_result"
    }
   ],
   "source": [
    "data[:,[1,2]] # 인덱스가 각각 1,2 인 열"
   ]
  },
  {
   "cell_type": "code",
   "execution_count": 25,
   "id": "10613675",
   "metadata": {},
   "outputs": [
    {
     "data": {
      "text/plain": [
       "array([[2, 3],\n",
       "       [5, 2],\n",
       "       [1, 8],\n",
       "       [3, 4]])"
      ]
     },
     "execution_count": 25,
     "metadata": {},
     "output_type": "execute_result"
    }
   ],
   "source": [
    "data[:,1:] # 인덱스 1인 열부터 끝까지"
   ]
  },
  {
   "cell_type": "code",
   "execution_count": 26,
   "id": "5115e856",
   "metadata": {},
   "outputs": [
    {
     "data": {
      "text/plain": [
       "array([[ 7,  2],\n",
       "       [10,  8]])"
      ]
     },
     "execution_count": 26,
     "metadata": {},
     "output_type": "execute_result"
    }
   ],
   "source": [
    "data[1:3,[0,2]]"
   ]
  },
  {
   "cell_type": "code",
   "execution_count": 30,
   "id": "dce6ffda",
   "metadata": {},
   "outputs": [
    {
     "data": {
      "text/plain": [
       "(array([[ 7],\n",
       "        [10]]),\n",
       " array([[2],\n",
       "        [8]]))"
      ]
     },
     "execution_count": 30,
     "metadata": {},
     "output_type": "execute_result"
    }
   ],
   "source": [
    "data[1:3,[0]], data[1:3,[2]]"
   ]
  },
  {
   "cell_type": "code",
   "execution_count": 31,
   "id": "5038aec1",
   "metadata": {},
   "outputs": [
    {
     "data": {
      "text/plain": [
       "array([[ 7,  2],\n",
       "       [10,  8]])"
      ]
     },
     "execution_count": 31,
     "metadata": {},
     "output_type": "execute_result"
    }
   ],
   "source": [
    "data[1:3,::2]"
   ]
  },
  {
   "cell_type": "code",
   "execution_count": 32,
   "id": "49e0f18d",
   "metadata": {},
   "outputs": [
    {
     "data": {
      "text/plain": [
       "array([[ 1,  2],\n",
       "       [ 7,  5],\n",
       "       [10,  1],\n",
       "       [ 6,  3]])"
      ]
     },
     "execution_count": 32,
     "metadata": {},
     "output_type": "execute_result"
    }
   ],
   "source": [
    "# 맨 마지막 컬럼을 제외하고 선택하시오.\n",
    "data[:,:-1]"
   ]
  },
  {
   "cell_type": "code",
   "execution_count": 33,
   "id": "182facc6",
   "metadata": {},
   "outputs": [
    {
     "data": {
      "text/plain": [
       "array([[3],\n",
       "       [2],\n",
       "       [8],\n",
       "       [4]])"
      ]
     },
     "execution_count": 33,
     "metadata": {},
     "output_type": "execute_result"
    }
   ],
   "source": [
    "# 맨 마지막 컬럼을 선택하시오(결과는 matrix로).\n",
    "data[:,[-1]]"
   ]
  },
  {
   "cell_type": "code",
   "execution_count": null,
   "id": "07421ead",
   "metadata": {},
   "outputs": [],
   "source": []
  },
  {
   "cell_type": "code",
   "execution_count": null,
   "id": "472ce941",
   "metadata": {},
   "outputs": [],
   "source": []
  },
  {
   "cell_type": "code",
   "execution_count": null,
   "id": "141bfb55",
   "metadata": {},
   "outputs": [],
   "source": []
  },
  {
   "cell_type": "code",
   "execution_count": null,
   "id": "d69dc09d",
   "metadata": {},
   "outputs": [],
   "source": []
  },
  {
   "cell_type": "code",
   "execution_count": null,
   "id": "d2eab0f6",
   "metadata": {},
   "outputs": [],
   "source": []
  },
  {
   "cell_type": "code",
   "execution_count": null,
   "id": "13f7e537",
   "metadata": {},
   "outputs": [],
   "source": []
  },
  {
   "cell_type": "code",
   "execution_count": null,
   "id": "2e67f1d1",
   "metadata": {},
   "outputs": [],
   "source": []
  },
  {
   "cell_type": "code",
   "execution_count": null,
   "id": "ffa5b78b",
   "metadata": {},
   "outputs": [],
   "source": []
  },
  {
   "cell_type": "code",
   "execution_count": null,
   "id": "849a20f1",
   "metadata": {},
   "outputs": [],
   "source": []
  }
 ],
 "metadata": {
  "kernelspec": {
   "display_name": "Python 3",
   "language": "python",
   "name": "python3"
  },
  "language_info": {
   "codemirror_mode": {
    "name": "ipython",
    "version": 3
   },
   "file_extension": ".py",
   "mimetype": "text/x-python",
   "name": "python",
   "nbconvert_exporter": "python",
   "pygments_lexer": "ipython3",
   "version": "3.8.8"
  }
 },
 "nbformat": 4,
 "nbformat_minor": 5
}
