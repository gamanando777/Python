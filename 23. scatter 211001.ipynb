{
 "cells": [
  {
   "cell_type": "code",
   "execution_count": 1,
   "id": "c3a0e390",
   "metadata": {},
   "outputs": [],
   "source": [
    "import pandas as pd\n",
    "import numpy as np\n",
    "import matplotlib.pyplot as plt\n",
    "import matplotlib\n",
    "\n",
    "\n",
    "matplotlib.rcParams['font.family']='Malgun Gothic'\n",
    "matplotlib.rcParams['axes.unicode_minus'] = False"
   ]
  },
  {
   "cell_type": "code",
   "execution_count": 2,
   "id": "f64d6f27",
   "metadata": {},
   "outputs": [],
   "source": [
    "height = [155,160,165,172,177,180,185]\n",
    "weight = [43,55,62,64, 67,74,90]\n"
   ]
  },
  {
   "cell_type": "code",
   "execution_count": 3,
   "id": "53743672",
   "metadata": {},
   "outputs": [
    {
     "data": {
      "image/png": "[encoded data removed]",
      "text/plain": [
       "<Figure size 432x288 with 1 Axes>"
      ]
     },
     "metadata": {
      "needs_background": "light"
     },
     "output_type": "display_data"
    }
   ],
   "source": [
    "plt.scatter(height,weight)\n",
    "plt.show()"
   ]
  },
  {
   "cell_type": "code",
   "execution_count": 5,
   "id": "3c13c1b6",
   "metadata": {},
   "outputs": [
    {
     "data": {
      "image/png": "[encoded data removed]",
      "text/plain": [
       "<Figure size 432x288 with 1 Axes>"
      ]
     },
     "metadata": {
      "needs_background": "light"
     },
     "output_type": "display_data"
    }
   ],
   "source": [
    "plt.scatter(height,weight,s=100,c='r' ) # s-점크기,c-색깔\n",
    "plt.show()"
   ]
  },
  {
   "cell_type": "code",
   "execution_count": 12,
   "id": "8b36f03d",
   "metadata": {},
   "outputs": [
    {
     "data": {
      "image/png": "[encoded data removed]",
      "text/plain": [
       "<Figure size 432x288 with 1 Axes>"
      ]
     },
     "metadata": {
      "needs_background": "light"
     },
     "output_type": "display_data"
    }
   ],
   "source": [
    "plt.scatter(height,weight,s=[100,150,200,250,300,350,400],\n",
    "             c=['r','g','b','k','m','y','c'] ,alpha=0.5)\n",
    "# s-점크기,c-색깔, alpha-투명도\n",
    "plt.text(155,43,'43kg')\n",
    "plt.show()"
   ]
  },
  {
   "cell_type": "code",
   "execution_count": 15,
   "id": "fc5fa068",
   "metadata": {},
   "outputs": [],
   "source": [
    "height = [155,160,165,172,177,180,185]\n",
    "weight = [43,55,62,64, 67,74,90]"
   ]
  },
  {
   "cell_type": "code",
   "execution_count": null,
   "id": "6c89b2cb",
   "metadata": {},
   "outputs": [],
   "source": [
    "std = (height[i]-100)*0.85\n",
    "bmi = weight[i]/std[i]*100"
   ]
  },
  {
   "cell_type": "code",
   "execution_count": 23,
   "id": "fe8ec186",
   "metadata": {},
   "outputs": [
    {
     "data": {
      "text/plain": [
       "46.75"
      ]
     },
     "execution_count": 23,
     "metadata": {},
     "output_type": "execute_result"
    }
   ],
   "source": [
    " std = (height[i]-100)*0.85\n",
    "std"
   ]
  },
  {
   "cell_type": "code",
   "execution_count": 16,
   "id": "6cef61e0",
   "metadata": {},
   "outputs": [],
   "source": [
    "표준체중(kg)=(신장(cm)-100)×0.85\n",
    "비만도(%)=현재체중/표준체중×100\n",
    "\n",
    "비만도가\n",
    "90이하:저체중, (y,100)\n",
    "90∼110:정상,  (b ,150)\n",
    "110∼120:과체중, (c, 200)\n",
    "120이상:비만    (r ,300)\n",
    "그래프각점에 비만도결과값(저체중, 정상,과체중, 비만)글자를\n",
    "표시하고 원의 크기는  각 결과 값에 다른 크기로\n",
    "그리시요.\n"
   ]
  },
  {
   "cell_type": "code",
   "execution_count": 27,
   "id": "5012e540",
   "metadata": {
    "scrolled": true
   },
   "outputs": [
    {
     "data": {
      "image/png": "[encoded data removed]",
      "text/plain": [
       "<Figure size 432x288 with 1 Axes>"
      ]
     },
     "metadata": {
      "needs_background": "light"
     },
     "output_type": "display_data"
    }
   ],
   "source": [
    "i=0\n",
    "for i in range(len(height)):\n",
    "    std = (height[i]-100)*0.85\n",
    "    bmi = weight[i]/std*100\n",
    "    if bmi <= 90:\n",
    "        plt.scatter(height[i],weight[i],c='y',s=100)\n",
    "        plt.text(height[i],weight[i],'저체중')\n",
    "\n",
    "    elif 91<= bmi <= 110:\n",
    "        plt.scatter(height[i],weight[i],c='b',s=150)\n",
    "        plt.text(height[i],weight[i],'정상')\n",
    "\n",
    "    elif 111 <= bmi <= 120:\n",
    "        plt.scatter(height[i],weight[i],c='c',s=200)\n",
    "        plt.text(height[i],weight[i],'과체중')\n",
    "\n",
    "    elif bmi >= 121:\n",
    "        plt.scatter(height[i],weight[i],c='r',s=300)\n",
    "        plt.text(height[i],weight[i],'비만')\n",
    "    i+=1\n",
    "plt.show()"
   ]
  },
  {
   "cell_type": "code",
   "execution_count": null,
   "id": "8fda96a2",
   "metadata": {},
   "outputs": [],
   "source": []
  },
  {
   "cell_type": "code",
   "execution_count": null,
   "id": "fae28d89",
   "metadata": {},
   "outputs": [],
   "source": []
  }
 ],
 "metadata": {
  "kernelspec": {
   "display_name": "Python 3",
   "language": "python",
   "name": "python3"
  },
  "language_info": {
   "codemirror_mode": {
    "name": "ipython",
    "version": 3
   },
   "file_extension": ".py",
   "mimetype": "text/x-python",
   "name": "python",
   "nbconvert_exporter": "python",
   "pygments_lexer": "ipython3",
   "version": "3.8.8"
  }
 },
 "nbformat": 4,
 "nbformat_minor": 5
}
