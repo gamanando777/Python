{
 "cells": [
  {
   "cell_type": "code",
   "execution_count": 12,
   "id": "c0a137d6",
   "metadata": {},
   "outputs": [],
   "source": [
    "import numpy as np"
   ]
  },
  {
   "cell_type": "code",
   "execution_count": 13,
   "id": "ca0f90f4",
   "metadata": {},
   "outputs": [
    {
     "data": {
      "text/plain": [
       "array([('강남구', 2780, 1292, 430, 584, 932),\n",
       "       ('강동구',  773,  379,  99, 155, 377),\n",
       "       ('강북구',  748,  369, 120, 138, 204),\n",
       "       ('강서구',  884,  388, 258, 184,  81),\n",
       "       ('관악구', 1496,  846, 260, 390, 613),\n",
       "       ('광진구',  707,  573,  78,  53, 174),\n",
       "       ('구로구', 1561, 1142, 173, 246, 323),\n",
       "       ('금천구', 1015,  674,  51, 269, 354),\n",
       "       ('노원구', 1265,  542,  57, 451, 516),\n",
       "       ('도봉구',  485,  238, 159,  42, 386),\n",
       "       ('동대문구', 1294, 1070,  23, 198, 579),\n",
       "       ('동작구', 1091,  544, 341, 103, 314),\n",
       "       ('마포구',  574,  314, 118, 169, 379),\n",
       "       ('서대문구',  962,  844,  50,  68, 292),\n",
       "       ('서초구', 1930, 1406, 157, 336, 398),\n",
       "       ('성동구', 1062,  730,  91, 241, 265),\n",
       "       ('성북구', 1464, 1009,  78, 360, 204),\n",
       "       ('송파구',  618,  529,  21,  68, 463),\n",
       "       ('양천구', 2034, 1843, 142,  30, 467),\n",
       "       ('영등포구',  904,  495, 214, 195, 373),\n",
       "       ('용산구', 1624, 1368, 218, 112, 398),\n",
       "       ('은평구', 1873, 1138, 224, 278, 468),\n",
       "       ('종로구', 1002,  464, 314, 211, 630),\n",
       "       ('중구',  671,  413, 190,  72, 348),\n",
       "       ('중랑구',  660,  509, 121, 177, 109)],\n",
       "      dtype=[('기관명', '<U4'), ('소계', '<i4'), ('2013년도_이전', '<i4'), ('2014년', '<i4'), ('2015년', '<i4'), ('2016년', '<i4')])"
      ]
     },
     "execution_count": 13,
     "metadata": {},
     "output_type": "execute_result"
    }
   ],
   "source": [
    "cctvArr = np.genfromtxt('data/CCTV_in_Seoul.csv',dtype=None,\n",
    "                        delimiter=',' ,encoding='UTF-8-sig',names=True)\n",
    "\n",
    "cctvArr"
   ]
  },
  {
   "cell_type": "code",
   "execution_count": 28,
   "id": "31781186",
   "metadata": {},
   "outputs": [],
   "source": [
    "import matplotlib.pyplot as plt\n",
    "import matplotlib\n",
    "\n",
    "matplotlib.rcParams['font.family']='Malgun Gothic'\n",
    "matplotlib.rcParams['axes.unicode_minus'] = False"
   ]
  },
  {
   "cell_type": "code",
   "execution_count": null,
   "id": "863d6f59",
   "metadata": {},
   "outputs": [],
   "source": []
  },
  {
   "cell_type": "code",
   "execution_count": 82,
   "id": "2a5b8995",
   "metadata": {
    "scrolled": true
   },
   "outputs": [
    {
     "name": "stdout",
     "output_type": "stream",
     "text": [
      "기관명\t\t소계\t\t결과\n",
      "==================================================\n",
      "강남구             2780        많음\n",
      "강동구              773        적음\n",
      "강북구              748        적음\n",
      "강서구              884        적음\n",
      "관악구             1496        보통\n",
      "광진구              707        적음\n",
      "구로구             1561        보통\n",
      "금천구             1015        보통\n",
      "노원구             1265        보통\n",
      "도봉구              485        적음\n",
      "동대문구            1294        보통\n",
      "동작구             1091        보통\n",
      "마포구              574        적음\n",
      "서대문구             962        적음\n",
      "서초구             1930        보통\n",
      "성동구             1062        보통\n",
      "성북구             1464        보통\n",
      "송파구              618        적음\n",
      "양천구             2034        많음\n",
      "영등포구             904        적음\n",
      "용산구             1624        보통\n",
      "은평구             1873        보통\n",
      "종로구             1002        보통\n",
      "중구               671        적음\n",
      "중랑구              660        적음\n"
     ]
    }
   ],
   "source": [
    "# 서울구별 cctv 갯수가 2000개 이상이면 '많음', 1000개 미만이면 ' 적음', \n",
    "# 그 외에는 '보통'으로 나타내라\n",
    "\n",
    "condList = [cctvArr['소계']<1000,\n",
    "            (cctvArr['소계']>1000) & (cctvArr['소계']<2000),\n",
    "            cctvArr['소계']>=2000 ]\n",
    "choiceList = ['적음', '보통','많음']\n",
    "\n",
    "sel = np.select(condList, choiceList)\n",
    "\n",
    "print('기관명','소계','결과', sep='\\t\\t')\n",
    "print('='*50)\n",
    "for a,b,c in zip(cctvArr['기관명'],cctvArr['소계'],sel):\n",
    "    print(f'{a:10}{b:10}{c:>10}')"
   ]
  },
  {
   "cell_type": "code",
   "execution_count": null,
   "id": "b0c39126",
   "metadata": {},
   "outputs": [],
   "source": []
  },
  {
   "cell_type": "code",
   "execution_count": 29,
   "id": "5a76d8f7",
   "metadata": {},
   "outputs": [
    {
     "data": {
      "image/png": "[encoded data removed]",
      "text/plain": [
       "<Figure size 432x288 with 1 Axes>"
      ]
     },
     "metadata": {
      "needs_background": "light"
     },
     "output_type": "display_data"
    }
   ],
   "source": [
    "#  년도별 cctv 평균 설치 갯수 및 그래프\n",
    "\n",
    "mean_14 = cctvArr['2014년'].mean()\n",
    "mean_15 = cctvArr['2015년'].mean()\n",
    "mean_16 = cctvArr['2016년'].mean()\n",
    "dx = ['2014년','2015년','2016년']\n",
    "dy = [mean_14,mean_15,mean_16]\n",
    "plt.title('서울시 연도별 평균 cctv 설치 대수')\n",
    "plt.xlabel('연도')\n",
    "plt.plot(dx,dy,'g-o')\n",
    "plt.legend(['평균 증가수'])\n",
    "plt.show()"
   ]
  },
  {
   "cell_type": "code",
   "execution_count": null,
   "id": "986ee5b8",
   "metadata": {},
   "outputs": [],
   "source": []
  },
  {
   "cell_type": "code",
   "execution_count": null,
   "id": "6716a19c",
   "metadata": {},
   "outputs": [],
   "source": [
    "# top5를 구하여라"
   ]
  },
  {
   "cell_type": "code",
   "execution_count": 87,
   "id": "f13c6337",
   "metadata": {},
   "outputs": [
    {
     "name": "stdout",
     "output_type": "stream",
     "text": [
      "기관명\t소계\n",
      "===============\n",
      "강남구\t2780\n",
      "양천구\t2034\n",
      "서초구\t1930\n",
      "은평구\t1873\n",
      "용산구\t1624\n"
     ]
    }
   ],
   "source": [
    "a = np.argsort(cctvArr['소계'], axis=0)[:-6:-1]\n",
    "print('기관명','소계',sep='\\t')\n",
    "print('='*15)\n",
    "for i in cctvArr[a]:\n",
    "    print(i[0],i[1],sep='\\t')"
   ]
  },
  {
   "cell_type": "code",
   "execution_count": null,
   "id": "0a8ce1bb",
   "metadata": {},
   "outputs": [],
   "source": []
  },
  {
   "cell_type": "code",
   "execution_count": 44,
   "id": "149a2cb5",
   "metadata": {},
   "outputs": [
    {
     "data": {
      "image/png": "[encoded data removed]",
      "text/plain": [
       "<Figure size 432x288 with 1 Axes>"
      ]
     },
     "metadata": {
      "needs_background": "light"
     },
     "output_type": "display_data"
    }
   ],
   "source": [
    "#갯수가 적은 순으로 표시\n",
    "a= np.argsort(cctvArr['소계'], axis=0)[::-1]\n",
    "dy = cctvArr[a]['소계']\n",
    "dx = cctvArr[a]['기관명']\n",
    "plt.xticks(rotation=48)\n",
    "plt.title('서울시 cctv 갯수')\n",
    "plt.xlabel('갯수')\n",
    "plt.plot(dx,dy,'g-o')\n",
    "plt.legend(['갯수'])\n",
    "plt.show()"
   ]
  },
  {
   "cell_type": "code",
   "execution_count": null,
   "id": "955b89e0",
   "metadata": {},
   "outputs": [],
   "source": []
  },
  {
   "cell_type": "code",
   "execution_count": 139,
   "id": "f9fc6119",
   "metadata": {},
   "outputs": [
    {
     "data": {
      "text/plain": [
       "array([  59.59,  143.23,   47.83,  -55.98,   57.18,  228.3 ,   31.3 ,\n",
       "         31.6 ,   14.41,  819.05,  192.42,  204.85,  124.26,  329.41,\n",
       "         18.45,    9.96,  -43.33,  580.88, 1456.67,   91.28,  255.36,\n",
       "         68.35,  198.58,  383.33,  -38.42])"
      ]
     },
     "execution_count": 139,
     "metadata": {},
     "output_type": "execute_result"
    }
   ],
   "source": [
    "# 2016년 전년대비 증가율 알아보자!\n",
    "c15 = cctvArr['2015년']\n",
    "c16 = cctvArr['2016년']\n",
    "(c16-c15)/c15*100\n",
    "ratio = (c16-c15)/c15*100\n",
    "ratio.round(2)"
   ]
  },
  {
   "cell_type": "code",
   "execution_count": 148,
   "id": "49e9d8a9",
   "metadata": {},
   "outputs": [
    {
     "name": "stdout",
     "output_type": "stream",
     "text": [
      "기관명\t\t2015년\t\t2016년\t\t증가율\n",
      "============================================================\n",
      "강남구              584          932            59.59,%\n",
      "강동구              155          377           143.23,%\n",
      "강북구              138          204            47.83,%\n",
      "강서구              184           81           -55.98,%\n",
      "관악구              390          613            57.18,%\n",
      "광진구               53          174            228.3,%\n",
      "구로구              246          323             31.3,%\n",
      "금천구              269          354             31.6,%\n",
      "노원구              451          516            14.41,%\n",
      "도봉구               42          386           819.05,%\n",
      "동대문구             198          579           192.42,%\n",
      "동작구              103          314           204.85,%\n",
      "마포구              169          379           124.26,%\n",
      "서대문구              68          292           329.41,%\n",
      "서초구              336          398            18.45,%\n",
      "성동구              241          265             9.96,%\n",
      "성북구              360          204           -43.33,%\n",
      "송파구               68          463           580.88,%\n",
      "양천구               30          467          1456.67,%\n",
      "영등포구             195          373            91.28,%\n",
      "용산구              112          398           255.36,%\n",
      "은평구              278          468            68.35,%\n",
      "종로구              211          630           198.58,%\n",
      "중구                72          348           383.33,%\n",
      "중랑구              177          109           -38.42,%\n"
     ]
    }
   ],
   "source": [
    "print('기관명','2015년','2016년','증가율',sep='\\t\\t')\n",
    "print('='*60)\n",
    "for a,b,c,d in zip(cctvArr['기관명'],c15,c16,ratio.round(2)):\n",
    "    print(f'{a:10}{b:10}{c:13}{d:>17},%')"
   ]
  },
  {
   "cell_type": "code",
   "execution_count": 155,
   "id": "3afca804",
   "metadata": {},
   "outputs": [
    {
     "data": {
      "text/plain": [
       "array([1456.67,  819.05,  580.88,  383.33,  329.41])"
      ]
     },
     "execution_count": 155,
     "metadata": {},
     "output_type": "execute_result"
    }
   ],
   "source": [
    "r = np.sort(ratio.round(2))[:-6:-1]\n",
    "r"
   ]
  },
  {
   "cell_type": "code",
   "execution_count": 157,
   "id": "10259c3d",
   "metadata": {},
   "outputs": [
    {
     "name": "stdout",
     "output_type": "stream",
     "text": [
      "강남구 1456.67\n",
      "강동구 819.05\n",
      "강북구 580.88\n",
      "강서구 383.33\n",
      "관악구 329.41\n"
     ]
    }
   ],
   "source": [
    "for a,b in zip(cctvArr['기관명'],r):\n",
    "    print(a,b)\n",
    "\n",
    "#r과 기관명 매치시키는 방법을 모르겠음"
   ]
  },
  {
   "cell_type": "code",
   "execution_count": null,
   "id": "7b92e32a",
   "metadata": {},
   "outputs": [],
   "source": []
  },
  {
   "cell_type": "code",
   "execution_count": null,
   "id": "e955af79",
   "metadata": {},
   "outputs": [],
   "source": []
  },
  {
   "cell_type": "code",
   "execution_count": null,
   "id": "ba758e7b",
   "metadata": {},
   "outputs": [],
   "source": []
  },
  {
   "cell_type": "code",
   "execution_count": 64,
   "id": "5d5509d6",
   "metadata": {},
   "outputs": [
    {
     "data": {
      "image/png": "[encoded data removed]",
      "text/plain": [
       "<Figure size 432x288 with 1 Axes>"
      ]
     },
     "metadata": {
      "needs_background": "light"
     },
     "output_type": "display_data"
    }
   ],
   "source": [
    "#도봉구와 강남구 cctv 비교\n",
    "\n",
    "a= np.argsort(cctvArr['소계'], axis=0)\n",
    "do_14 = cctvArr[a[0]]['2014년']\n",
    "do_15 = cctvArr[a[0]]['2015년']\n",
    "do_16 = cctvArr[a[0]]['2016년']\n",
    "ga_14 = cctvArr[a[-1]]['2014년']\n",
    "ga_15 = cctvArr[a[-1]]['2015년']\n",
    "ga_16 = cctvArr[a[-1]]['2016년']\n",
    "vy = [cctvArr[a[0]]['소계']/10,cctvArr[a[-1]]['소계']/10]\n",
    "vx = ['도봉구','강남구']\n",
    "dx = ['2014년','2015년','2016년']\n",
    "dy = [do_14,do_15,do_16]\n",
    "dy1 = [ga_14,ga_15,ga_16]\n",
    "plt.title('도봉구와 강남구 cctv 비교')\n",
    "plt.xlabel('연도')\n",
    "plt.bar(vx, vy)\n",
    "plt.plot(dx,dy,'g-o')\n",
    "plt.plot(dx,dy1,'r-o')\n",
    "plt.legend(['도봉구','강남구','실제크기 /10'])\n",
    "plt.show()"
   ]
  },
  {
   "cell_type": "code",
   "execution_count": null,
   "id": "58d42207",
   "metadata": {},
   "outputs": [],
   "source": []
  },
  {
   "cell_type": "code",
   "execution_count": 88,
   "id": "93185a21",
   "metadata": {},
   "outputs": [
    {
     "data": {
      "text/plain": [
       "array([[2780,  430],\n",
       "       [ 773,   99],\n",
       "       [ 748,  120],\n",
       "       [ 884,  258],\n",
       "       [1496,  260],\n",
       "       [ 707,   78],\n",
       "       [1561,  173],\n",
       "       [1015,   51],\n",
       "       [1265,   57],\n",
       "       [ 485,  159],\n",
       "       [1294,   23],\n",
       "       [1091,  341],\n",
       "       [ 574,  118],\n",
       "       [ 962,   50],\n",
       "       [1930,  157],\n",
       "       [1062,   91],\n",
       "       [1464,   78],\n",
       "       [ 618,   21],\n",
       "       [2034,  142],\n",
       "       [ 904,  214],\n",
       "       [1624,  218],\n",
       "       [1873,  224],\n",
       "       [1002,  314],\n",
       "       [ 671,  190],\n",
       "       [ 660,  121]])"
      ]
     },
     "execution_count": 88,
     "metadata": {},
     "output_type": "execute_result"
    }
   ],
   "source": [
    "# 복수개의 컬럼선택 참고\n",
    "aa = cctvArr[['소계','2014년']]\n",
    "np.array(aa.tolist()) "
   ]
  },
  {
   "cell_type": "code",
   "execution_count": null,
   "id": "8c345a02",
   "metadata": {},
   "outputs": [],
   "source": []
  },
  {
   "cell_type": "code",
   "execution_count": null,
   "id": "c9032d23",
   "metadata": {},
   "outputs": [],
   "source": []
  },
  {
   "cell_type": "code",
   "execution_count": null,
   "id": "452cc6bd",
   "metadata": {},
   "outputs": [],
   "source": []
  }
 ],
 "metadata": {
  "kernelspec": {
   "display_name": "Python 3",
   "language": "python",
   "name": "python3"
  },
  "language_info": {
   "codemirror_mode": {
    "name": "ipython",
    "version": 3
   },
   "file_extension": ".py",
   "mimetype": "text/x-python",
   "name": "python",
   "nbconvert_exporter": "python",
   "pygments_lexer": "ipython3",
   "version": "3.8.8"
  }
 },
 "nbformat": 4,
 "nbformat_minor": 5
}
