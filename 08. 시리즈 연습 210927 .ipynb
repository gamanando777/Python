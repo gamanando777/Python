{
 "cells": [
  {
   "cell_type": "code",
   "execution_count": 1,
   "id": "d0c52c5d",
   "metadata": {},
   "outputs": [],
   "source": [
    "import pandas as pd\n",
    "import numpy as np\n",
    "import matplotlib.pyplot as plt\n",
    "\n",
    "import matplotlib\n",
    "matplotlib.rcParams['font.family']='Malgun Gothic'\n",
    "matplotlib.rcParams['axes.unicode_minus'] = False\n"
   ]
  },
  {
   "cell_type": "code",
   "execution_count": 2,
   "id": "7501f9ed",
   "metadata": {},
   "outputs": [
    {
     "data": {
      "text/plain": [
       "홍길동     90\n",
       "이순신     90\n",
       "임꺽정     55\n",
       "정난정     60\n",
       "이이      76\n",
       "이황      80\n",
       "정도전     76\n",
       "김철수1    88\n",
       "김철수2    30\n",
       "김철수3    25\n",
       "Name: 국어점수, dtype: int64"
      ]
     },
     "execution_count": 2,
     "metadata": {},
     "output_type": "execute_result"
    }
   ],
   "source": [
    "sr = pd.Series( [90,90,55,60,76,80,76,88,30,25],\n",
    "               name=\"국어점수\" )\n",
    "sr.index=['홍길동','이순신','임꺽정','정난정',\n",
    "         '이이','이황','정도전','김철수1',\n",
    "          '김철수2','김철수3']\n",
    "sr\n"
   ]
  },
  {
   "cell_type": "markdown",
   "id": "039916d7",
   "metadata": {},
   "source": [
    "***"
   ]
  },
  {
   "cell_type": "raw",
   "id": "43df7164",
   "metadata": {},
   "source": [
    "( 연습문제 )\n",
    "1. 국어점수가 가장큰값을 구하시요\n",
    "2. 국어점수가 가장큰값의 이름을 구하시요\n",
    "3. 국어점수가 80점이상인 값을 구하시요\n",
    "4. 국어 점수가 50점이상 80점이하인 값을 구하시요\n",
    "5. 이름이 김으로 시작하는 데이터를 구하시요\n"
   ]
  },
  {
   "cell_type": "code",
   "execution_count": 3,
   "id": "3bffd572",
   "metadata": {},
   "outputs": [
    {
     "data": {
      "text/plain": [
       "90"
      ]
     },
     "execution_count": 3,
     "metadata": {},
     "output_type": "execute_result"
    }
   ],
   "source": [
    "#1 국어점수가 가장큰값을 구하시요\n",
    "sr.max()"
   ]
  },
  {
   "cell_type": "code",
   "execution_count": 23,
   "id": "76d9f986",
   "metadata": {},
   "outputs": [
    {
     "data": {
      "text/plain": [
       "Index(['홍길동', '이순신'], dtype='object')"
      ]
     },
     "execution_count": 23,
     "metadata": {},
     "output_type": "execute_result"
    }
   ],
   "source": [
    "#2 국어점수가 가장큰값의 이름을 구하시요\n",
    "sr[sr == sr.max()].index\n",
    "sr.nlargest(n=1,keep='all').index"
   ]
  },
  {
   "cell_type": "code",
   "execution_count": 19,
   "id": "9738aa9f",
   "metadata": {},
   "outputs": [
    {
     "data": {
      "text/plain": [
       "홍길동     90\n",
       "이순신     90\n",
       "이황      80\n",
       "김철수1    88\n",
       "Name: 국어점수, dtype: int64"
      ]
     },
     "execution_count": 19,
     "metadata": {},
     "output_type": "execute_result"
    }
   ],
   "source": [
    "#3 국어점수가 80점이상인 값을 구하시요\n",
    "sr[sr >=80]"
   ]
  },
  {
   "cell_type": "code",
   "execution_count": 7,
   "id": "3f6064d9",
   "metadata": {},
   "outputs": [
    {
     "data": {
      "text/plain": [
       "임꺽정    55\n",
       "정난정    60\n",
       "이이     76\n",
       "이황     80\n",
       "정도전    76\n",
       "Name: 국어점수, dtype: int64"
      ]
     },
     "execution_count": 7,
     "metadata": {},
     "output_type": "execute_result"
    }
   ],
   "source": [
    "#4 국어 점수가 50점이상 80점이하인 값을 구하시요\n",
    "sr[sr.between(50,80)]"
   ]
  },
  {
   "cell_type": "code",
   "execution_count": 24,
   "id": "b1969f6d",
   "metadata": {},
   "outputs": [
    {
     "data": {
      "text/plain": [
       "김철수1    88\n",
       "김철수2    30\n",
       "김철수3    25\n",
       "Name: 국어점수, dtype: int64"
      ]
     },
     "execution_count": 24,
     "metadata": {},
     "output_type": "execute_result"
    }
   ],
   "source": [
    "#5 이름이 김으로 시작하는 데이터를 구하시요\n",
    "sr[sr.index.str.contains('^김')]\n",
    "sr[sr.index.str.startswith('김')]"
   ]
  },
  {
   "cell_type": "markdown",
   "id": "7512eff6",
   "metadata": {},
   "source": [
    "***"
   ]
  },
  {
   "cell_type": "code",
   "execution_count": null,
   "id": "674b17e3",
   "metadata": {},
   "outputs": [],
   "source": [
    "6. 국어점수의 평균을 구하시요\n",
    "7. 국어점수의 총합을 구하시요\n",
    "8. 국어점수의 표준편차를 구하시요\n",
    "9. 국어점수가 40점이하인 데이터를 삭제하시요\n",
    "10. 국어점수가 50점이상인 데이터에 가산점 10%를 \n",
    "미만인경우는 20%를 부여하시요\n"
   ]
  },
  {
   "cell_type": "code",
   "execution_count": 25,
   "id": "19419bc8",
   "metadata": {},
   "outputs": [
    {
     "data": {
      "text/plain": [
       "67.0"
      ]
     },
     "execution_count": 25,
     "metadata": {},
     "output_type": "execute_result"
    }
   ],
   "source": [
    "#6\n",
    "sr.mean()"
   ]
  },
  {
   "cell_type": "code",
   "execution_count": 26,
   "id": "faa55d69",
   "metadata": {},
   "outputs": [
    {
     "data": {
      "text/plain": [
       "670"
      ]
     },
     "execution_count": 26,
     "metadata": {},
     "output_type": "execute_result"
    }
   ],
   "source": [
    "#7\n",
    "sr.sum()"
   ]
  },
  {
   "cell_type": "code",
   "execution_count": 27,
   "id": "1a7a4094",
   "metadata": {},
   "outputs": [
    {
     "data": {
      "text/plain": [
       "23.935097428021656"
      ]
     },
     "execution_count": 27,
     "metadata": {},
     "output_type": "execute_result"
    }
   ],
   "source": [
    "#8\n",
    "sr.std()"
   ]
  },
  {
   "cell_type": "code",
   "execution_count": 31,
   "id": "9ee481b0",
   "metadata": {},
   "outputs": [
    {
     "data": {
      "text/plain": [
       "홍길동     90\n",
       "이순신     90\n",
       "임꺽정     55\n",
       "정난정     60\n",
       "이이      76\n",
       "이황      80\n",
       "정도전     76\n",
       "김철수1    88\n",
       "Name: 국어점수, dtype: int64"
      ]
     },
     "execution_count": 31,
     "metadata": {},
     "output_type": "execute_result"
    }
   ],
   "source": [
    "#9\n",
    "sr.drop(sr[sr<=40].index)\n",
    "sr"
   ]
  },
  {
   "cell_type": "code",
   "execution_count": 35,
   "id": "67b42bdb",
   "metadata": {},
   "outputs": [],
   "source": [
    "# 10 국어점수가 50점이상인 데이터에 가산점 10%를 미만인경우는 20%를 부여하시요\n",
    "\n",
    "def fn(v):\n",
    "    if v >=50:\n",
    "        return v*1.1\n",
    "    else:\n",
    "        return v*1.2\n"
   ]
  },
  {
   "cell_type": "code",
   "execution_count": 38,
   "id": "8c8bae1b",
   "metadata": {},
   "outputs": [
    {
     "data": {
      "text/plain": [
       "홍길동     99.0\n",
       "이순신     99.0\n",
       "임꺽정     60.5\n",
       "정난정     66.0\n",
       "이이      83.6\n",
       "이황      88.0\n",
       "정도전     83.6\n",
       "김철수1    96.8\n",
       "Name: 국어점수, dtype: float64"
      ]
     },
     "execution_count": 38,
     "metadata": {},
     "output_type": "execute_result"
    }
   ],
   "source": [
    "sr.apply(fn)"
   ]
  },
  {
   "cell_type": "code",
   "execution_count": null,
   "id": "6b800a9c",
   "metadata": {},
   "outputs": [],
   "source": [
    "sr.apply(lambda v:v*1.1 if v >=50 else v*1.2)"
   ]
  }
 ],
 "metadata": {
  "kernelspec": {
   "display_name": "Python 3",
   "language": "python",
   "name": "python3"
  },
  "language_info": {
   "codemirror_mode": {
    "name": "ipython",
    "version": 3
   },
   "file_extension": ".py",
   "mimetype": "text/x-python",
   "name": "python",
   "nbconvert_exporter": "python",
   "pygments_lexer": "ipython3",
   "version": "3.8.8"
  }
 },
 "nbformat": 4,
 "nbformat_minor": 5
}
