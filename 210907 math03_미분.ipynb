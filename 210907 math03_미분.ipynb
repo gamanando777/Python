{
 "cells": [
  {
   "cell_type": "markdown",
   "id": "2f304c8d",
   "metadata": {},
   "source": [
    "# 미분"
   ]
  },
  {
   "cell_type": "markdown",
   "id": "989a1dbf",
   "metadata": {},
   "source": [
    "## 평균변화율을 반환하는 함수 정의"
   ]
  },
  {
   "cell_type": "code",
   "execution_count": 1,
   "id": "db2ac58b",
   "metadata": {},
   "outputs": [],
   "source": [
    "# 라이브러리 임포트 \n",
    "import sympy \n",
    "import numpy as np"
   ]
  },
  {
   "cell_type": "markdown",
   "id": "b88a2b4d",
   "metadata": {},
   "source": [
    "$ f(x) = 2x^2 + 4x + 7 $"
   ]
  },
  {
   "cell_type": "code",
   "execution_count": 4,
   "id": "ff1b90d0",
   "metadata": {},
   "outputs": [],
   "source": [
    "# 평균변화율을 구하는 함수 정의\n",
    "def average(a,b):\n",
    "    # 큰 수와 작은 수를 별도 변수로 정의\n",
    "    m = max(a,b)\n",
    "    n = min(a,b)\n",
    "    \n",
    "    # x 기호화. x에 대입할 수 있게 해줌\n",
    "    x = sympy.symbols('x')\n",
    "    \n",
    "    fx = 2*x**2 + 4*x + 7\n",
    "    fb = fx.subs(x, m) # x에 m을 대입\n",
    "    fa = fx.subs(x, n) # x에 n을 대입\n",
    "    # print(fb,fa)\n",
    "    \n",
    "    result = (fb-fa)/(m-n)\n",
    "    return result"
   ]
  },
  {
   "cell_type": "code",
   "execution_count": 5,
   "id": "cc1b3370",
   "metadata": {},
   "outputs": [
    {
     "data": {
      "text/latex": [
       "$\\displaystyle 8$"
      ],
      "text/plain": [
       "8"
      ]
     },
     "execution_count": 5,
     "metadata": {},
     "output_type": "execute_result"
    }
   ],
   "source": [
    "# 두 점 (0,7) 와 (2,23)의 평균변화율은?\n",
    "average(0,2)"
   ]
  },
  {
   "cell_type": "markdown",
   "id": "93269ade",
   "metadata": {},
   "source": [
    "# 미분계수 구하기\n",
    "\n",
    "- sympy.Derivative(함수식, x).doit()\n",
    "- sympy.diff(함수식,x)"
   ]
  },
  {
   "cell_type": "code",
   "execution_count": 6,
   "id": "c8746d57",
   "metadata": {},
   "outputs": [],
   "source": [
    "# 기호변수 정의\n",
    "x = sympy.symbols('x')\n",
    "# 함수식 정의\n",
    "fx = 2*x**2 +4*x +7"
   ]
  },
  {
   "cell_type": "code",
   "execution_count": 7,
   "id": "2e5488d2",
   "metadata": {},
   "outputs": [
    {
     "data": {
      "text/latex": [
       "$\\displaystyle 2 x^{2} + 4 x + 7$"
      ],
      "text/plain": [
       "2*x**2 + 4*x + 7"
      ]
     },
     "execution_count": 7,
     "metadata": {},
     "output_type": "execute_result"
    }
   ],
   "source": [
    "fx"
   ]
  },
  {
   "cell_type": "code",
   "execution_count": 8,
   "id": "9832fc19",
   "metadata": {},
   "outputs": [
    {
     "data": {
      "text/latex": [
       "$\\displaystyle 4 x + 4$"
      ],
      "text/plain": [
       "4*x + 4"
      ]
     },
     "execution_count": 8,
     "metadata": {},
     "output_type": "execute_result"
    }
   ],
   "source": [
    "# x 에 대한 미분 => 도함수\n",
    "fprime = sympy.Derivative(fx, x).doit()\n",
    "fprime"
   ]
  },
  {
   "cell_type": "code",
   "execution_count": 9,
   "id": "08211681",
   "metadata": {},
   "outputs": [
    {
     "data": {
      "text/latex": [
       "$\\displaystyle 16$"
      ],
      "text/plain": [
       "16"
      ]
     },
     "execution_count": 9,
     "metadata": {},
     "output_type": "execute_result"
    }
   ],
   "source": [
    "# 특정 x에 대한 해 구하기 => 미분계수 \n",
    "fprime.subs(x,3)"
   ]
  },
  {
   "cell_type": "markdown",
   "id": "c189ced7",
   "metadata": {},
   "source": [
    "### sympy.diff() 함수를 이용해서 도함수 구하기"
   ]
  },
  {
   "cell_type": "code",
   "execution_count": 10,
   "id": "9496aa83",
   "metadata": {},
   "outputs": [
    {
     "data": {
      "text/latex": [
       "$\\displaystyle 4 x + 4$"
      ],
      "text/plain": [
       "4*x + 4"
      ]
     },
     "execution_count": 10,
     "metadata": {},
     "output_type": "execute_result"
    }
   ],
   "source": [
    "# 기호변수 정의\n",
    "x = sympy.Symbol('x')\n",
    "# 함수식 정의 \n",
    "fx = 2*x**2 + 4*x + 7\n",
    "fprime2 = sympy.diff(fx, x)\n",
    "fprime2"
   ]
  },
  {
   "cell_type": "code",
   "execution_count": 11,
   "id": "ae674529",
   "metadata": {},
   "outputs": [
    {
     "data": {
      "text/latex": [
       "$\\displaystyle 16$"
      ],
      "text/plain": [
       "16"
      ]
     },
     "execution_count": 11,
     "metadata": {},
     "output_type": "execute_result"
    }
   ],
   "source": [
    "fprime2.subs(x,3)"
   ]
  },
  {
   "cell_type": "code",
   "execution_count": null,
   "id": "3530647e",
   "metadata": {},
   "outputs": [],
   "source": [
    "# 기호변수 정의\n",
    "x = sympy.Symbol('x')\n",
    "sympy.diff((2*x**2 + 4*x + 7), x)"
   ]
  },
  {
   "cell_type": "code",
   "execution_count": null,
   "id": "8e58d8f8",
   "metadata": {},
   "outputs": [],
   "source": [
    "# 미분계수 간략화"
   ]
  },
  {
   "cell_type": "code",
   "execution_count": null,
   "id": "a892489b",
   "metadata": {},
   "outputs": [],
   "source": []
  },
  {
   "cell_type": "code",
   "execution_count": null,
   "id": "b3c5acb2",
   "metadata": {},
   "outputs": [],
   "source": []
  },
  {
   "cell_type": "code",
   "execution_count": null,
   "id": "a53ae939",
   "metadata": {},
   "outputs": [],
   "source": []
  },
  {
   "cell_type": "code",
   "execution_count": null,
   "id": "763ac4fb",
   "metadata": {},
   "outputs": [],
   "source": []
  },
  {
   "cell_type": "code",
   "execution_count": null,
   "id": "111c836f",
   "metadata": {},
   "outputs": [],
   "source": []
  },
  {
   "cell_type": "code",
   "execution_count": null,
   "id": "e7a85a94",
   "metadata": {},
   "outputs": [],
   "source": []
  },
  {
   "cell_type": "code",
   "execution_count": null,
   "id": "69cf60c7",
   "metadata": {},
   "outputs": [],
   "source": []
  },
  {
   "cell_type": "code",
   "execution_count": null,
   "id": "64c74326",
   "metadata": {},
   "outputs": [],
   "source": []
  },
  {
   "cell_type": "code",
   "execution_count": null,
   "id": "a8aa10fc",
   "metadata": {},
   "outputs": [],
   "source": []
  }
 ],
 "metadata": {
  "kernelspec": {
   "display_name": "Python 3",
   "language": "python",
   "name": "python3"
  },
  "language_info": {
   "codemirror_mode": {
    "name": "ipython",
    "version": 3
   },
   "file_extension": ".py",
   "mimetype": "text/x-python",
   "name": "python",
   "nbconvert_exporter": "python",
   "pygments_lexer": "ipython3",
   "version": "3.8.8"
  }
 },
 "nbformat": 4,
 "nbformat_minor": 5
}
