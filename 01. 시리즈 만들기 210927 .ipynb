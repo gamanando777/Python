{
 "cells": [
  {
   "cell_type": "code",
   "execution_count": 1,
   "id": "62cf6ec6",
   "metadata": {},
   "outputs": [],
   "source": [
    "import pandas as pd\n",
    "import numpy as np"
   ]
  },
  {
   "cell_type": "code",
   "execution_count": 3,
   "id": "c36bb8a2",
   "metadata": {},
   "outputs": [],
   "source": [
    "# 1차원 데이터... (시리즈는 1차원 데이터만)\n",
    "myList = [10,20,30,40]\n",
    "t = (10,20,30,40)\n",
    "d = {'aa':10,'bb':20,'cc':30}\n",
    "arr = np.array([11,22,33,44])"
   ]
  },
  {
   "cell_type": "markdown",
   "id": "375e8a01",
   "metadata": {},
   "source": [
    "https://pandas.pydata.org/docs/reference/api/pandas.Series.html"
   ]
  },
  {
   "cell_type": "code",
   "execution_count": 9,
   "id": "c49419c9",
   "metadata": {},
   "outputs": [
    {
     "data": {
      "text/plain": [
       "aa    10\n",
       "bb    20\n",
       "cc    30\n",
       "dd    40\n",
       "Name: 국어점수, dtype: int32"
      ]
     },
     "execution_count": 9,
     "metadata": {},
     "output_type": "execute_result"
    }
   ],
   "source": [
    "# sr = pd.Series(data = myList, index= ['aa','bb','cc','dd'],\n",
    "#               dtype = np.int64) #기본값은 int64, 8바이트씩 할당\n",
    "# sr = pd.Series(data = myList, index= ['aa','bb','cc','dd'],\n",
    "#               dtype = np.int32) #4바이트씩 할당\n",
    "# sr = pd.Series( data=myList, index=['aa','bb','cc','dd'],\n",
    "#               dtype= np.float32)\n",
    "# sr = pd.Series( data=myList, index=['aa','bb','cc','dd'],\n",
    "#               dtype= np.str_)\n",
    "sr = pd.Series(data = myList, index= ['aa','bb','cc','dd'],\n",
    "               dtype = np.int32, name = '국어점수')\n",
    "\n",
    "sr"
   ]
  },
  {
   "cell_type": "code",
   "execution_count": 7,
   "id": "b5f2316d",
   "metadata": {},
   "outputs": [
    {
     "name": "stdout",
     "output_type": "stream",
     "text": [
      "<class 'pandas.core.series.Series'>\n"
     ]
    }
   ],
   "source": [
    "print(type(sr))"
   ]
  },
  {
   "cell_type": "code",
   "execution_count": 12,
   "id": "029fffde",
   "metadata": {},
   "outputs": [
    {
     "data": {
      "text/plain": [
       "0    10\n",
       "1    20\n",
       "2    30\n",
       "3    40\n",
       "Name: 국어점수, dtype: int64"
      ]
     },
     "execution_count": 12,
     "metadata": {},
     "output_type": "execute_result"
    }
   ],
   "source": [
    "sr1 = pd.Series(t,name = '국어점수')\n",
    "sr1"
   ]
  },
  {
   "cell_type": "code",
   "execution_count": 13,
   "id": "00d3793f",
   "metadata": {},
   "outputs": [
    {
     "data": {
      "text/plain": [
       "aa    10\n",
       "bb    20\n",
       "cc    30\n",
       "Name: 국어점수, dtype: int64"
      ]
     },
     "execution_count": 13,
     "metadata": {},
     "output_type": "execute_result"
    }
   ],
   "source": [
    "sr2 = pd.Series(d, name='국어점수') # 인덱스가 키값으로 자동 배정\n",
    "sr2"
   ]
  },
  {
   "cell_type": "code",
   "execution_count": 15,
   "id": "238fa4e7",
   "metadata": {},
   "outputs": [
    {
     "data": {
      "text/plain": [
       "0    11\n",
       "1    22\n",
       "2    33\n",
       "3    44\n",
       "Name: 국어점수, dtype: int32"
      ]
     },
     "execution_count": 15,
     "metadata": {},
     "output_type": "execute_result"
    }
   ],
   "source": [
    "sr3 = pd.Series(arr,name='국어점수')\n",
    "sr3"
   ]
  },
  {
   "cell_type": "code",
   "execution_count": null,
   "id": "5deea99c",
   "metadata": {},
   "outputs": [],
   "source": []
  },
  {
   "cell_type": "code",
   "execution_count": null,
   "id": "15095835",
   "metadata": {},
   "outputs": [],
   "source": []
  },
  {
   "cell_type": "code",
   "execution_count": null,
   "id": "c0d37ec5",
   "metadata": {},
   "outputs": [],
   "source": []
  },
  {
   "cell_type": "code",
   "execution_count": null,
   "id": "dd04947e",
   "metadata": {},
   "outputs": [],
   "source": []
  }
 ],
 "metadata": {
  "kernelspec": {
   "display_name": "Python 3",
   "language": "python",
   "name": "python3"
  },
  "language_info": {
   "codemirror_mode": {
    "name": "ipython",
    "version": 3
   },
   "file_extension": ".py",
   "mimetype": "text/x-python",
   "name": "python",
   "nbconvert_exporter": "python",
   "pygments_lexer": "ipython3",
   "version": "3.8.8"
  }
 },
 "nbformat": 4,
 "nbformat_minor": 5
}
